{
  "cells": [
    {
      "cell_type": "markdown",
      "metadata": {
        "id": "view-in-github",
        "colab_type": "text"
      },
      "source": [
        "<a href=\"https://colab.research.google.com/github/RozenkovAndrey/projects_of_yandex_practicum/blob/main/SQL_project_books/SQL_project_books.ipynb\" target=\"_parent\"><img src=\"https://colab.research.google.com/assets/colab-badge.svg\" alt=\"Open In Colab\"/></a>"
      ]
    },
    {
      "cell_type": "markdown",
      "metadata": {
        "id": "agWSY7F41t2s"
      },
      "source": [
        "# Что нужно учесть для создания нового сервиса и увеличения прибыли компании?Анализирую базы данных сервиса для чтения книг по подписке"
      ]
    },
    {
      "cell_type": "markdown",
      "metadata": {
        "id": "uzhl9kqG1Fmu"
      },
      "source": [
        "# Описание проекта"
      ]
    },
    {
      "cell_type": "markdown",
      "metadata": {
        "id": "P2DnucB81CMu"
      },
      "source": [
        "Короновирус изменил мышление людей и позволил быстрее адаптировать технологии для удалённой работы, где это возможно. У людей появилось больше времени. Раньше многие тратили время на дорогу, а теперь могут потратить на чтение книг. Это заметили стартаперы — и бросились создавать приложения для тех, кто любит читать. Ваша компания решила быть на волне и заработать, провела custdev пользователей сервисов по чтению книг, проанализировала бизнес и финансовую модели, финансовую отчётность сервиса для чтения книг по подписке и купила его. \n",
        "\n",
        "По определению стартап — это новый финансовый проект, цель которого — быстро окупить вложенные инвестиции и получить прибыль. Ваша первая задача как аналитика — проанализировать базу данных для ответа на вопросы, которые помогут повысить прибыль компании. В ней — информация о книгах, издательствах, авторах, а также пользовательские обзоры книг. Эти данные помогут сформулировать ценностное предложение для нового продукта."
      ]
    },
    {
      "cell_type": "markdown",
      "metadata": {
        "id": "zIeO3TE_zwU5"
      },
      "source": [
        "**Цель:**\n",
        "Проанализировать базу данных крупного сервиса для чтения книг по подписке.\n",
        "\n",
        "**Задачи по проекту:**\n",
        "\n",
        "- Посчитать, сколько книг вышло после 1 января 2000 года;\n",
        "- Для каждой книги посчитать количество обзоров и среднюю оценку;\n",
        "- Определить издательство, которое выпустило наибольшее число книг толще 50 страниц — так вы исключить из анализа брошюры;\n",
        "- Определить автора с самой высокой средней оценкой книг — учитывать только книги с 50 и более оценками;\n",
        "- Посчитайть среднее количество обзоров от пользователей, которые поставили больше 50 оценок."
      ]
    },
    {
      "cell_type": "code",
      "execution_count": null,
      "metadata": {
        "id": "ifWqy3BnkqpE"
      },
      "outputs": [],
      "source": [
        "# импортируем библиотеки\n",
        "import pandas as pd\n",
        "from sqlalchemy import create_engine\n",
        "import numpy as np\n",
        "import matplotlib.pyplot as plt"
      ]
    },
    {
      "cell_type": "code",
      "execution_count": null,
      "metadata": {
        "id": "3XTduvRK6GPF"
      },
      "outputs": [],
      "source": [
        "# устанавливаем параметры\n",
        "db_config = {'user': 'praktikum_student', # имя пользователя\n",
        "'pwd': 'Sdf4$2;d-d30pp', # пароль\n",
        "'host': 'rc1b-wcoijxj3yxfsf3fs.mdb.yandexcloud.net',\n",
        "'port': 6432, # порт подключения\n",
        "'db': 'data-analyst-final-project-db'} # название базы данных\n",
        "connection_string = 'postgresql://{}:{}@{}:{}/{}'.format(db_config['user'],\n",
        " db_config['pwd'],\n",
        " db_config['host'],\n",
        " db_config['port'],\n",
        " db_config['db'])\n",
        "# сохраняем коннектор\n",
        "engine = create_engine(connection_string, connect_args={'sslmode':'require'})\n",
        "\n",
        "query = '''SELECT * FROM books''' \n",
        "\n",
        "# чтобы выполнить SQL-запрос, используем Pandas\n",
        "books = pd.io.sql.read_sql(query, con = engine)"
      ]
    },
    {
      "cell_type": "markdown",
      "metadata": {
        "id": "JR_Ebz1O-0bo"
      },
      "source": [
        "### Описание данных\n",
        "\n",
        "**Таблица `books`**\n",
        "\n",
        "Содержит данные о книгах:\n",
        "\n",
        "- `book_id` — идентификатор книги;\n",
        "- `author_id` — идентификатор автора;\n",
        "- `title` — название книги;\n",
        "- `num_pages` — количество страниц;\n",
        "- `publication_date` — дата публикации книги;\n",
        "- `publisher_id` — идентификатор издателя.\n",
        "\n",
        "**Таблица `authors`**\n",
        "\n",
        "Содержит данные об авторах:\n",
        "\n",
        "- `author_id` — идентификатор автора;\n",
        "- `author` — имя автора.\n",
        "\n",
        "**Таблица `publishers`**\n",
        "\n",
        "Содержит данные об издательствах:\n",
        "\n",
        "- `publisher_id` — идентификатор издательства;\n",
        "- `publisher` — название издательства;\n",
        "\n",
        "**Таблица `ratings`**\n",
        "\n",
        "Содержит данные о пользовательских оценках книг:\n",
        "\n",
        "- `rating_id` — идентификатор оценки;\n",
        "- `book_id` — идентификатор книги;\n",
        "- `username` — имя пользователя, оставившего оценку;\n",
        "- `rating` — оценка книги.\n",
        "\n",
        "**Таблица `reviews`**\n",
        "\n",
        "Содержит данные о пользовательских обзорах на книги:\n",
        "\n",
        "- `review_id` — идентификатор обзора;\n",
        "- `book_id` — идентификатор книги;\n",
        "- `username` — имя пользователя, написавшего обзор;\n",
        "- `text` — текст обзора."
      ]
    },
    {
      "cell_type": "markdown",
      "metadata": {
        "id": "EkqQWqsvbYRf"
      },
      "source": [
        "[Ссылка на ER-диаграмму со связью таблиц](https://drive.google.com/file/d/1294KgV1ZvJrajdXWkNJwJKWambKwkpnR/view?usp=share_link)"
      ]
    },
    {
      "cell_type": "markdown",
      "metadata": {
        "id": "_fQUMT_K_LI_"
      },
      "source": [
        "### Как выполнить задание?\n",
        "\n",
        "- Опишите цели исследования;\n",
        "- Исследуйте таблицы — выведите первые строки;\n",
        "- Сделайте по одному SQL-запросу для решения каждого задания;\n",
        "- Выведите результат каждого запроса в тетрадке;\n",
        "- Опишите выводы по каждой из решённых задач."
      ]
    },
    {
      "cell_type": "markdown",
      "metadata": {
        "id": "gnEdN8Iu-no_"
      },
      "source": [
        "### Задания\n",
        "\n",
        "- Посчитайте, сколько книг вышло после 1 января 2000 года;\n",
        "- Для каждой книги посчитайте количество обзоров и среднюю оценку;\n",
        "- Определите издательство, которое выпустило наибольшее число книг толще 50 страниц — так вы исключите из анализа брошюры;\n",
        "- Определите автора с самой высокой средней оценкой книг — учитывайте только книги с 50 и более оценками;\n",
        "- Посчитайте среднее количество обзоров от пользователей, которые поставили больше 50 оценок."
      ]
    },
    {
      "cell_type": "markdown",
      "metadata": {
        "id": "KPdOW1K9KWTB"
      },
      "source": [
        "# Задание 1\n",
        "\n",
        "Посчитайте, сколько книг вышло после 1 января 2000 года;"
      ]
    },
    {
      "cell_type": "code",
      "execution_count": null,
      "metadata": {
        "colab": {
          "base_uri": "https://localhost:8080/",
          "height": 424
        },
        "id": "fG3KAmQyKyuz",
        "outputId": "508419b9-9144-49a3-9cfe-835ee9183dd9"
      },
      "outputs": [
        {
          "data": {
            "text/html": [
              "<div>\n",
              "<style scoped>\n",
              "    .dataframe tbody tr th:only-of-type {\n",
              "        vertical-align: middle;\n",
              "    }\n",
              "\n",
              "    .dataframe tbody tr th {\n",
              "        vertical-align: top;\n",
              "    }\n",
              "\n",
              "    .dataframe thead th {\n",
              "        text-align: right;\n",
              "    }\n",
              "</style>\n",
              "<table border=\"1\" class=\"dataframe\">\n",
              "  <thead>\n",
              "    <tr style=\"text-align: right;\">\n",
              "      <th></th>\n",
              "      <th>book_id</th>\n",
              "      <th>author_id</th>\n",
              "      <th>title</th>\n",
              "      <th>num_pages</th>\n",
              "      <th>publication_date</th>\n",
              "      <th>publisher_id</th>\n",
              "    </tr>\n",
              "  </thead>\n",
              "  <tbody>\n",
              "    <tr>\n",
              "      <th>0</th>\n",
              "      <td>1</td>\n",
              "      <td>546</td>\n",
              "      <td>'Salem's Lot</td>\n",
              "      <td>594</td>\n",
              "      <td>2005-11-01</td>\n",
              "      <td>93</td>\n",
              "    </tr>\n",
              "    <tr>\n",
              "      <th>1</th>\n",
              "      <td>2</td>\n",
              "      <td>465</td>\n",
              "      <td>1 000 Places to See Before You Die</td>\n",
              "      <td>992</td>\n",
              "      <td>2003-05-22</td>\n",
              "      <td>336</td>\n",
              "    </tr>\n",
              "    <tr>\n",
              "      <th>2</th>\n",
              "      <td>3</td>\n",
              "      <td>407</td>\n",
              "      <td>13 Little Blue Envelopes (Little Blue Envelope...</td>\n",
              "      <td>322</td>\n",
              "      <td>2010-12-21</td>\n",
              "      <td>135</td>\n",
              "    </tr>\n",
              "    <tr>\n",
              "      <th>3</th>\n",
              "      <td>4</td>\n",
              "      <td>82</td>\n",
              "      <td>1491: New Revelations of the Americas Before C...</td>\n",
              "      <td>541</td>\n",
              "      <td>2006-10-10</td>\n",
              "      <td>309</td>\n",
              "    </tr>\n",
              "    <tr>\n",
              "      <th>4</th>\n",
              "      <td>5</td>\n",
              "      <td>125</td>\n",
              "      <td>1776</td>\n",
              "      <td>386</td>\n",
              "      <td>2006-07-04</td>\n",
              "      <td>268</td>\n",
              "    </tr>\n",
              "    <tr>\n",
              "      <th>...</th>\n",
              "      <td>...</td>\n",
              "      <td>...</td>\n",
              "      <td>...</td>\n",
              "      <td>...</td>\n",
              "      <td>...</td>\n",
              "      <td>...</td>\n",
              "    </tr>\n",
              "    <tr>\n",
              "      <th>995</th>\n",
              "      <td>996</td>\n",
              "      <td>571</td>\n",
              "      <td>Wyrd Sisters (Discworld  #6; Witches #2)</td>\n",
              "      <td>265</td>\n",
              "      <td>2001-02-06</td>\n",
              "      <td>147</td>\n",
              "    </tr>\n",
              "    <tr>\n",
              "      <th>996</th>\n",
              "      <td>997</td>\n",
              "      <td>454</td>\n",
              "      <td>Xenocide (Ender's Saga  #3)</td>\n",
              "      <td>592</td>\n",
              "      <td>1996-07-15</td>\n",
              "      <td>297</td>\n",
              "    </tr>\n",
              "    <tr>\n",
              "      <th>997</th>\n",
              "      <td>998</td>\n",
              "      <td>201</td>\n",
              "      <td>Year of Wonders</td>\n",
              "      <td>358</td>\n",
              "      <td>2002-04-30</td>\n",
              "      <td>212</td>\n",
              "    </tr>\n",
              "    <tr>\n",
              "      <th>998</th>\n",
              "      <td>999</td>\n",
              "      <td>94</td>\n",
              "      <td>You Suck (A Love Story  #2)</td>\n",
              "      <td>328</td>\n",
              "      <td>2007-01-16</td>\n",
              "      <td>331</td>\n",
              "    </tr>\n",
              "    <tr>\n",
              "      <th>999</th>\n",
              "      <td>1000</td>\n",
              "      <td>509</td>\n",
              "      <td>Zen and the Art of Motorcycle Maintenance: An ...</td>\n",
              "      <td>540</td>\n",
              "      <td>2006-04-25</td>\n",
              "      <td>143</td>\n",
              "    </tr>\n",
              "  </tbody>\n",
              "</table>\n",
              "<p>1000 rows × 6 columns</p>\n",
              "</div>"
            ],
            "text/plain": [
              "     book_id  author_id                                              title  \\\n",
              "0          1        546                                       'Salem's Lot   \n",
              "1          2        465                 1 000 Places to See Before You Die   \n",
              "2          3        407  13 Little Blue Envelopes (Little Blue Envelope...   \n",
              "3          4         82  1491: New Revelations of the Americas Before C...   \n",
              "4          5        125                                               1776   \n",
              "..       ...        ...                                                ...   \n",
              "995      996        571           Wyrd Sisters (Discworld  #6; Witches #2)   \n",
              "996      997        454                        Xenocide (Ender's Saga  #3)   \n",
              "997      998        201                                    Year of Wonders   \n",
              "998      999         94                        You Suck (A Love Story  #2)   \n",
              "999     1000        509  Zen and the Art of Motorcycle Maintenance: An ...   \n",
              "\n",
              "     num_pages publication_date  publisher_id  \n",
              "0          594       2005-11-01            93  \n",
              "1          992       2003-05-22           336  \n",
              "2          322       2010-12-21           135  \n",
              "3          541       2006-10-10           309  \n",
              "4          386       2006-07-04           268  \n",
              "..         ...              ...           ...  \n",
              "995        265       2001-02-06           147  \n",
              "996        592       1996-07-15           297  \n",
              "997        358       2002-04-30           212  \n",
              "998        328       2007-01-16           331  \n",
              "999        540       2006-04-25           143  \n",
              "\n",
              "[1000 rows x 6 columns]"
            ]
          },
          "execution_count": 3,
          "metadata": {},
          "output_type": "execute_result"
        }
      ],
      "source": [
        "sql = '''\n",
        "SELECT * FROM books \n",
        "  '''\n",
        "pd.io.sql.read_sql(sql, con = engine)"
      ]
    },
    {
      "cell_type": "code",
      "execution_count": null,
      "metadata": {
        "colab": {
          "base_uri": "https://localhost:8080/",
          "height": 81
        },
        "id": "9X_RpZOF-mul",
        "outputId": "3d43e4c9-f35f-4e7b-bee1-23c964ade530"
      },
      "outputs": [
        {
          "data": {
            "text/html": [
              "<div>\n",
              "<style scoped>\n",
              "    .dataframe tbody tr th:only-of-type {\n",
              "        vertical-align: middle;\n",
              "    }\n",
              "\n",
              "    .dataframe tbody tr th {\n",
              "        vertical-align: top;\n",
              "    }\n",
              "\n",
              "    .dataframe thead th {\n",
              "        text-align: right;\n",
              "    }\n",
              "</style>\n",
              "<table border=\"1\" class=\"dataframe\">\n",
              "  <thead>\n",
              "    <tr style=\"text-align: right;\">\n",
              "      <th></th>\n",
              "      <th>count</th>\n",
              "    </tr>\n",
              "  </thead>\n",
              "  <tbody>\n",
              "    <tr>\n",
              "      <th>0</th>\n",
              "      <td>819</td>\n",
              "    </tr>\n",
              "  </tbody>\n",
              "</table>\n",
              "</div>"
            ],
            "text/plain": [
              "   count\n",
              "0    819"
            ]
          },
          "execution_count": 4,
          "metadata": {},
          "output_type": "execute_result"
        }
      ],
      "source": [
        "sql1 = '''\n",
        "SELECT \n",
        "  COUNT(book_id) \n",
        "  FROM books\n",
        "  WHERE publication_date > '2000-01-01'\n",
        "  '''\n",
        "     \n",
        "pd.io.sql.read_sql(sql1, con = engine)"
      ]
    },
    {
      "cell_type": "markdown",
      "metadata": {
        "id": "Cbkv0BpH9cHl"
      },
      "source": [
        "**Вывод:** После 1 января 2000 года в каталог сервиса было добавлено 819 книг и брошюр."
      ]
    },
    {
      "cell_type": "markdown",
      "metadata": {
        "id": "M8pOA1imLWDh"
      },
      "source": [
        "# Задание 2\n",
        "\n",
        "Для каждой книги посчитайте количество обзоров и среднюю оценку;"
      ]
    },
    {
      "cell_type": "code",
      "execution_count": null,
      "metadata": {
        "colab": {
          "base_uri": "https://localhost:8080/",
          "height": 424
        },
        "id": "8bO2LecELjZK",
        "outputId": "1e469ed0-571f-4164-8c57-e36e99f0f52f"
      },
      "outputs": [
        {
          "data": {
            "text/html": [
              "<div>\n",
              "<style scoped>\n",
              "    .dataframe tbody tr th:only-of-type {\n",
              "        vertical-align: middle;\n",
              "    }\n",
              "\n",
              "    .dataframe tbody tr th {\n",
              "        vertical-align: top;\n",
              "    }\n",
              "\n",
              "    .dataframe thead th {\n",
              "        text-align: right;\n",
              "    }\n",
              "</style>\n",
              "<table border=\"1\" class=\"dataframe\">\n",
              "  <thead>\n",
              "    <tr style=\"text-align: right;\">\n",
              "      <th></th>\n",
              "      <th>book_id</th>\n",
              "      <th>title</th>\n",
              "      <th>review_cnt</th>\n",
              "      <th>middle_mark</th>\n",
              "    </tr>\n",
              "  </thead>\n",
              "  <tbody>\n",
              "    <tr>\n",
              "      <th>0</th>\n",
              "      <td>948</td>\n",
              "      <td>Twilight (Twilight  #1)</td>\n",
              "      <td>7</td>\n",
              "      <td>3.66</td>\n",
              "    </tr>\n",
              "    <tr>\n",
              "      <th>1</th>\n",
              "      <td>963</td>\n",
              "      <td>Water for Elephants</td>\n",
              "      <td>6</td>\n",
              "      <td>3.98</td>\n",
              "    </tr>\n",
              "    <tr>\n",
              "      <th>2</th>\n",
              "      <td>734</td>\n",
              "      <td>The Glass Castle</td>\n",
              "      <td>6</td>\n",
              "      <td>4.21</td>\n",
              "    </tr>\n",
              "    <tr>\n",
              "      <th>3</th>\n",
              "      <td>302</td>\n",
              "      <td>Harry Potter and the Prisoner of Azkaban (Harr...</td>\n",
              "      <td>6</td>\n",
              "      <td>4.41</td>\n",
              "    </tr>\n",
              "    <tr>\n",
              "      <th>4</th>\n",
              "      <td>695</td>\n",
              "      <td>The Curious Incident of the Dog in the Night-Time</td>\n",
              "      <td>6</td>\n",
              "      <td>4.08</td>\n",
              "    </tr>\n",
              "    <tr>\n",
              "      <th>...</th>\n",
              "      <td>...</td>\n",
              "      <td>...</td>\n",
              "      <td>...</td>\n",
              "      <td>...</td>\n",
              "    </tr>\n",
              "    <tr>\n",
              "      <th>995</th>\n",
              "      <td>83</td>\n",
              "      <td>Anne Rice's The Vampire Lestat: A Graphic Novel</td>\n",
              "      <td>0</td>\n",
              "      <td>3.67</td>\n",
              "    </tr>\n",
              "    <tr>\n",
              "      <th>996</th>\n",
              "      <td>808</td>\n",
              "      <td>The Natural Way to Draw</td>\n",
              "      <td>0</td>\n",
              "      <td>3.00</td>\n",
              "    </tr>\n",
              "    <tr>\n",
              "      <th>997</th>\n",
              "      <td>672</td>\n",
              "      <td>The Cat in the Hat and Other Dr. Seuss Favorites</td>\n",
              "      <td>0</td>\n",
              "      <td>5.00</td>\n",
              "    </tr>\n",
              "    <tr>\n",
              "      <th>998</th>\n",
              "      <td>221</td>\n",
              "      <td>Essential Tales and Poems</td>\n",
              "      <td>0</td>\n",
              "      <td>4.00</td>\n",
              "    </tr>\n",
              "    <tr>\n",
              "      <th>999</th>\n",
              "      <td>191</td>\n",
              "      <td>Disney's Beauty and the Beast (A Little Golden...</td>\n",
              "      <td>0</td>\n",
              "      <td>4.00</td>\n",
              "    </tr>\n",
              "  </tbody>\n",
              "</table>\n",
              "<p>1000 rows × 4 columns</p>\n",
              "</div>"
            ],
            "text/plain": [
              "     book_id                                              title  review_cnt  \\\n",
              "0        948                            Twilight (Twilight  #1)           7   \n",
              "1        963                                Water for Elephants           6   \n",
              "2        734                                   The Glass Castle           6   \n",
              "3        302  Harry Potter and the Prisoner of Azkaban (Harr...           6   \n",
              "4        695  The Curious Incident of the Dog in the Night-Time           6   \n",
              "..       ...                                                ...         ...   \n",
              "995       83    Anne Rice's The Vampire Lestat: A Graphic Novel           0   \n",
              "996      808                            The Natural Way to Draw           0   \n",
              "997      672   The Cat in the Hat and Other Dr. Seuss Favorites           0   \n",
              "998      221                          Essential Tales and Poems           0   \n",
              "999      191  Disney's Beauty and the Beast (A Little Golden...           0   \n",
              "\n",
              "     middle_mark  \n",
              "0           3.66  \n",
              "1           3.98  \n",
              "2           4.21  \n",
              "3           4.41  \n",
              "4           4.08  \n",
              "..           ...  \n",
              "995         3.67  \n",
              "996         3.00  \n",
              "997         5.00  \n",
              "998         4.00  \n",
              "999         4.00  \n",
              "\n",
              "[1000 rows x 4 columns]"
            ]
          },
          "execution_count": 5,
          "metadata": {},
          "output_type": "execute_result"
        }
      ],
      "source": [
        "sql2 = '''\n",
        "SELECT \n",
        "b.book_id, \n",
        "b.title,\n",
        "COUNT(DISTINCT re.review_id) as review_cnt,\n",
        "ROUND(AVG(r.rating),2) as middle_mark \n",
        "FROM books as b \n",
        "LEFT JOIN reviews as re ON b.book_id = re.book_id\n",
        "LEFT JOIN ratings as r ON b.book_id = r.book_id\n",
        "GROUP BY b.book_id, b.title\n",
        "ORDER BY review_cnt DESC\n",
        "'''\n",
        "# Вывожу датасет с количеством обзоров и средней оценкой\n",
        "cnt = pd.io.sql.read_sql(sql2, con = engine)\n",
        "cnt"
      ]
    },
    {
      "cell_type": "markdown",
      "metadata": {
        "id": "X8et8JkZBJu8"
      },
      "source": [
        "**Вывод:** Всего в каталоге 1000 книг. Количество обзоров варьируется от 7 до полного их осутствия. Средний рейтинг каждой книги представлен в результате запроса выше. Можно отметить, что количество обзоров на книгу не коррелирует с средним рейтингом, т.к. речь идет исключительно о вкусовых предпочтениях пользователей. Некоторые названия книг с лучшими оценками:Welcome to Temptation (Dempseys #1), March и Marvel 1602, но возможно есть связь между количеством оценов и средней оценкой, поскольку вкусы разные. \t"
      ]
    },
    {
      "cell_type": "markdown",
      "metadata": {
        "id": "oxt9K0VHRrdK"
      },
      "source": [
        "# Задание 3\n",
        "\n",
        "Определите издательство, которое выпустило наибольшее число книг толще 50 страниц — так вы исключите из анализа брошюры;"
      ]
    },
    {
      "cell_type": "markdown",
      "metadata": {
        "id": "iMvehug1YsJn"
      },
      "source": [
        "|Наименование необходимого для запроса|Таблица и поле откуда можно взять|\n",
        "| --------------------------------------- |:-------------:|\n",
        "|Количество книг|books, book_id|\n",
        "|Число страниц больше 50|books, num_pages|\n",
        "|Издательство|publishers, publisher(publisher_id)|"
      ]
    },
    {
      "cell_type": "code",
      "execution_count": null,
      "metadata": {
        "colab": {
          "base_uri": "https://localhost:8080/",
          "height": 81
        },
        "id": "rEHsqWQbfXIN",
        "outputId": "6cfd5472-e852-409b-f0d2-4d2a427f027a"
      },
      "outputs": [
        {
          "data": {
            "text/html": [
              "<div>\n",
              "<style scoped>\n",
              "    .dataframe tbody tr th:only-of-type {\n",
              "        vertical-align: middle;\n",
              "    }\n",
              "\n",
              "    .dataframe tbody tr th {\n",
              "        vertical-align: top;\n",
              "    }\n",
              "\n",
              "    .dataframe thead th {\n",
              "        text-align: right;\n",
              "    }\n",
              "</style>\n",
              "<table border=\"1\" class=\"dataframe\">\n",
              "  <thead>\n",
              "    <tr style=\"text-align: right;\">\n",
              "      <th></th>\n",
              "      <th>publisher_id</th>\n",
              "      <th>publisher</th>\n",
              "    </tr>\n",
              "  </thead>\n",
              "  <tbody>\n",
              "    <tr>\n",
              "      <th>0</th>\n",
              "      <td>212</td>\n",
              "      <td>Penguin Books</td>\n",
              "    </tr>\n",
              "  </tbody>\n",
              "</table>\n",
              "</div>"
            ],
            "text/plain": [
              "   publisher_id      publisher\n",
              "0           212  Penguin Books"
            ]
          },
          "execution_count": 21,
          "metadata": {},
          "output_type": "execute_result"
        }
      ],
      "source": [
        "sql3 = '''\n",
        "-- нахожу издательство и id --\n",
        "SELECT * \n",
        "FROM publishers\n",
        "WHERE publisher IN\n",
        "-- нахожу издательство --\n",
        "(SELECT publisher FROM\n",
        "-- исключаем брошюры --\n",
        "(SELECT * \n",
        "FROM publishers p\n",
        "JOIN books b ON p.publisher_id = b.publisher_id\n",
        "WHERE b.num_pages > 50) t1\n",
        "GROUP BY publisher\n",
        "ORDER BY COUNT(book_id) DESC\n",
        "LIMIT 1)\n",
        "'''\n",
        "\n",
        "pd.io.sql.read_sql(sql3, con = engine)"
      ]
    },
    {
      "cell_type": "markdown",
      "metadata": {
        "id": "-BeUaYC9Hie3"
      },
      "source": [
        "**Вывод:** Наиболее широко представлены книги (из анализа исключены брошюры с 50-ю и меньше страницами) издательства Penguin Books.\n",
        "\n",
        "Издательство выпускает такие бестселлеры как Приключения Шерлока Холмса Артура Конан Дойла, Зелёная миля Стивена Кинга, Мартин Иден Джека Лондона, Гордость и предубеждение Джейн Остин, Мастер и Маргарита Михаила Булгакова. Однако, книги в основном на английском языке и нужно учитывать целевую аудиторию. По многим из этих книг сняты фильмы, возможно, поэтому они так популярны."
      ]
    },
    {
      "cell_type": "markdown",
      "metadata": {
        "id": "pphzKZPhninY"
      },
      "source": [
        "# Задание 4\n",
        "\n",
        "Определите автора с самой высокой средней оценкой книг — учитывайте только книги с 50 и более оценками;"
      ]
    },
    {
      "cell_type": "code",
      "execution_count": null,
      "metadata": {
        "colab": {
          "base_uri": "https://localhost:8080/",
          "height": 81
        },
        "id": "5jzOpbyqnoI9",
        "outputId": "8e8d01da-66a8-467e-a7a4-ebbf59d3aa3e"
      },
      "outputs": [
        {
          "data": {
            "text/html": [
              "<div>\n",
              "<style scoped>\n",
              "    .dataframe tbody tr th:only-of-type {\n",
              "        vertical-align: middle;\n",
              "    }\n",
              "\n",
              "    .dataframe tbody tr th {\n",
              "        vertical-align: top;\n",
              "    }\n",
              "\n",
              "    .dataframe thead th {\n",
              "        text-align: right;\n",
              "    }\n",
              "</style>\n",
              "<table border=\"1\" class=\"dataframe\">\n",
              "  <thead>\n",
              "    <tr style=\"text-align: right;\">\n",
              "      <th></th>\n",
              "      <th>author</th>\n",
              "      <th>avg_rating</th>\n",
              "    </tr>\n",
              "  </thead>\n",
              "  <tbody>\n",
              "    <tr>\n",
              "      <th>0</th>\n",
              "      <td>J.K. Rowling/Mary GrandPré</td>\n",
              "      <td>4.2871</td>\n",
              "    </tr>\n",
              "  </tbody>\n",
              "</table>\n",
              "</div>"
            ],
            "text/plain": [
              "                       author  avg_rating\n",
              "0  J.K. Rowling/Mary GrandPré      4.2871"
            ]
          },
          "execution_count": 22,
          "metadata": {},
          "output_type": "execute_result"
        }
      ],
      "source": [
        "sql4 = '''\n",
        "\n",
        "-- нахожу id книг, где количество оценок больше или равно 50 --\n",
        "WITH id_books_more_then_50_marks AS\n",
        "(SELECT book_id FROM\n",
        "(SELECT b.book_id, COUNT(rating_id) as cnt\n",
        "FROM books as b\n",
        "JOIN ratings as r ON b.book_id = r.book_id\n",
        "GROUP BY b.book_id\n",
        "HAVING COUNT(rating_id) >= 50) t1) \n",
        "\n",
        "\n",
        "-- нахожу средний рейтинг книг авторов, сортирую авторов по убыванию среднего рейтинга и вывожу первого --\n",
        "SELECT author, ROUND(AVG(rating),4) as avg_rating FROM\n",
        "(\n",
        "-- нахожу авторов, рейтинги их книг и фильтрую их по id книг в таблице id_books_more_then_50_marks --\n",
        "SELECT a.author, r.rating, b.book_id\n",
        "FROM books AS b\n",
        "JOIN authors AS a\n",
        "ON b.author_id = a.author_id\n",
        "JOIN ratings as r\n",
        "ON b.book_id = r.book_id\n",
        "WHERE b.book_id IN\n",
        "(SELECT * \n",
        "FROM id_books_more_then_50_marks)\n",
        ") t1\n",
        "GROUP BY author\n",
        "ORDER BY avg_rating DESC\n",
        "LIMIT 1\n",
        "'''\n",
        "pd.io.sql.read_sql(sql4, con = engine)"
      ]
    },
    {
      "cell_type": "markdown",
      "metadata": {
        "id": "JZcOhwWbLlft"
      },
      "source": [
        "**Вывод:** Самые популярный авторы с средним рейтингом в 4.2871 баллов из 5 - это  Джоан Роулинг (Книги Д.Роулинг о Гарри Поттере были переведены на 65 языков мира. Суммарный тираж продаж превысил 450 млн экземпляров)\n",
        "\n",
        "\n",
        "Также нельзя забывать про её медийность. После раскрытия псевдонима Д.Роулинг объем продаж её дебютного романа тут же увеличился на около 4 000 %.\n",
        "\n",
        "Возможно, есть смысл ориентироваться на детсткую аудиторию и вкладываться в маркетинг соответствующих произведений."
      ]
    },
    {
      "cell_type": "markdown",
      "metadata": {
        "id": "sTxMUiUzGyZZ"
      },
      "source": [
        "# Задание 5\n",
        "\n",
        "Посчитайте среднее количество обзоров от пользователей, которые поставили больше 50 оценок."
      ]
    },
    {
      "cell_type": "code",
      "execution_count": null,
      "metadata": {
        "colab": {
          "base_uri": "https://localhost:8080/",
          "height": 81
        },
        "id": "EiIW9DcfG3D3",
        "outputId": "2d83c4e2-95ff-445b-cb98-e217fd06cb1b"
      },
      "outputs": [
        {
          "data": {
            "text/html": [
              "<div>\n",
              "<style scoped>\n",
              "    .dataframe tbody tr th:only-of-type {\n",
              "        vertical-align: middle;\n",
              "    }\n",
              "\n",
              "    .dataframe tbody tr th {\n",
              "        vertical-align: top;\n",
              "    }\n",
              "\n",
              "    .dataframe thead th {\n",
              "        text-align: right;\n",
              "    }\n",
              "</style>\n",
              "<table border=\"1\" class=\"dataframe\">\n",
              "  <thead>\n",
              "    <tr style=\"text-align: right;\">\n",
              "      <th></th>\n",
              "      <th>avg_re_cnt</th>\n",
              "    </tr>\n",
              "  </thead>\n",
              "  <tbody>\n",
              "    <tr>\n",
              "      <th>0</th>\n",
              "      <td>24</td>\n",
              "    </tr>\n",
              "  </tbody>\n",
              "</table>\n",
              "</div>"
            ],
            "text/plain": [
              "   avg_re_cnt\n",
              "0          24"
            ]
          },
          "execution_count": 23,
          "metadata": {},
          "output_type": "execute_result"
        }
      ],
      "source": [
        "sql5 = '''\n",
        "-- нахожу издательство и id --\n",
        "\n",
        "SELECT COUNT(DISTINCT re.text)/ COUNT(DISTINCT re.username) AS avg_re_cnt\n",
        "FROM ratings AS r\n",
        "JOIN reviews AS re\n",
        "ON r.username = re.username\n",
        "\n",
        "WHERE r.username IN\n",
        "-- нахожу пользователей, у которых количество оценок больше 50 --\n",
        "(SELECT username\n",
        "FROM ratings\n",
        "GROUP BY username\n",
        "HAVING COUNT(rating_id) > 50)\n",
        "'''\n",
        "pd.io.sql.read_sql(sql5, con = engine)"
      ]
    },
    {
      "cell_type": "markdown",
      "metadata": {
        "id": "Nl8q-MD8ojhs"
      },
      "source": [
        "# Общий вывод и рекомендации"
      ]
    },
    {
      "cell_type": "markdown",
      "metadata": {
        "id": "FxZr9g3YR1TC"
      },
      "source": [
        "**Общий вывод:**\n",
        "\n",
        "После 1 января 2000 года в каталог сервиса было добавлено 819 книг и брошюр.\n",
        "Насколько это хорошо или плохо судить сложно без анализа финансовой отчётности и дополнительных данных.\n",
        "\n",
        "Между оценками и количеством обзоров нет прямой корреляции, это означает что мнения пользователей и критиков нужно разделять и смотреть связи между оценками и выручкой с книг и оценкой критиков и выручкой с книг, например, по месяцам или ввести дополнительные метрики, например, средний чек или другое.\n",
        "\n",
        "Всего в каталоге 1000 книг. Количество обзоров варьируется от 7 до полного их отсутствия. Некоторые названия книг с лучшими оценками: Welcome to Temptation (Dempseys #1), March и Marvel 1602, но возможно есть связь между количеством оценок и средней оценкой, поскольку вкусы разные. Хорошо бы посмотреть на корреляции среднего чека и возраста пользователя, жанров произведений, но такой информации в данных нет.\n",
        "\n",
        "Наиболее широко представлены книги издательства Penguin Books.\n",
        "Издательство выпускает такие бестселлеры как Приключения Шерлока Холмса Артура Конан Дойла, Зелёная миля Стивена Кинга, Мартин Иден Джека Лондона, Гордость и предубеждение Джейн Остин, Мастер и Маргарита Михаила Булгакова. Однако, книги в основном на английском языке и нужно учитывать целевую аудиторию. По многим из этих книг сняты фильмы, возможно, поэтому они так популярны.\n",
        "\n",
        "Самые популярный авторы с средним рейтингом в 4.2871 баллов из 5 - это Джоан Роулинг (Книги Д.Роулинг о Гарри Поттере были переведены на 65 языков мира. Суммарный тираж продаж превысил 450 млн экземпляров)\n",
        "Также нельзя забывать про её медийность. Возможно, есть смысл ориентироваться на детскую аудиторию и вкладываться в маркетинг соответствующих произведений и учитывать известность авторов.\n",
        "\n",
        "Среднее количество обзоров от активных пользователей с более 50 оценками книг - 24. Однако этот факт требует перепроверки, поскольку уникальных имён - 160 и нет user_id, чтобы распознать конкретного пользователя.\n",
        "\n",
        "**Рекомендации:**\n",
        "\n",
        "1)\tПри выборе книг для сервиса учитывать известность авторов, сняты ли фильмы по книге, целевую аудиторию (выкладывать книги на английском или русском, возрастные когорты).\n",
        "\n",
        "2)\tЕсть книги, которые не популярны и не будут иметь широкого коммерческого успеха, но необходимы обществу. Например, учебники для подготовки к ЕГЭ по предметам. Сборников достаточно много, но чтобы реально подготовиться, нужно прочитать их достаточно много и уметь выделять и структурировать информацию. Неплохо получается это делать у методистов из Яндекс.Практикум. Возможно, привлечь инвестиции со стороны государства и заинтересовать методистов с Яндекса, например, по программам Старт-1 до 4 млн руб. и создать материалы для подготовки. \n",
        "\n",
        "3)\tИспользовать современные технологии для создания книг, например, ChatGPT. В последнем финале бизнес уикенд марафоне как раз победил проект с подобной спецификой.\n"
      ]
    }
  ],
  "metadata": {
    "ExecuteTimeLog": [
      {
        "duration": 12017,
        "start_time": "2023-04-05T04:35:49.380Z"
      },
      {
        "duration": 11553,
        "start_time": "2023-04-05T04:38:52.862Z"
      },
      {
        "duration": 17,
        "start_time": "2023-04-05T04:39:04.416Z"
      },
      {
        "duration": 1915,
        "start_time": "2023-04-05T04:39:04.435Z"
      },
      {
        "duration": 5,
        "start_time": "2023-04-05T04:39:06.352Z"
      },
      {
        "duration": 1249,
        "start_time": "2023-04-05T04:39:06.359Z"
      },
      {
        "duration": 947,
        "start_time": "2023-04-05T04:39:07.609Z"
      },
      {
        "duration": 1067,
        "start_time": "2023-04-05T04:39:08.558Z"
      },
      {
        "duration": 912,
        "start_time": "2023-04-05T04:39:09.627Z"
      },
      {
        "duration": 256,
        "start_time": "2023-04-05T04:39:10.540Z"
      },
      {
        "duration": 187,
        "start_time": "2023-04-05T04:39:10.798Z"
      },
      {
        "duration": 238,
        "start_time": "2023-04-05T04:39:10.987Z"
      },
      {
        "duration": 4,
        "start_time": "2023-04-05T04:39:11.227Z"
      },
      {
        "duration": 10,
        "start_time": "2023-04-05T04:39:11.233Z"
      },
      {
        "duration": 195,
        "start_time": "2023-04-05T04:39:11.244Z"
      },
      {
        "duration": 3,
        "start_time": "2023-04-05T04:39:11.440Z"
      },
      {
        "duration": 13,
        "start_time": "2023-04-05T04:39:11.444Z"
      },
      {
        "duration": 14,
        "start_time": "2023-04-05T04:39:11.459Z"
      },
      {
        "duration": 5,
        "start_time": "2023-04-05T04:39:11.475Z"
      },
      {
        "duration": 45,
        "start_time": "2023-04-05T04:39:11.482Z"
      },
      {
        "duration": 9,
        "start_time": "2023-04-05T04:39:11.529Z"
      },
      {
        "duration": 194,
        "start_time": "2023-04-05T04:39:11.539Z"
      },
      {
        "duration": 209,
        "start_time": "2023-04-05T04:39:11.735Z"
      },
      {
        "duration": 193,
        "start_time": "2023-04-05T04:39:11.946Z"
      },
      {
        "duration": 8,
        "start_time": "2023-04-05T04:39:12.141Z"
      },
      {
        "duration": 397,
        "start_time": "2023-04-05T04:39:12.150Z"
      },
      {
        "duration": 240,
        "start_time": "2023-04-05T04:39:12.549Z"
      },
      {
        "duration": 6,
        "start_time": "2023-04-05T04:39:12.791Z"
      },
      {
        "duration": 10,
        "start_time": "2023-04-05T04:39:12.800Z"
      },
      {
        "duration": 192,
        "start_time": "2023-04-05T04:39:12.812Z"
      },
      {
        "duration": 197,
        "start_time": "2023-04-05T04:39:13.006Z"
      },
      {
        "duration": 241,
        "start_time": "2023-04-05T04:39:13.205Z"
      },
      {
        "duration": 201,
        "start_time": "2023-04-05T04:48:39.395Z"
      },
      {
        "duration": 194,
        "start_time": "2023-04-05T04:48:55.574Z"
      },
      {
        "duration": 10942,
        "start_time": "2023-04-05T06:54:36.566Z"
      },
      {
        "duration": 19,
        "start_time": "2023-04-05T06:54:47.509Z"
      },
      {
        "duration": 78,
        "start_time": "2023-04-05T06:54:47.529Z"
      },
      {
        "duration": 1425,
        "start_time": "2023-04-05T06:54:47.609Z"
      },
      {
        "duration": 3,
        "start_time": "2023-04-05T06:54:49.036Z"
      },
      {
        "duration": 1167,
        "start_time": "2023-04-05T06:54:49.040Z"
      },
      {
        "duration": 889,
        "start_time": "2023-04-05T06:54:50.209Z"
      },
      {
        "duration": 1028,
        "start_time": "2023-04-05T06:54:51.100Z"
      },
      {
        "duration": 844,
        "start_time": "2023-04-05T06:54:52.130Z"
      },
      {
        "duration": 223,
        "start_time": "2023-04-05T06:54:52.976Z"
      },
      {
        "duration": 158,
        "start_time": "2023-04-05T06:54:53.201Z"
      },
      {
        "duration": 225,
        "start_time": "2023-04-05T06:54:53.361Z"
      },
      {
        "duration": 5,
        "start_time": "2023-04-05T06:54:53.588Z"
      },
      {
        "duration": 26,
        "start_time": "2023-04-05T06:54:53.595Z"
      },
      {
        "duration": 175,
        "start_time": "2023-04-05T06:54:53.623Z"
      },
      {
        "duration": 2,
        "start_time": "2023-04-05T06:54:53.800Z"
      },
      {
        "duration": 26,
        "start_time": "2023-04-05T06:54:53.803Z"
      },
      {
        "duration": 30,
        "start_time": "2023-04-05T06:54:53.830Z"
      },
      {
        "duration": 27,
        "start_time": "2023-04-05T06:54:53.861Z"
      },
      {
        "duration": 32,
        "start_time": "2023-04-05T06:54:53.890Z"
      },
      {
        "duration": 31,
        "start_time": "2023-04-05T06:54:53.924Z"
      },
      {
        "duration": 168,
        "start_time": "2023-04-05T06:54:53.956Z"
      },
      {
        "duration": 159,
        "start_time": "2023-04-05T06:54:54.125Z"
      },
      {
        "duration": 158,
        "start_time": "2023-04-05T06:54:54.286Z"
      },
      {
        "duration": 6,
        "start_time": "2023-04-05T06:54:54.446Z"
      },
      {
        "duration": 351,
        "start_time": "2023-04-05T06:54:54.454Z"
      },
      {
        "duration": 199,
        "start_time": "2023-04-05T06:54:54.807Z"
      },
      {
        "duration": 6,
        "start_time": "2023-04-05T06:54:55.012Z"
      },
      {
        "duration": 32,
        "start_time": "2023-04-05T06:54:55.022Z"
      },
      {
        "duration": 167,
        "start_time": "2023-04-05T06:54:55.056Z"
      },
      {
        "duration": 170,
        "start_time": "2023-04-05T06:54:55.225Z"
      },
      {
        "duration": 171,
        "start_time": "2023-04-05T06:54:55.397Z"
      },
      {
        "duration": 72,
        "start_time": "2023-04-05T06:56:16.129Z"
      },
      {
        "duration": 106,
        "start_time": "2023-04-05T06:56:43.907Z"
      },
      {
        "duration": 72,
        "start_time": "2023-04-05T06:57:22.286Z"
      },
      {
        "duration": 71,
        "start_time": "2023-04-05T06:57:35.759Z"
      },
      {
        "duration": 70,
        "start_time": "2023-04-05T06:57:42.176Z"
      },
      {
        "duration": 88,
        "start_time": "2023-04-05T06:58:22.363Z"
      },
      {
        "duration": 76,
        "start_time": "2023-04-05T06:58:41.533Z"
      },
      {
        "duration": 80,
        "start_time": "2023-04-05T06:58:53.658Z"
      },
      {
        "duration": 12383,
        "start_time": "2023-04-05T07:01:04.221Z"
      },
      {
        "duration": 85,
        "start_time": "2023-04-05T07:01:16.607Z"
      },
      {
        "duration": 0,
        "start_time": "2023-04-05T07:01:16.693Z"
      },
      {
        "duration": 0,
        "start_time": "2023-04-05T07:01:16.695Z"
      },
      {
        "duration": 0,
        "start_time": "2023-04-05T07:01:16.696Z"
      },
      {
        "duration": 0,
        "start_time": "2023-04-05T07:01:16.697Z"
      },
      {
        "duration": 0,
        "start_time": "2023-04-05T07:01:16.699Z"
      },
      {
        "duration": 0,
        "start_time": "2023-04-05T07:01:16.700Z"
      },
      {
        "duration": 0,
        "start_time": "2023-04-05T07:01:16.701Z"
      },
      {
        "duration": 0,
        "start_time": "2023-04-05T07:01:16.702Z"
      },
      {
        "duration": 0,
        "start_time": "2023-04-05T07:01:16.704Z"
      },
      {
        "duration": 0,
        "start_time": "2023-04-05T07:01:16.705Z"
      },
      {
        "duration": 1,
        "start_time": "2023-04-05T07:01:16.706Z"
      },
      {
        "duration": 0,
        "start_time": "2023-04-05T07:01:16.708Z"
      },
      {
        "duration": 0,
        "start_time": "2023-04-05T07:01:16.709Z"
      },
      {
        "duration": 0,
        "start_time": "2023-04-05T07:01:16.711Z"
      },
      {
        "duration": 0,
        "start_time": "2023-04-05T07:01:16.713Z"
      },
      {
        "duration": 0,
        "start_time": "2023-04-05T07:01:16.714Z"
      },
      {
        "duration": 0,
        "start_time": "2023-04-05T07:01:16.717Z"
      },
      {
        "duration": 0,
        "start_time": "2023-04-05T07:01:16.718Z"
      },
      {
        "duration": 0,
        "start_time": "2023-04-05T07:01:16.719Z"
      },
      {
        "duration": 0,
        "start_time": "2023-04-05T07:01:16.721Z"
      },
      {
        "duration": 0,
        "start_time": "2023-04-05T07:01:16.722Z"
      },
      {
        "duration": 0,
        "start_time": "2023-04-05T07:01:16.724Z"
      },
      {
        "duration": 116,
        "start_time": "2023-04-05T07:01:52.488Z"
      },
      {
        "duration": 13724,
        "start_time": "2023-04-05T07:02:03.624Z"
      },
      {
        "duration": 92,
        "start_time": "2023-04-05T07:02:17.350Z"
      },
      {
        "duration": 74,
        "start_time": "2023-04-05T07:02:17.443Z"
      },
      {
        "duration": 98,
        "start_time": "2023-04-05T07:02:17.520Z"
      },
      {
        "duration": 6,
        "start_time": "2023-04-05T07:02:17.620Z"
      },
      {
        "duration": 29,
        "start_time": "2023-04-05T07:02:17.628Z"
      },
      {
        "duration": 100,
        "start_time": "2023-04-05T07:02:17.660Z"
      },
      {
        "duration": 0,
        "start_time": "2023-04-05T07:02:17.762Z"
      },
      {
        "duration": 0,
        "start_time": "2023-04-05T07:02:17.763Z"
      },
      {
        "duration": 0,
        "start_time": "2023-04-05T07:02:17.764Z"
      },
      {
        "duration": 0,
        "start_time": "2023-04-05T07:02:17.766Z"
      },
      {
        "duration": 0,
        "start_time": "2023-04-05T07:02:17.767Z"
      },
      {
        "duration": 0,
        "start_time": "2023-04-05T07:02:17.768Z"
      },
      {
        "duration": 0,
        "start_time": "2023-04-05T07:02:17.769Z"
      },
      {
        "duration": 0,
        "start_time": "2023-04-05T07:02:17.770Z"
      },
      {
        "duration": 0,
        "start_time": "2023-04-05T07:02:17.783Z"
      },
      {
        "duration": 0,
        "start_time": "2023-04-05T07:02:17.784Z"
      },
      {
        "duration": 0,
        "start_time": "2023-04-05T07:02:17.786Z"
      },
      {
        "duration": 0,
        "start_time": "2023-04-05T07:02:17.787Z"
      },
      {
        "duration": 0,
        "start_time": "2023-04-05T07:02:17.790Z"
      },
      {
        "duration": 0,
        "start_time": "2023-04-05T07:02:17.792Z"
      },
      {
        "duration": 0,
        "start_time": "2023-04-05T07:02:17.793Z"
      },
      {
        "duration": 0,
        "start_time": "2023-04-05T07:02:17.796Z"
      },
      {
        "duration": 0,
        "start_time": "2023-04-05T07:02:17.797Z"
      },
      {
        "duration": 8248,
        "start_time": "2023-04-05T07:03:19.213Z"
      },
      {
        "duration": 88,
        "start_time": "2023-04-05T07:03:27.463Z"
      },
      {
        "duration": 73,
        "start_time": "2023-04-05T07:03:27.552Z"
      },
      {
        "duration": 89,
        "start_time": "2023-04-05T07:03:27.628Z"
      },
      {
        "duration": 6,
        "start_time": "2023-04-05T07:03:27.719Z"
      },
      {
        "duration": 35,
        "start_time": "2023-04-05T07:03:27.727Z"
      },
      {
        "duration": 91,
        "start_time": "2023-04-05T07:03:27.764Z"
      },
      {
        "duration": 3,
        "start_time": "2023-04-05T07:03:27.857Z"
      },
      {
        "duration": 23,
        "start_time": "2023-04-05T07:03:27.862Z"
      },
      {
        "duration": 32,
        "start_time": "2023-04-05T07:03:27.889Z"
      },
      {
        "duration": 24,
        "start_time": "2023-04-05T07:03:27.923Z"
      },
      {
        "duration": 36,
        "start_time": "2023-04-05T07:03:27.948Z"
      },
      {
        "duration": 22,
        "start_time": "2023-04-05T07:03:27.986Z"
      },
      {
        "duration": 94,
        "start_time": "2023-04-05T07:03:28.009Z"
      },
      {
        "duration": 71,
        "start_time": "2023-04-05T07:03:28.105Z"
      },
      {
        "duration": 71,
        "start_time": "2023-04-05T07:03:28.178Z"
      },
      {
        "duration": 7,
        "start_time": "2023-04-05T07:03:28.251Z"
      },
      {
        "duration": 228,
        "start_time": "2023-04-05T07:03:28.259Z"
      },
      {
        "duration": 186,
        "start_time": "2023-04-05T07:03:28.488Z"
      },
      {
        "duration": 8,
        "start_time": "2023-04-05T07:03:28.676Z"
      },
      {
        "duration": 31,
        "start_time": "2023-04-05T07:03:28.686Z"
      },
      {
        "duration": 89,
        "start_time": "2023-04-05T07:03:28.719Z"
      },
      {
        "duration": 139,
        "start_time": "2023-04-05T07:03:28.810Z"
      },
      {
        "duration": 78,
        "start_time": "2023-04-05T07:03:28.951Z"
      },
      {
        "duration": 497,
        "start_time": "2023-04-05T08:25:07.740Z"
      },
      {
        "duration": 940,
        "start_time": "2023-04-05T08:38:35.960Z"
      },
      {
        "duration": 29053,
        "start_time": "2023-04-05T08:38:36.903Z"
      },
      {
        "duration": 95,
        "start_time": "2023-04-05T08:39:05.957Z"
      },
      {
        "duration": 71,
        "start_time": "2023-04-05T08:39:06.054Z"
      },
      {
        "duration": 93,
        "start_time": "2023-04-05T08:39:06.126Z"
      },
      {
        "duration": 5,
        "start_time": "2023-04-05T08:39:06.220Z"
      },
      {
        "duration": 11,
        "start_time": "2023-04-05T08:39:06.226Z"
      },
      {
        "duration": 76,
        "start_time": "2023-04-05T08:39:06.239Z"
      },
      {
        "duration": 13,
        "start_time": "2023-04-05T08:39:06.316Z"
      },
      {
        "duration": 23,
        "start_time": "2023-04-05T08:39:06.332Z"
      },
      {
        "duration": 10,
        "start_time": "2023-04-05T08:39:06.356Z"
      },
      {
        "duration": 8,
        "start_time": "2023-04-05T08:39:06.368Z"
      },
      {
        "duration": 14,
        "start_time": "2023-04-05T08:39:06.377Z"
      },
      {
        "duration": 86,
        "start_time": "2023-04-05T08:39:06.395Z"
      },
      {
        "duration": 70,
        "start_time": "2023-04-05T08:39:06.483Z"
      },
      {
        "duration": 72,
        "start_time": "2023-04-05T08:39:06.555Z"
      },
      {
        "duration": 5,
        "start_time": "2023-04-05T08:39:06.629Z"
      },
      {
        "duration": 243,
        "start_time": "2023-04-05T08:39:06.635Z"
      },
      {
        "duration": 6,
        "start_time": "2023-04-05T08:39:06.884Z"
      },
      {
        "duration": 32,
        "start_time": "2023-04-05T08:39:06.891Z"
      },
      {
        "duration": 77,
        "start_time": "2023-04-05T08:39:06.925Z"
      },
      {
        "duration": 81,
        "start_time": "2023-04-05T08:39:07.004Z"
      },
      {
        "duration": 81,
        "start_time": "2023-04-05T08:39:07.088Z"
      },
      {
        "duration": 1047,
        "start_time": "2023-04-05T16:45:22.946Z"
      },
      {
        "duration": 21209,
        "start_time": "2023-04-05T16:45:23.995Z"
      },
      {
        "duration": 100,
        "start_time": "2023-04-05T16:45:45.206Z"
      },
      {
        "duration": 75,
        "start_time": "2023-04-05T16:45:45.309Z"
      },
      {
        "duration": 96,
        "start_time": "2023-04-05T16:45:45.386Z"
      },
      {
        "duration": 5,
        "start_time": "2023-04-05T16:45:45.484Z"
      },
      {
        "duration": 16,
        "start_time": "2023-04-05T16:45:45.490Z"
      },
      {
        "duration": 103,
        "start_time": "2023-04-05T16:45:45.508Z"
      },
      {
        "duration": 14,
        "start_time": "2023-04-05T16:45:45.613Z"
      },
      {
        "duration": 35,
        "start_time": "2023-04-05T16:45:45.630Z"
      },
      {
        "duration": 26,
        "start_time": "2023-04-05T16:45:45.667Z"
      },
      {
        "duration": 21,
        "start_time": "2023-04-05T16:45:45.694Z"
      },
      {
        "duration": 19,
        "start_time": "2023-04-05T16:45:45.716Z"
      },
      {
        "duration": 87,
        "start_time": "2023-04-05T16:45:45.737Z"
      },
      {
        "duration": 79,
        "start_time": "2023-04-05T16:45:45.826Z"
      },
      {
        "duration": 75,
        "start_time": "2023-04-05T16:45:45.908Z"
      },
      {
        "duration": 8,
        "start_time": "2023-04-05T16:45:45.985Z"
      },
      {
        "duration": 280,
        "start_time": "2023-04-05T16:45:45.995Z"
      },
      {
        "duration": 11,
        "start_time": "2023-04-05T16:45:46.277Z"
      },
      {
        "duration": 17,
        "start_time": "2023-04-05T16:45:46.290Z"
      },
      {
        "duration": 83,
        "start_time": "2023-04-05T16:45:46.309Z"
      },
      {
        "duration": 82,
        "start_time": "2023-04-05T16:45:46.394Z"
      },
      {
        "duration": 86,
        "start_time": "2023-04-05T16:45:46.478Z"
      },
      {
        "duration": 114,
        "start_time": "2023-04-05T16:48:11.500Z"
      },
      {
        "duration": 115,
        "start_time": "2023-04-05T16:48:30.000Z"
      },
      {
        "duration": 117,
        "start_time": "2023-04-05T16:49:27.552Z"
      },
      {
        "duration": 130,
        "start_time": "2023-04-05T16:49:55.019Z"
      },
      {
        "duration": 10,
        "start_time": "2023-04-05T16:52:26.817Z"
      },
      {
        "duration": 8,
        "start_time": "2023-04-05T16:52:41.587Z"
      },
      {
        "duration": 18,
        "start_time": "2023-04-05T16:52:46.502Z"
      },
      {
        "duration": 14,
        "start_time": "2023-04-05T16:53:46.166Z"
      }
    ],
    "colab": {
      "collapsed_sections": [
        "-tKvU87iwxMk"
      ],
      "provenance": [],
      "include_colab_link": true
    },
    "kernelspec": {
      "display_name": "Python 3 (ipykernel)",
      "language": "python",
      "name": "python3"
    },
    "language_info": {
      "codemirror_mode": {
        "name": "ipython",
        "version": 3
      },
      "file_extension": ".py",
      "mimetype": "text/x-python",
      "name": "python",
      "nbconvert_exporter": "python",
      "pygments_lexer": "ipython3",
      "version": "3.9.5"
    },
    "toc": {
      "base_numbering": 1,
      "nav_menu": {},
      "number_sections": true,
      "sideBar": true,
      "skip_h1_title": true,
      "title_cell": "Table of Contents",
      "title_sidebar": "Contents",
      "toc_cell": false,
      "toc_position": {},
      "toc_section_display": true,
      "toc_window_display": false
    }
  },
  "nbformat": 4,
  "nbformat_minor": 0
}