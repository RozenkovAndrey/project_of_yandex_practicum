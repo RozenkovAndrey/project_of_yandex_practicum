{
  "cells": [
    {
      "cell_type": "markdown",
      "metadata": {
        "id": "view-in-github",
        "colab_type": "text"
      },
      "source": [
        "<a href=\"https://colab.research.google.com/github/RozenkovAndrey/project_of_yandex_practicum/blob/main/music_moscow_and_spb.ipynb\" target=\"_parent\"><img src=\"https://colab.research.google.com/assets/colab-badge.svg\" alt=\"Open In Colab\"/></a>"
      ]
    },
    {
      "cell_type": "markdown",
      "metadata": {
        "deletable": false,
        "editable": false,
        "id": "E0vqbgi9ay0H"
      },
      "source": [
        "# Яндекс Музыка"
      ]
    },
    {
      "cell_type": "markdown",
      "metadata": {
        "deletable": false,
        "editable": false,
        "id": "VUC88oWjTJw2"
      },
      "source": [
        "Сравнение Москвы и Петербурга окружено мифами. Например:\n",
        " * Москва — мегаполис, подчинённый жёсткому ритму рабочей недели;\n",
        " * Петербург — культурная столица, со своими вкусами.\n",
        "\n",
        "На данных Яндекс Музыки вы сравните поведение пользователей двух столиц.\n",
        "\n",
        "**Цель исследования** — проверьте три гипотезы:\n",
        "1. Активность пользователей зависит от дня недели. Причём в Москве и Петербурге это проявляется по-разному.\n",
        "2. В понедельник утром в Москве преобладают одни жанры, а в Петербурге — другие. Так же и вечером пятницы преобладают разные жанры — в зависимости от города. \n",
        "3. Москва и Петербург предпочитают разные жанры музыки. В Москве чаще слушают поп-музыку, в Петербурге — русский рэп.\n",
        "\n",
        "**Ход исследования**\n",
        "\n",
        "Данные о поведении пользователей вы получите из файла `yandex_music_project.csv`. О качестве данных ничего не известно. Поэтому перед проверкой гипотез понадобится обзор данных. \n",
        "\n",
        "Вы проверите данные на ошибки и оцените их влияние на исследование. Затем, на этапе предобработки вы поищете возможность исправить самые критичные ошибки данных.\n",
        " \n",
        "Таким образом, исследование пройдёт в три этапа:\n",
        " 1. Обзор данных.\n",
        " 2. Предобработка данных.\n",
        " 3. Проверка гипотез.\n",
        "\n"
      ]
    },
    {
      "cell_type": "markdown",
      "metadata": {
        "deletable": false,
        "editable": false,
        "id": "Ml1hmfXC_Zcs"
      },
      "source": [
        "## Обзор данных\n",
        "\n",
        "\n",
        "\n"
      ]
    },
    {
      "cell_type": "code",
      "source": [
        "!gdown --id 14BCfqnagEAHrilKXldAtklG011BpjrGF"
      ],
      "metadata": {
        "colab": {
          "base_uri": "https://localhost:8080/"
        },
        "id": "8vNTphO_VtWB",
        "outputId": "5c46e5fc-977c-4775-a9a7-592b8ef668a8"
      },
      "execution_count": 1,
      "outputs": [
        {
          "output_type": "stream",
          "name": "stdout",
          "text": [
            "/usr/local/lib/python3.7/dist-packages/gdown/cli.py:131: FutureWarning: Option `--id` was deprecated in version 4.3.1 and will be removed in 5.0. You don't need to pass it anymore to use a file ID.\n",
            "  category=FutureWarning,\n",
            "Downloading...\n",
            "From: https://drive.google.com/uc?id=14BCfqnagEAHrilKXldAtklG011BpjrGF\n",
            "To: /content/yandex_music_project.csv\n",
            "100% 4.77M/4.77M [00:00<00:00, 31.5MB/s]\n"
          ]
        }
      ]
    },
    {
      "cell_type": "code",
      "execution_count": 2,
      "metadata": {
        "deletable": false,
        "id": "AXN7PHPN_Zcs"
      },
      "outputs": [],
      "source": [
        "# импорт библиотеки pandas\n",
        "import pandas as pd"
      ]
    },
    {
      "cell_type": "code",
      "execution_count": 3,
      "metadata": {
        "deletable": false,
        "id": "fFVu7vqh_Zct"
      },
      "outputs": [],
      "source": [
        "# чтение файла с данными и сохранение в df\n",
        "df = pd.read_csv('yandex_music_project.csv')"
      ]
    },
    {
      "cell_type": "code",
      "execution_count": 4,
      "metadata": {
        "deletable": false,
        "id": "oWTVX3gW_Zct",
        "colab": {
          "base_uri": "https://localhost:8080/",
          "height": 363
        },
        "outputId": "c69cdfa7-1a02-45af-e8b4-24c8709dfb9e"
      },
      "outputs": [
        {
          "output_type": "execute_result",
          "data": {
            "text/plain": [
              "     userID                        Track            artist   genre  \\\n",
              "0  FFB692EC            Kamigata To Boots  The Mass Missile    rock   \n",
              "1  55204538  Delayed Because of Accident  Andreas Rönnberg    rock   \n",
              "2    20EC38            Funiculì funiculà       Mario Lanza     pop   \n",
              "3  A3DD03C9        Dragons in the Sunset        Fire + Ice    folk   \n",
              "4  E2DC1FAE                  Soul People        Space Echo   dance   \n",
              "5  842029A1                    Преданная         IMPERVTOR  rusrap   \n",
              "6  4CB90AA5                         True      Roman Messer   dance   \n",
              "7  F03E1C1F             Feeling This Way   Polina Griffith   dance   \n",
              "8  8FA1D3BE     И вновь продолжается бой               NaN  ruspop   \n",
              "9  E772D5C0                    Pessimist               NaN   dance   \n",
              "\n",
              "             City        time        Day  \n",
              "0  Saint-Petersburg  20:28:33  Wednesday  \n",
              "1            Moscow  14:07:09     Friday  \n",
              "2  Saint-Petersburg  20:58:07  Wednesday  \n",
              "3  Saint-Petersburg  08:37:09     Monday  \n",
              "4            Moscow  08:34:34     Monday  \n",
              "5  Saint-Petersburg  13:09:41     Friday  \n",
              "6            Moscow  13:00:07  Wednesday  \n",
              "7            Moscow  20:47:49  Wednesday  \n",
              "8            Moscow  09:17:40     Friday  \n",
              "9  Saint-Petersburg  21:20:49  Wednesday  "
            ],
            "text/html": [
              "\n",
              "  <div id=\"df-48e9adc2-156c-40e1-8d5f-e59966493333\">\n",
              "    <div class=\"colab-df-container\">\n",
              "      <div>\n",
              "<style scoped>\n",
              "    .dataframe tbody tr th:only-of-type {\n",
              "        vertical-align: middle;\n",
              "    }\n",
              "\n",
              "    .dataframe tbody tr th {\n",
              "        vertical-align: top;\n",
              "    }\n",
              "\n",
              "    .dataframe thead th {\n",
              "        text-align: right;\n",
              "    }\n",
              "</style>\n",
              "<table border=\"1\" class=\"dataframe\">\n",
              "  <thead>\n",
              "    <tr style=\"text-align: right;\">\n",
              "      <th></th>\n",
              "      <th>userID</th>\n",
              "      <th>Track</th>\n",
              "      <th>artist</th>\n",
              "      <th>genre</th>\n",
              "      <th>City</th>\n",
              "      <th>time</th>\n",
              "      <th>Day</th>\n",
              "    </tr>\n",
              "  </thead>\n",
              "  <tbody>\n",
              "    <tr>\n",
              "      <th>0</th>\n",
              "      <td>FFB692EC</td>\n",
              "      <td>Kamigata To Boots</td>\n",
              "      <td>The Mass Missile</td>\n",
              "      <td>rock</td>\n",
              "      <td>Saint-Petersburg</td>\n",
              "      <td>20:28:33</td>\n",
              "      <td>Wednesday</td>\n",
              "    </tr>\n",
              "    <tr>\n",
              "      <th>1</th>\n",
              "      <td>55204538</td>\n",
              "      <td>Delayed Because of Accident</td>\n",
              "      <td>Andreas Rönnberg</td>\n",
              "      <td>rock</td>\n",
              "      <td>Moscow</td>\n",
              "      <td>14:07:09</td>\n",
              "      <td>Friday</td>\n",
              "    </tr>\n",
              "    <tr>\n",
              "      <th>2</th>\n",
              "      <td>20EC38</td>\n",
              "      <td>Funiculì funiculà</td>\n",
              "      <td>Mario Lanza</td>\n",
              "      <td>pop</td>\n",
              "      <td>Saint-Petersburg</td>\n",
              "      <td>20:58:07</td>\n",
              "      <td>Wednesday</td>\n",
              "    </tr>\n",
              "    <tr>\n",
              "      <th>3</th>\n",
              "      <td>A3DD03C9</td>\n",
              "      <td>Dragons in the Sunset</td>\n",
              "      <td>Fire + Ice</td>\n",
              "      <td>folk</td>\n",
              "      <td>Saint-Petersburg</td>\n",
              "      <td>08:37:09</td>\n",
              "      <td>Monday</td>\n",
              "    </tr>\n",
              "    <tr>\n",
              "      <th>4</th>\n",
              "      <td>E2DC1FAE</td>\n",
              "      <td>Soul People</td>\n",
              "      <td>Space Echo</td>\n",
              "      <td>dance</td>\n",
              "      <td>Moscow</td>\n",
              "      <td>08:34:34</td>\n",
              "      <td>Monday</td>\n",
              "    </tr>\n",
              "    <tr>\n",
              "      <th>5</th>\n",
              "      <td>842029A1</td>\n",
              "      <td>Преданная</td>\n",
              "      <td>IMPERVTOR</td>\n",
              "      <td>rusrap</td>\n",
              "      <td>Saint-Petersburg</td>\n",
              "      <td>13:09:41</td>\n",
              "      <td>Friday</td>\n",
              "    </tr>\n",
              "    <tr>\n",
              "      <th>6</th>\n",
              "      <td>4CB90AA5</td>\n",
              "      <td>True</td>\n",
              "      <td>Roman Messer</td>\n",
              "      <td>dance</td>\n",
              "      <td>Moscow</td>\n",
              "      <td>13:00:07</td>\n",
              "      <td>Wednesday</td>\n",
              "    </tr>\n",
              "    <tr>\n",
              "      <th>7</th>\n",
              "      <td>F03E1C1F</td>\n",
              "      <td>Feeling This Way</td>\n",
              "      <td>Polina Griffith</td>\n",
              "      <td>dance</td>\n",
              "      <td>Moscow</td>\n",
              "      <td>20:47:49</td>\n",
              "      <td>Wednesday</td>\n",
              "    </tr>\n",
              "    <tr>\n",
              "      <th>8</th>\n",
              "      <td>8FA1D3BE</td>\n",
              "      <td>И вновь продолжается бой</td>\n",
              "      <td>NaN</td>\n",
              "      <td>ruspop</td>\n",
              "      <td>Moscow</td>\n",
              "      <td>09:17:40</td>\n",
              "      <td>Friday</td>\n",
              "    </tr>\n",
              "    <tr>\n",
              "      <th>9</th>\n",
              "      <td>E772D5C0</td>\n",
              "      <td>Pessimist</td>\n",
              "      <td>NaN</td>\n",
              "      <td>dance</td>\n",
              "      <td>Saint-Petersburg</td>\n",
              "      <td>21:20:49</td>\n",
              "      <td>Wednesday</td>\n",
              "    </tr>\n",
              "  </tbody>\n",
              "</table>\n",
              "</div>\n",
              "      <button class=\"colab-df-convert\" onclick=\"convertToInteractive('df-48e9adc2-156c-40e1-8d5f-e59966493333')\"\n",
              "              title=\"Convert this dataframe to an interactive table.\"\n",
              "              style=\"display:none;\">\n",
              "        \n",
              "  <svg xmlns=\"http://www.w3.org/2000/svg\" height=\"24px\"viewBox=\"0 0 24 24\"\n",
              "       width=\"24px\">\n",
              "    <path d=\"M0 0h24v24H0V0z\" fill=\"none\"/>\n",
              "    <path d=\"M18.56 5.44l.94 2.06.94-2.06 2.06-.94-2.06-.94-.94-2.06-.94 2.06-2.06.94zm-11 1L8.5 8.5l.94-2.06 2.06-.94-2.06-.94L8.5 2.5l-.94 2.06-2.06.94zm10 10l.94 2.06.94-2.06 2.06-.94-2.06-.94-.94-2.06-.94 2.06-2.06.94z\"/><path d=\"M17.41 7.96l-1.37-1.37c-.4-.4-.92-.59-1.43-.59-.52 0-1.04.2-1.43.59L10.3 9.45l-7.72 7.72c-.78.78-.78 2.05 0 2.83L4 21.41c.39.39.9.59 1.41.59.51 0 1.02-.2 1.41-.59l7.78-7.78 2.81-2.81c.8-.78.8-2.07 0-2.86zM5.41 20L4 18.59l7.72-7.72 1.47 1.35L5.41 20z\"/>\n",
              "  </svg>\n",
              "      </button>\n",
              "      \n",
              "  <style>\n",
              "    .colab-df-container {\n",
              "      display:flex;\n",
              "      flex-wrap:wrap;\n",
              "      gap: 12px;\n",
              "    }\n",
              "\n",
              "    .colab-df-convert {\n",
              "      background-color: #E8F0FE;\n",
              "      border: none;\n",
              "      border-radius: 50%;\n",
              "      cursor: pointer;\n",
              "      display: none;\n",
              "      fill: #1967D2;\n",
              "      height: 32px;\n",
              "      padding: 0 0 0 0;\n",
              "      width: 32px;\n",
              "    }\n",
              "\n",
              "    .colab-df-convert:hover {\n",
              "      background-color: #E2EBFA;\n",
              "      box-shadow: 0px 1px 2px rgba(60, 64, 67, 0.3), 0px 1px 3px 1px rgba(60, 64, 67, 0.15);\n",
              "      fill: #174EA6;\n",
              "    }\n",
              "\n",
              "    [theme=dark] .colab-df-convert {\n",
              "      background-color: #3B4455;\n",
              "      fill: #D2E3FC;\n",
              "    }\n",
              "\n",
              "    [theme=dark] .colab-df-convert:hover {\n",
              "      background-color: #434B5C;\n",
              "      box-shadow: 0px 1px 3px 1px rgba(0, 0, 0, 0.15);\n",
              "      filter: drop-shadow(0px 1px 2px rgba(0, 0, 0, 0.3));\n",
              "      fill: #FFFFFF;\n",
              "    }\n",
              "  </style>\n",
              "\n",
              "      <script>\n",
              "        const buttonEl =\n",
              "          document.querySelector('#df-48e9adc2-156c-40e1-8d5f-e59966493333 button.colab-df-convert');\n",
              "        buttonEl.style.display =\n",
              "          google.colab.kernel.accessAllowed ? 'block' : 'none';\n",
              "\n",
              "        async function convertToInteractive(key) {\n",
              "          const element = document.querySelector('#df-48e9adc2-156c-40e1-8d5f-e59966493333');\n",
              "          const dataTable =\n",
              "            await google.colab.kernel.invokeFunction('convertToInteractive',\n",
              "                                                     [key], {});\n",
              "          if (!dataTable) return;\n",
              "\n",
              "          const docLinkHtml = 'Like what you see? Visit the ' +\n",
              "            '<a target=\"_blank\" href=https://colab.research.google.com/notebooks/data_table.ipynb>data table notebook</a>'\n",
              "            + ' to learn more about interactive tables.';\n",
              "          element.innerHTML = '';\n",
              "          dataTable['output_type'] = 'display_data';\n",
              "          await google.colab.output.renderOutput(dataTable, element);\n",
              "          const docLink = document.createElement('div');\n",
              "          docLink.innerHTML = docLinkHtml;\n",
              "          element.appendChild(docLink);\n",
              "        }\n",
              "      </script>\n",
              "    </div>\n",
              "  </div>\n",
              "  "
            ]
          },
          "metadata": {},
          "execution_count": 4
        }
      ],
      "source": [
        "# получение первых 10 строк таблицы df\n",
        "df.head(10)"
      ]
    },
    {
      "cell_type": "code",
      "execution_count": 5,
      "metadata": {
        "deletable": false,
        "id": "DSf2kIb-_Zct",
        "colab": {
          "base_uri": "https://localhost:8080/"
        },
        "outputId": "67e82e10-3d97-4ce6-f3b2-b55eb23f41f6"
      },
      "outputs": [
        {
          "output_type": "stream",
          "name": "stdout",
          "text": [
            "<class 'pandas.core.frame.DataFrame'>\n",
            "RangeIndex: 65079 entries, 0 to 65078\n",
            "Data columns (total 7 columns):\n",
            " #   Column    Non-Null Count  Dtype \n",
            "---  ------    --------------  ----- \n",
            " 0     userID  65079 non-null  object\n",
            " 1   Track     63848 non-null  object\n",
            " 2   artist    57876 non-null  object\n",
            " 3   genre     63881 non-null  object\n",
            " 4     City    65079 non-null  object\n",
            " 5   time      65079 non-null  object\n",
            " 6   Day       65079 non-null  object\n",
            "dtypes: object(7)\n",
            "memory usage: 3.5+ MB\n"
          ]
        }
      ],
      "source": [
        "# получение общей информации о данных в таблице df\n",
        "df.info()"
      ]
    },
    {
      "cell_type": "markdown",
      "metadata": {
        "deletable": false,
        "editable": false,
        "id": "TaQ2Iwbr_Zct"
      },
      "source": [
        "Итак, в таблице семь столбцов. Тип данных во всех столбцах — `object`.\n",
        "\n",
        "Согласно документации к данным:\n",
        "* `userID` — идентификатор пользователя;\n",
        "* `Track` — название трека;  \n",
        "* `artist` — имя исполнителя;\n",
        "* `genre` — название жанра;\n",
        "* `City` — город пользователя;\n",
        "* `time` — время начала прослушивания;\n",
        "* `Day` — день недели.\n",
        "\n",
        "Количество значений в столбцах различается. Значит, в данных есть пропущенные значения."
      ]
    },
    {
      "cell_type": "markdown",
      "metadata": {
        "deletable": false,
        "editable": false,
        "id": "MCB6-dXG_Zct"
      },
      "source": [
        "**Выводы**\n",
        "\n",
        "В каждой строке таблицы — данные о прослушанном треке. Часть колонок описывает саму композицию: название, исполнителя и жанр. Остальные данные рассказывают о пользователе: из какого он города, когда он слушал музыку. \n",
        "\n",
        "Предварительно можно утверждать, что данных достаточно для проверки гипотез. Но встречаются пропуски в данных, а в названиях колонок — расхождения с хорошим стилем.\n"
      ]
    },
    {
      "cell_type": "markdown",
      "metadata": {
        "deletable": false,
        "editable": false,
        "id": "SjYF6Ub9_Zct"
      },
      "source": [
        "## Предобработка данных\n"
      ]
    },
    {
      "cell_type": "code",
      "execution_count": 6,
      "metadata": {
        "deletable": false,
        "id": "oKOTdF_Q_Zct",
        "colab": {
          "base_uri": "https://localhost:8080/"
        },
        "outputId": "0c051e8f-47c5-4ab9-d8ff-cec588654d99"
      },
      "outputs": [
        {
          "output_type": "execute_result",
          "data": {
            "text/plain": [
              "Index(['  userID', 'Track', 'artist', 'genre', '  City  ', 'time', 'Day'], dtype='object')"
            ]
          },
          "metadata": {},
          "execution_count": 6
        }
      ],
      "source": [
        "# перечень названий столбцов таблицы df\n",
        "df.columns"
      ]
    },
    {
      "cell_type": "code",
      "execution_count": 7,
      "metadata": {
        "deletable": false,
        "id": "ISlFqs5y_Zct",
        "scrolled": true
      },
      "outputs": [],
      "source": [
        "# переименование столбцов\n",
        "df = df.rename(columns = {'  userID':'user_id','Track':'track','  City  ':'city','Day':'day'})"
      ]
    },
    {
      "cell_type": "code",
      "execution_count": 8,
      "metadata": {
        "deletable": false,
        "id": "d4NOAmTW_Zct",
        "colab": {
          "base_uri": "https://localhost:8080/"
        },
        "outputId": "ac2cf047-523d-4696-d226-edecdc03da64"
      },
      "outputs": [
        {
          "output_type": "execute_result",
          "data": {
            "text/plain": [
              "Index(['user_id', 'track', 'artist', 'genre', 'city', 'time', 'day'], dtype='object')"
            ]
          },
          "metadata": {},
          "execution_count": 8
        }
      ],
      "source": [
        "# проверка результатов - перечень названий столбцов\n",
        "df.columns"
      ]
    },
    {
      "cell_type": "markdown",
      "metadata": {
        "deletable": false,
        "editable": false,
        "id": "5ISfbcfY_Zct",
        "tags": [
          "start_task"
        ]
      },
      "source": [
        "### Пропуски значений"
      ]
    },
    {
      "cell_type": "code",
      "execution_count": 9,
      "metadata": {
        "deletable": false,
        "id": "RskX29qr_Zct",
        "scrolled": true,
        "colab": {
          "base_uri": "https://localhost:8080/"
        },
        "outputId": "2090ad1b-d0d5-458d-c295-f293b41f95de"
      },
      "outputs": [
        {
          "output_type": "execute_result",
          "data": {
            "text/plain": [
              "user_id       0\n",
              "track      1231\n",
              "artist     7203\n",
              "genre      1198\n",
              "city          0\n",
              "time          0\n",
              "day           0\n",
              "dtype: int64"
            ]
          },
          "metadata": {},
          "execution_count": 9
        }
      ],
      "source": [
        "# подсчёт пропусков\n",
        "df.isna().sum()"
      ]
    },
    {
      "cell_type": "markdown",
      "metadata": {
        "deletable": false,
        "editable": false,
        "id": "qubhgnlO_Zct"
      },
      "source": [
        "Не все пропущенные значения влияют на исследование. Так в `track` и `artist` пропуски не важны для вашей работы. Достаточно заменить их явными обозначениями.\n",
        "\n",
        "Но пропуски в `genre` могут помешать сравнению музыкальных вкусов в Москве и Санкт-Петербурге. \n",
        "* заполним и эти пропуски явными обозначениями;\n",
        "* оценим, насколько они повредят расчётам. "
      ]
    },
    {
      "cell_type": "code",
      "execution_count": 10,
      "metadata": {
        "deletable": false,
        "id": "KplB5qWs_Zct"
      },
      "outputs": [],
      "source": [
        "# перебор названий столбцов в цикле и замена пропущенных значений на 'unknown'\n",
        "columns_to_replace = ['track','artist', 'genre']\n",
        "for i in columns_to_replace:\n",
        "    df[i] = df[i].fillna('unknown')"
      ]
    },
    {
      "cell_type": "code",
      "execution_count": 11,
      "metadata": {
        "deletable": false,
        "id": "Tq4nYRX4_Zct",
        "colab": {
          "base_uri": "https://localhost:8080/"
        },
        "outputId": "0a9e8c10-da82-403a-afaa-508301aeb055"
      },
      "outputs": [
        {
          "output_type": "execute_result",
          "data": {
            "text/plain": [
              "user_id    0\n",
              "track      0\n",
              "artist     0\n",
              "genre      0\n",
              "city       0\n",
              "time       0\n",
              "day        0\n",
              "dtype: int64"
            ]
          },
          "metadata": {},
          "execution_count": 11
        }
      ],
      "source": [
        "# подсчёт пропусков\n",
        "df.isna().sum()"
      ]
    },
    {
      "cell_type": "markdown",
      "metadata": {
        "deletable": false,
        "editable": false,
        "id": "BWKRtBJ3_Zct",
        "tags": [
          "start_task"
        ]
      },
      "source": [
        "### Дубликаты\n"
      ]
    },
    {
      "cell_type": "code",
      "execution_count": 12,
      "metadata": {
        "deletable": false,
        "id": "36eES_S0_Zct",
        "colab": {
          "base_uri": "https://localhost:8080/"
        },
        "outputId": "b75a7b0f-96c1-496b-cf26-f67f1b055383"
      },
      "outputs": [
        {
          "output_type": "execute_result",
          "data": {
            "text/plain": [
              "3826"
            ]
          },
          "metadata": {},
          "execution_count": 12
        }
      ],
      "source": [
        "# подсчёт явных дубликатов\n",
        "df.duplicated().sum()"
      ]
    },
    {
      "cell_type": "code",
      "execution_count": 13,
      "metadata": {
        "deletable": false,
        "id": "exFHq6tt_Zct"
      },
      "outputs": [],
      "source": [
        "# удаление явных дубликатов\n",
        "df = df.drop_duplicates()"
      ]
    },
    {
      "cell_type": "code",
      "execution_count": 14,
      "metadata": {
        "deletable": false,
        "id": "-8PuNWQ0_Zct",
        "colab": {
          "base_uri": "https://localhost:8080/"
        },
        "outputId": "4d67a672-0308-4a0c-e879-01d83b6dae80"
      },
      "outputs": [
        {
          "output_type": "execute_result",
          "data": {
            "text/plain": [
              "0"
            ]
          },
          "metadata": {},
          "execution_count": 14
        }
      ],
      "source": [
        "# проверка на отсутствие дубликатов\n",
        "df.duplicated().sum()"
      ]
    },
    {
      "cell_type": "code",
      "execution_count": 15,
      "metadata": {
        "deletable": false,
        "id": "JIUcqzZN_Zct",
        "colab": {
          "base_uri": "https://localhost:8080/"
        },
        "outputId": "c7640106-77ac-409d-e45c-239165f12dce"
      },
      "outputs": [
        {
          "output_type": "execute_result",
          "data": {
            "text/plain": [
              "array(['acid', 'acoustic', 'action', 'adult', 'africa', 'afrikaans',\n",
              "       'alternative', 'alternativepunk', 'ambient', 'americana',\n",
              "       'animated', 'anime', 'arabesk', 'arabic', 'arena',\n",
              "       'argentinetango', 'art', 'audiobook', 'author', 'avantgarde',\n",
              "       'axé', 'baile', 'balkan', 'beats', 'bigroom', 'black', 'bluegrass',\n",
              "       'blues', 'bollywood', 'bossa', 'brazilian', 'breakbeat', 'breaks',\n",
              "       'broadway', 'cantautori', 'cantopop', 'canzone', 'caribbean',\n",
              "       'caucasian', 'celtic', 'chamber', 'chanson', 'children', 'chill',\n",
              "       'chinese', 'choral', 'christian', 'christmas', 'classical',\n",
              "       'classicmetal', 'club', 'colombian', 'comedy', 'conjazz',\n",
              "       'contemporary', 'country', 'cuban', 'dance', 'dancehall',\n",
              "       'dancepop', 'dark', 'death', 'deep', 'deutschrock', 'deutschspr',\n",
              "       'dirty', 'disco', 'dnb', 'documentary', 'downbeat', 'downtempo',\n",
              "       'drum', 'dub', 'dubstep', 'eastern', 'easy', 'electronic',\n",
              "       'electropop', 'emo', 'entehno', 'epicmetal', 'estrada', 'ethnic',\n",
              "       'eurofolk', 'european', 'experimental', 'extrememetal', 'fado',\n",
              "       'fairytail', 'film', 'fitness', 'flamenco', 'folk', 'folklore',\n",
              "       'folkmetal', 'folkrock', 'folktronica', 'forró', 'frankreich',\n",
              "       'französisch', 'french', 'funk', 'future', 'gangsta', 'garage',\n",
              "       'german', 'ghazal', 'gitarre', 'glitch', 'gospel', 'gothic',\n",
              "       'grime', 'grunge', 'gypsy', 'handsup', \"hard'n'heavy\", 'hardcore',\n",
              "       'hardstyle', 'hardtechno', 'hip', 'hip-hop', 'hiphop',\n",
              "       'historisch', 'holiday', 'hop', 'horror', 'house', 'hymn', 'idm',\n",
              "       'independent', 'indian', 'indie', 'indipop', 'industrial',\n",
              "       'inspirational', 'instrumental', 'international', 'irish', 'jam',\n",
              "       'japanese', 'jazz', 'jewish', 'jpop', 'jungle', 'k-pop',\n",
              "       'karadeniz', 'karaoke', 'kayokyoku', 'korean', 'laiko', 'latin',\n",
              "       'latino', 'leftfield', 'local', 'lounge', 'loungeelectronic',\n",
              "       'lovers', 'malaysian', 'mandopop', 'marschmusik', 'meditative',\n",
              "       'mediterranean', 'melodic', 'metal', 'metalcore', 'mexican',\n",
              "       'middle', 'minimal', 'miscellaneous', 'modern', 'mood', 'mpb',\n",
              "       'muslim', 'native', 'neoklassik', 'neue', 'new', 'newage',\n",
              "       'newwave', 'nu', 'nujazz', 'numetal', 'oceania', 'old', 'opera',\n",
              "       'orchestral', 'other', 'piano', 'podcasts', 'pop', 'popdance',\n",
              "       'popelectronic', 'popeurodance', 'poprussian', 'post',\n",
              "       'posthardcore', 'postrock', 'power', 'progmetal', 'progressive',\n",
              "       'psychedelic', 'punjabi', 'punk', 'quebecois', 'ragga', 'ram',\n",
              "       'rancheras', 'rap', 'rave', 'reggae', 'reggaeton', 'regional',\n",
              "       'relax', 'religious', 'retro', 'rhythm', 'rnb', 'rnr', 'rock',\n",
              "       'rockabilly', 'rockalternative', 'rockindie', 'rockother',\n",
              "       'romance', 'roots', 'ruspop', 'rusrap', 'rusrock', 'russian',\n",
              "       'salsa', 'samba', 'scenic', 'schlager', 'self', 'sertanejo',\n",
              "       'shanson', 'shoegazing', 'showtunes', 'singer', 'ska', 'skarock',\n",
              "       'slow', 'smooth', 'soft', 'soul', 'soulful', 'sound', 'soundtrack',\n",
              "       'southern', 'specialty', 'speech', 'spiritual', 'sport',\n",
              "       'stonerrock', 'surf', 'swing', 'synthpop', 'synthrock',\n",
              "       'sängerportrait', 'tango', 'tanzorchester', 'taraftar', 'tatar',\n",
              "       'tech', 'techno', 'teen', 'thrash', 'top', 'traditional',\n",
              "       'tradjazz', 'trance', 'tribal', 'trip', 'triphop', 'tropical',\n",
              "       'türk', 'türkçe', 'ukrrock', 'unknown', 'urban', 'uzbek',\n",
              "       'variété', 'vi', 'videogame', 'vocal', 'western', 'world',\n",
              "       'worldbeat', 'ïîï', 'электроника'], dtype=object)"
            ]
          },
          "metadata": {},
          "execution_count": 15
        }
      ],
      "source": [
        "# Просмотр уникальных названий жанров\n",
        "df.genre.sort_values().unique()"
      ]
    },
    {
      "cell_type": "code",
      "execution_count": 16,
      "metadata": {
        "deletable": false,
        "id": "ErNDkmns_Zct"
      },
      "outputs": [],
      "source": [
        "# Устранение неявных дубликатов\n",
        "df.genre = df.genre.replace(['hip','hop','hip-hop'],'hiphop')"
      ]
    },
    {
      "cell_type": "code",
      "execution_count": 17,
      "metadata": {
        "deletable": false,
        "id": "wvixALnFG15m",
        "colab": {
          "base_uri": "https://localhost:8080/"
        },
        "outputId": "35808185-4bad-4c2c-fe2c-9d518140d55d"
      },
      "outputs": [
        {
          "output_type": "execute_result",
          "data": {
            "text/plain": [
              "array(['acid', 'acoustic', 'action', 'adult', 'africa', 'afrikaans',\n",
              "       'alternative', 'alternativepunk', 'ambient', 'americana',\n",
              "       'animated', 'anime', 'arabesk', 'arabic', 'arena',\n",
              "       'argentinetango', 'art', 'audiobook', 'author', 'avantgarde',\n",
              "       'axé', 'baile', 'balkan', 'beats', 'bigroom', 'black', 'bluegrass',\n",
              "       'blues', 'bollywood', 'bossa', 'brazilian', 'breakbeat', 'breaks',\n",
              "       'broadway', 'cantautori', 'cantopop', 'canzone', 'caribbean',\n",
              "       'caucasian', 'celtic', 'chamber', 'chanson', 'children', 'chill',\n",
              "       'chinese', 'choral', 'christian', 'christmas', 'classical',\n",
              "       'classicmetal', 'club', 'colombian', 'comedy', 'conjazz',\n",
              "       'contemporary', 'country', 'cuban', 'dance', 'dancehall',\n",
              "       'dancepop', 'dark', 'death', 'deep', 'deutschrock', 'deutschspr',\n",
              "       'dirty', 'disco', 'dnb', 'documentary', 'downbeat', 'downtempo',\n",
              "       'drum', 'dub', 'dubstep', 'eastern', 'easy', 'electronic',\n",
              "       'electropop', 'emo', 'entehno', 'epicmetal', 'estrada', 'ethnic',\n",
              "       'eurofolk', 'european', 'experimental', 'extrememetal', 'fado',\n",
              "       'fairytail', 'film', 'fitness', 'flamenco', 'folk', 'folklore',\n",
              "       'folkmetal', 'folkrock', 'folktronica', 'forró', 'frankreich',\n",
              "       'französisch', 'french', 'funk', 'future', 'gangsta', 'garage',\n",
              "       'german', 'ghazal', 'gitarre', 'glitch', 'gospel', 'gothic',\n",
              "       'grime', 'grunge', 'gypsy', 'handsup', \"hard'n'heavy\", 'hardcore',\n",
              "       'hardstyle', 'hardtechno', 'hiphop', 'historisch', 'holiday',\n",
              "       'horror', 'house', 'hymn', 'idm', 'independent', 'indian', 'indie',\n",
              "       'indipop', 'industrial', 'inspirational', 'instrumental',\n",
              "       'international', 'irish', 'jam', 'japanese', 'jazz', 'jewish',\n",
              "       'jpop', 'jungle', 'k-pop', 'karadeniz', 'karaoke', 'kayokyoku',\n",
              "       'korean', 'laiko', 'latin', 'latino', 'leftfield', 'local',\n",
              "       'lounge', 'loungeelectronic', 'lovers', 'malaysian', 'mandopop',\n",
              "       'marschmusik', 'meditative', 'mediterranean', 'melodic', 'metal',\n",
              "       'metalcore', 'mexican', 'middle', 'minimal', 'miscellaneous',\n",
              "       'modern', 'mood', 'mpb', 'muslim', 'native', 'neoklassik', 'neue',\n",
              "       'new', 'newage', 'newwave', 'nu', 'nujazz', 'numetal', 'oceania',\n",
              "       'old', 'opera', 'orchestral', 'other', 'piano', 'podcasts', 'pop',\n",
              "       'popdance', 'popelectronic', 'popeurodance', 'poprussian', 'post',\n",
              "       'posthardcore', 'postrock', 'power', 'progmetal', 'progressive',\n",
              "       'psychedelic', 'punjabi', 'punk', 'quebecois', 'ragga', 'ram',\n",
              "       'rancheras', 'rap', 'rave', 'reggae', 'reggaeton', 'regional',\n",
              "       'relax', 'religious', 'retro', 'rhythm', 'rnb', 'rnr', 'rock',\n",
              "       'rockabilly', 'rockalternative', 'rockindie', 'rockother',\n",
              "       'romance', 'roots', 'ruspop', 'rusrap', 'rusrock', 'russian',\n",
              "       'salsa', 'samba', 'scenic', 'schlager', 'self', 'sertanejo',\n",
              "       'shanson', 'shoegazing', 'showtunes', 'singer', 'ska', 'skarock',\n",
              "       'slow', 'smooth', 'soft', 'soul', 'soulful', 'sound', 'soundtrack',\n",
              "       'southern', 'specialty', 'speech', 'spiritual', 'sport',\n",
              "       'stonerrock', 'surf', 'swing', 'synthpop', 'synthrock',\n",
              "       'sängerportrait', 'tango', 'tanzorchester', 'taraftar', 'tatar',\n",
              "       'tech', 'techno', 'teen', 'thrash', 'top', 'traditional',\n",
              "       'tradjazz', 'trance', 'tribal', 'trip', 'triphop', 'tropical',\n",
              "       'türk', 'türkçe', 'ukrrock', 'unknown', 'urban', 'uzbek',\n",
              "       'variété', 'vi', 'videogame', 'vocal', 'western', 'world',\n",
              "       'worldbeat', 'ïîï', 'электроника'], dtype=object)"
            ]
          },
          "metadata": {},
          "execution_count": 17
        }
      ],
      "source": [
        "# Проверка на неявные дубликаты\n",
        "df.genre.sort_values().unique()"
      ]
    },
    {
      "cell_type": "markdown",
      "metadata": {
        "deletable": false,
        "editable": false,
        "id": "jz6a9-7HQUDd"
      },
      "source": [
        "**Выводы**\n",
        "\n",
        "Предобработка обнаружила три проблемы в данных:\n",
        "\n",
        "- нарушения в стиле заголовков,\n",
        "- пропущенные значения,\n",
        "- дубликаты — явные и неявные.\n",
        "\n",
        "Вы исправили заголовки, чтобы упростить работу с таблицей. Без дубликатов исследование станет более точным.\n",
        "\n",
        "Пропущенные значения вы заменили на `'unknown'`. Ещё предстоит увидеть, не повредят ли исследованию пропуски в колонке `genre`.\n",
        "\n",
        "Теперь можно перейти к проверке гипотез. "
      ]
    },
    {
      "cell_type": "markdown",
      "metadata": {
        "deletable": false,
        "editable": false,
        "id": "WttZHXH0SqKk"
      },
      "source": [
        "## Проверка гипотез"
      ]
    },
    {
      "cell_type": "markdown",
      "metadata": {
        "deletable": false,
        "editable": false,
        "id": "Im936VVi_Zcu"
      },
      "source": [
        "### Сравнение поведения пользователей двух столиц"
      ]
    },
    {
      "cell_type": "markdown",
      "metadata": {
        "deletable": false,
        "editable": false,
        "id": "nwt_MuaL_Zcu"
      },
      "source": [
        "Первая гипотеза утверждает, что пользователи по-разному слушают музыку в Москве и Санкт-Петербурге. \n",
        "\n",
        "* Разделим пользователей Москвы и Санкт-Петербурга.\n",
        "* Сравним, сколько треков послушала каждая группа пользователей в понедельник, среду и пятницу.\n"
      ]
    },
    {
      "cell_type": "code",
      "execution_count": 18,
      "metadata": {
        "deletable": false,
        "id": "0_Qs96oh_Zcu",
        "colab": {
          "base_uri": "https://localhost:8080/"
        },
        "outputId": "78f3c57b-a21c-430b-e7d0-957eb697e04e"
      },
      "outputs": [
        {
          "output_type": "execute_result",
          "data": {
            "text/plain": [
              "city\n",
              "Moscow              42741\n",
              "Saint-Petersburg    18512\n",
              "Name: user_id, dtype: int64"
            ]
          },
          "metadata": {},
          "execution_count": 18
        }
      ],
      "source": [
        "# Подсчёт прослушиваний в каждом городе\n",
        "df.groupby('city')['user_id'].count()"
      ]
    },
    {
      "cell_type": "markdown",
      "metadata": {
        "deletable": false,
        "editable": false,
        "id": "dzli3w8o_Zcu",
        "tags": [
          "start_task"
        ]
      },
      "source": [
        "В Москве прослушиваний больше, чем в Петербурге. Из этого не следует, что московские пользователи чаще слушают музыку. Просто самих пользователей в Москве больше.\n",
        "\n",
        "\n"
      ]
    },
    {
      "cell_type": "code",
      "execution_count": 19,
      "metadata": {
        "deletable": false,
        "id": "uZMKjiJz_Zcu",
        "colab": {
          "base_uri": "https://localhost:8080/"
        },
        "outputId": "8bfc6d2b-3312-4f55-acd1-fa55495bb09d"
      },
      "outputs": [
        {
          "output_type": "execute_result",
          "data": {
            "text/plain": [
              "day\n",
              "Friday       21840\n",
              "Monday       21354\n",
              "Wednesday    18059\n",
              "Name: user_id, dtype: int64"
            ]
          },
          "metadata": {},
          "execution_count": 19
        }
      ],
      "source": [
        "# Подсчёт прослушиваний в каждый из трёх дней\n",
        "df.groupby('day')['user_id'].count()"
      ]
    },
    {
      "cell_type": "markdown",
      "metadata": {
        "deletable": false,
        "editable": false,
        "id": "cC2tNrlL_Zcu"
      },
      "source": [
        "В среднем пользователи из двух городов менее активны по средам. Но картина может измениться, если рассмотреть каждый город в отдельности."
      ]
    },
    {
      "cell_type": "code",
      "execution_count": 20,
      "metadata": {
        "deletable": false,
        "id": "Nz3GdQB1_Zcu"
      },
      "outputs": [],
      "source": [
        "# <создание функции number_tracks()>\n",
        "def number_tracks(day, city):\n",
        "    track_list = df[(df['day'] == day) & (df['city'] == city)]\n",
        "    track_list_count = track_list['user_id'].count()\n",
        "    return track_list_count\n",
        "# Объявляется функция с двумя параметрами: day, city.\n",
        "# В переменной track_list сохраняются те строки таблицы df, для которых \n",
        "# значение в столбце 'day' равно параметру day и одновременно значение\n",
        "# в столбце 'city' равно параметру city (используйте последовательную фильтрацию\n",
        "# с помощью логической индексации или сложные логические выражения в одну строку, если вы уже знакомы с ними).\n",
        "# В переменной track_list_count сохраняется число значений столбца 'user_id',\n",
        "# рассчитанное методом count() для таблицы track_list.\n",
        "# Функция возвращает число - значение track_list_count.\n",
        "\n",
        "# Функция для подсчёта прослушиваний для конкретного города и дня.\n",
        "# С помощью последовательной фильтрации с логической индексацией она \n",
        "# сначала получит из исходной таблицы строки с нужным днём,\n",
        "# затем из результата отфильтрует строки с нужным городом,\n",
        "# методом count() посчитает количество значений в колонке user_id. \n",
        "# Это количество функция вернёт в качестве результата"
      ]
    },
    {
      "cell_type": "code",
      "execution_count": 21,
      "metadata": {
        "deletable": false,
        "id": "rJcRATNQ_Zcu",
        "colab": {
          "base_uri": "https://localhost:8080/"
        },
        "outputId": "46da47c5-9ff4-433e-8d34-5b11a8c02734"
      },
      "outputs": [
        {
          "output_type": "execute_result",
          "data": {
            "text/plain": [
              "15740"
            ]
          },
          "metadata": {},
          "execution_count": 21
        }
      ],
      "source": [
        "# количество прослушиваний в Москве по понедельникам\n",
        "number_tracks('Monday', 'Moscow')"
      ]
    },
    {
      "cell_type": "code",
      "execution_count": 22,
      "metadata": {
        "deletable": false,
        "id": "hq_ncZ5T_Zcu",
        "colab": {
          "base_uri": "https://localhost:8080/"
        },
        "outputId": "06f0fca4-a56a-4135-e4de-9552420329cd"
      },
      "outputs": [
        {
          "output_type": "execute_result",
          "data": {
            "text/plain": [
              "5614"
            ]
          },
          "metadata": {},
          "execution_count": 22
        }
      ],
      "source": [
        "# количество прослушиваний в Санкт-Петербурге по понедельникам\n",
        "number_tracks('Monday', 'Saint-Petersburg')"
      ]
    },
    {
      "cell_type": "code",
      "execution_count": 23,
      "metadata": {
        "deletable": false,
        "id": "_NTy2VPU_Zcu",
        "colab": {
          "base_uri": "https://localhost:8080/"
        },
        "outputId": "3513c043-9018-4b65-af1a-6413d94ee554"
      },
      "outputs": [
        {
          "output_type": "execute_result",
          "data": {
            "text/plain": [
              "11056"
            ]
          },
          "metadata": {},
          "execution_count": 23
        }
      ],
      "source": [
        "# количество прослушиваний в Москве по средам\n",
        "number_tracks('Wednesday', 'Moscow')"
      ]
    },
    {
      "cell_type": "code",
      "execution_count": 24,
      "metadata": {
        "deletable": false,
        "id": "j2y3TAwo_Zcu",
        "colab": {
          "base_uri": "https://localhost:8080/"
        },
        "outputId": "b466c074-2853-4696-ba8f-ee61f4a4ef29"
      },
      "outputs": [
        {
          "output_type": "execute_result",
          "data": {
            "text/plain": [
              "7003"
            ]
          },
          "metadata": {},
          "execution_count": 24
        }
      ],
      "source": [
        "# количество прослушиваний в Санкт-Петербурге по средам\n",
        "number_tracks('Wednesday', 'Saint-Petersburg')"
      ]
    },
    {
      "cell_type": "code",
      "execution_count": 25,
      "metadata": {
        "deletable": false,
        "id": "vYDw5u_K_Zcu",
        "colab": {
          "base_uri": "https://localhost:8080/"
        },
        "outputId": "c0fa6e3b-4244-4005-89d8-e43339af14d0"
      },
      "outputs": [
        {
          "output_type": "execute_result",
          "data": {
            "text/plain": [
              "15945"
            ]
          },
          "metadata": {},
          "execution_count": 25
        }
      ],
      "source": [
        "# количество прослушиваний в Москве по пятницам\n",
        "number_tracks('Friday', 'Moscow')"
      ]
    },
    {
      "cell_type": "code",
      "execution_count": 26,
      "metadata": {
        "deletable": false,
        "id": "8_yzFtW3_Zcu",
        "colab": {
          "base_uri": "https://localhost:8080/"
        },
        "outputId": "572abef3-1389-4fbf-e023-1ab3fc9e09f4"
      },
      "outputs": [
        {
          "output_type": "execute_result",
          "data": {
            "text/plain": [
              "5895"
            ]
          },
          "metadata": {},
          "execution_count": 26
        }
      ],
      "source": [
        "# количество прослушиваний в Санкт-Петербурге по пятницам\n",
        "number_tracks('Friday', 'Saint-Petersburg')"
      ]
    },
    {
      "cell_type": "code",
      "execution_count": 27,
      "metadata": {
        "deletable": false,
        "id": "APAcLpOr_Zcu",
        "colab": {
          "base_uri": "https://localhost:8080/",
          "height": 112
        },
        "outputId": "351efea8-7a61-4ba3-cc38-b17ba5964593"
      },
      "outputs": [
        {
          "output_type": "execute_result",
          "data": {
            "text/plain": [
              "               city monday wednesday friday\n",
              "0            Moscow  15740     11056   5895\n",
              "1  Saint-Petersburg   5614      7003   5895"
            ],
            "text/html": [
              "\n",
              "  <div id=\"df-d0811205-ed01-4384-8d70-02e17238763f\">\n",
              "    <div class=\"colab-df-container\">\n",
              "      <div>\n",
              "<style scoped>\n",
              "    .dataframe tbody tr th:only-of-type {\n",
              "        vertical-align: middle;\n",
              "    }\n",
              "\n",
              "    .dataframe tbody tr th {\n",
              "        vertical-align: top;\n",
              "    }\n",
              "\n",
              "    .dataframe thead th {\n",
              "        text-align: right;\n",
              "    }\n",
              "</style>\n",
              "<table border=\"1\" class=\"dataframe\">\n",
              "  <thead>\n",
              "    <tr style=\"text-align: right;\">\n",
              "      <th></th>\n",
              "      <th>city</th>\n",
              "      <th>monday</th>\n",
              "      <th>wednesday</th>\n",
              "      <th>friday</th>\n",
              "    </tr>\n",
              "  </thead>\n",
              "  <tbody>\n",
              "    <tr>\n",
              "      <th>0</th>\n",
              "      <td>Moscow</td>\n",
              "      <td>15740</td>\n",
              "      <td>11056</td>\n",
              "      <td>5895</td>\n",
              "    </tr>\n",
              "    <tr>\n",
              "      <th>1</th>\n",
              "      <td>Saint-Petersburg</td>\n",
              "      <td>5614</td>\n",
              "      <td>7003</td>\n",
              "      <td>5895</td>\n",
              "    </tr>\n",
              "  </tbody>\n",
              "</table>\n",
              "</div>\n",
              "      <button class=\"colab-df-convert\" onclick=\"convertToInteractive('df-d0811205-ed01-4384-8d70-02e17238763f')\"\n",
              "              title=\"Convert this dataframe to an interactive table.\"\n",
              "              style=\"display:none;\">\n",
              "        \n",
              "  <svg xmlns=\"http://www.w3.org/2000/svg\" height=\"24px\"viewBox=\"0 0 24 24\"\n",
              "       width=\"24px\">\n",
              "    <path d=\"M0 0h24v24H0V0z\" fill=\"none\"/>\n",
              "    <path d=\"M18.56 5.44l.94 2.06.94-2.06 2.06-.94-2.06-.94-.94-2.06-.94 2.06-2.06.94zm-11 1L8.5 8.5l.94-2.06 2.06-.94-2.06-.94L8.5 2.5l-.94 2.06-2.06.94zm10 10l.94 2.06.94-2.06 2.06-.94-2.06-.94-.94-2.06-.94 2.06-2.06.94z\"/><path d=\"M17.41 7.96l-1.37-1.37c-.4-.4-.92-.59-1.43-.59-.52 0-1.04.2-1.43.59L10.3 9.45l-7.72 7.72c-.78.78-.78 2.05 0 2.83L4 21.41c.39.39.9.59 1.41.59.51 0 1.02-.2 1.41-.59l7.78-7.78 2.81-2.81c.8-.78.8-2.07 0-2.86zM5.41 20L4 18.59l7.72-7.72 1.47 1.35L5.41 20z\"/>\n",
              "  </svg>\n",
              "      </button>\n",
              "      \n",
              "  <style>\n",
              "    .colab-df-container {\n",
              "      display:flex;\n",
              "      flex-wrap:wrap;\n",
              "      gap: 12px;\n",
              "    }\n",
              "\n",
              "    .colab-df-convert {\n",
              "      background-color: #E8F0FE;\n",
              "      border: none;\n",
              "      border-radius: 50%;\n",
              "      cursor: pointer;\n",
              "      display: none;\n",
              "      fill: #1967D2;\n",
              "      height: 32px;\n",
              "      padding: 0 0 0 0;\n",
              "      width: 32px;\n",
              "    }\n",
              "\n",
              "    .colab-df-convert:hover {\n",
              "      background-color: #E2EBFA;\n",
              "      box-shadow: 0px 1px 2px rgba(60, 64, 67, 0.3), 0px 1px 3px 1px rgba(60, 64, 67, 0.15);\n",
              "      fill: #174EA6;\n",
              "    }\n",
              "\n",
              "    [theme=dark] .colab-df-convert {\n",
              "      background-color: #3B4455;\n",
              "      fill: #D2E3FC;\n",
              "    }\n",
              "\n",
              "    [theme=dark] .colab-df-convert:hover {\n",
              "      background-color: #434B5C;\n",
              "      box-shadow: 0px 1px 3px 1px rgba(0, 0, 0, 0.15);\n",
              "      filter: drop-shadow(0px 1px 2px rgba(0, 0, 0, 0.3));\n",
              "      fill: #FFFFFF;\n",
              "    }\n",
              "  </style>\n",
              "\n",
              "      <script>\n",
              "        const buttonEl =\n",
              "          document.querySelector('#df-d0811205-ed01-4384-8d70-02e17238763f button.colab-df-convert');\n",
              "        buttonEl.style.display =\n",
              "          google.colab.kernel.accessAllowed ? 'block' : 'none';\n",
              "\n",
              "        async function convertToInteractive(key) {\n",
              "          const element = document.querySelector('#df-d0811205-ed01-4384-8d70-02e17238763f');\n",
              "          const dataTable =\n",
              "            await google.colab.kernel.invokeFunction('convertToInteractive',\n",
              "                                                     [key], {});\n",
              "          if (!dataTable) return;\n",
              "\n",
              "          const docLinkHtml = 'Like what you see? Visit the ' +\n",
              "            '<a target=\"_blank\" href=https://colab.research.google.com/notebooks/data_table.ipynb>data table notebook</a>'\n",
              "            + ' to learn more about interactive tables.';\n",
              "          element.innerHTML = '';\n",
              "          dataTable['output_type'] = 'display_data';\n",
              "          await google.colab.output.renderOutput(dataTable, element);\n",
              "          const docLink = document.createElement('div');\n",
              "          docLink.innerHTML = docLinkHtml;\n",
              "          element.appendChild(docLink);\n",
              "        }\n",
              "      </script>\n",
              "    </div>\n",
              "  </div>\n",
              "  "
            ]
          },
          "metadata": {},
          "execution_count": 27
        }
      ],
      "source": [
        "# Таблица с результатами\n",
        "import pandas as pd\n",
        "data = [['Moscow', '15740', '11056', '5895'], ['Saint-Petersburg', '5614', '7003', '5895']]\n",
        "a = pd.DataFrame(data = data, columns = ['city', 'monday', 'wednesday', 'friday'])\n",
        "a"
      ]
    },
    {
      "cell_type": "markdown",
      "metadata": {
        "deletable": false,
        "editable": false,
        "id": "-EgPIHYu_Zcu"
      },
      "source": [
        "**Выводы**\n",
        "\n",
        "Данные показывают разницу поведения пользователей:\n",
        "\n",
        "- В Москве пик прослушиваний приходится на понедельник и пятницу, а в среду заметен спад.\n",
        "- В Петербурге, наоборот, больше слушают музыку по средам. Активность в понедельник и пятницу здесь почти в равной мере уступает среде.\n",
        "\n",
        "Значит, данные говорят в пользу первой гипотезы."
      ]
    },
    {
      "cell_type": "markdown",
      "metadata": {
        "deletable": false,
        "editable": false,
        "id": "atZAxtq4_Zcu"
      },
      "source": [
        "### Музыка в начале и в конце недели"
      ]
    },
    {
      "cell_type": "markdown",
      "metadata": {
        "deletable": false,
        "editable": false,
        "id": "eXrQqXFH_Zcu"
      },
      "source": [
        "Согласно второй гипотезе, утром в понедельник в Москве преобладают одни жанры, а в Петербурге — другие. Так же и вечером пятницы преобладают разные жанры — в зависимости от города."
      ]
    },
    {
      "cell_type": "code",
      "execution_count": 28,
      "metadata": {
        "deletable": false,
        "id": "qeaFfM_P_Zcu"
      },
      "outputs": [],
      "source": [
        "# получение таблицы moscow_general из тех строк таблицы df, \n",
        "# для которых значение в столбце 'city' равно 'Moscow'\n",
        "moscow_general = df[df['city'] == 'Moscow']"
      ]
    },
    {
      "cell_type": "code",
      "execution_count": 29,
      "metadata": {
        "deletable": false,
        "id": "ORaVRKto_Zcu"
      },
      "outputs": [],
      "source": [
        "# получение таблицы spb_general из тех строк таблицы df,\n",
        "# для которых значение в столбце 'city' равно 'Saint-Petersburg'\n",
        "spb_general = df[df['city'] == 'Saint-Petersburg']"
      ]
    },
    {
      "cell_type": "code",
      "execution_count": 30,
      "metadata": {
        "deletable": false,
        "id": "laJT9BYl_Zcu"
      },
      "outputs": [],
      "source": [
        "# Объявление функции genre_weekday() с параметрами table, day, time1, time2,\n",
        "# которая возвращает информацию о самых популярных жанрах в указанный день в\n",
        "# заданное время:\n",
        "# 1) в переменную genre_df сохраняются те строки переданного датафрейма table, для\n",
        "#    которых одновременно:\n",
        "#    - значение в столбце day равно значению аргумента day\n",
        "#    - значение в столбце time больше значения аргумента time1\n",
        "#    - значение в столбце time меньше значения аргумента time2\n",
        "#    Используйте последовательную фильтрацию с помощью логической индексации.\n",
        "# 2) сгруппировать датафрейм genre_df по столбцу genre, взять один из его\n",
        "#    столбцов и посчитать методом count() количество записей для каждого из\n",
        "#    присутствующих жанров, получившийся Series записать в переменную\n",
        "#    genre_df_count\n",
        "# 3) отсортировать genre_df_count по убыванию встречаемости и сохранить\n",
        "#    в переменную genre_df_sorted\n",
        "# 4) вернуть Series из 10 первых значений genre_df_sorted, это будут топ-10\n",
        "#    популярных жанров (в указанный день, в заданное время)\n",
        "\n",
        "def genre_weekday(df, day, time1, time2):\n",
        "    genre_df = df[(df['day'] == day) & (df['time'] > time1) & (df['time'] < time2)]\n",
        "    # последовательная фильтрация\n",
        "    # оставляем в genre_df только те строки df, у которых день равен day\n",
        "    #genre_df = # ваш код здесь\n",
        "    # оставляем в genre_df только те строки genre_df, у которых время меньше time2\n",
        "    #genre_df = # ваш код здесь\n",
        "    # оставляем в genre_df только те строки genre_df, у которых время больше time1\n",
        "    #genre_df = # ваш код здесь\n",
        "    # сгруппируем отфильтрованный датафрейм по столбцу с названиями жанров, возьмём столбец genre и посчитаем кол-во строк для каждого жанра методом count()\n",
        "    genre_df_grouped = genre_df.groupby('genre')['genre'].count()# ваш код здесь\n",
        "    # отсортируем результат по убыванию (чтобы в начале Series оказались самые популярные жанры)\n",
        "    genre_df_sorted = genre_df_grouped.sort_values(ascending = False)# ваш код здесь\n",
        "    # вернём Series с 10 самыми популярными жанрами в указанный отрезок времени заданного дня\n",
        "    return genre_df_sorted[:10]"
      ]
    },
    {
      "cell_type": "code",
      "execution_count": 31,
      "metadata": {
        "deletable": false,
        "id": "yz7itPUQ_Zcu",
        "colab": {
          "base_uri": "https://localhost:8080/"
        },
        "outputId": "0d5d7254-c22a-4ded-85ab-aa9ca58e15ab"
      },
      "outputs": [
        {
          "output_type": "execute_result",
          "data": {
            "text/plain": [
              "genre\n",
              "pop            781\n",
              "dance          549\n",
              "electronic     480\n",
              "rock           474\n",
              "hiphop         286\n",
              "ruspop         186\n",
              "world          181\n",
              "rusrap         175\n",
              "alternative    164\n",
              "unknown        161\n",
              "Name: genre, dtype: int64"
            ]
          },
          "metadata": {},
          "execution_count": 31
        }
      ],
      "source": [
        "# вызов функции для утра понедельника в Москве (вместо df — таблица moscow_general)\n",
        "# объекты, хранящие время, являются строками и сравниваются как строки\n",
        "# пример вызова: genre_weekday(moscow_general, 'Monday', '07:00', '11:00')\n",
        "genre_weekday(moscow_general, 'Monday', '07:00', '11:00')"
      ]
    },
    {
      "cell_type": "code",
      "execution_count": 32,
      "metadata": {
        "deletable": false,
        "id": "kwUcHPdy_Zcu",
        "colab": {
          "base_uri": "https://localhost:8080/"
        },
        "outputId": "c836dca9-8827-4916-a0d6-3e5929a8bd4b"
      },
      "outputs": [
        {
          "output_type": "execute_result",
          "data": {
            "text/plain": [
              "genre\n",
              "pop            218\n",
              "dance          182\n",
              "rock           162\n",
              "electronic     147\n",
              "hiphop          80\n",
              "ruspop          64\n",
              "alternative     58\n",
              "rusrap          55\n",
              "jazz            44\n",
              "classical       40\n",
              "Name: genre, dtype: int64"
            ]
          },
          "metadata": {},
          "execution_count": 32
        }
      ],
      "source": [
        "# вызов функции для утра понедельника в Петербурге (вместо df — таблица spb_general)\n",
        "genre_weekday(spb_general, 'Monday', '07:00', '11:00')"
      ]
    },
    {
      "cell_type": "code",
      "execution_count": 33,
      "metadata": {
        "deletable": false,
        "id": "EzXVRE1o_Zcu",
        "colab": {
          "base_uri": "https://localhost:8080/"
        },
        "outputId": "f6c3a051-78a2-4fe6-9aa6-50afc03e107f"
      },
      "outputs": [
        {
          "output_type": "execute_result",
          "data": {
            "text/plain": [
              "genre\n",
              "pop            713\n",
              "rock           517\n",
              "dance          495\n",
              "electronic     482\n",
              "hiphop         273\n",
              "world          208\n",
              "ruspop         170\n",
              "alternative    163\n",
              "classical      163\n",
              "rusrap         142\n",
              "Name: genre, dtype: int64"
            ]
          },
          "metadata": {},
          "execution_count": 33
        }
      ],
      "source": [
        "# вызов функции для вечера пятницы в Москве\n",
        "genre_weekday(moscow_general, 'Friday', '17:00', '23:00')"
      ]
    },
    {
      "cell_type": "code",
      "execution_count": 34,
      "metadata": {
        "deletable": false,
        "id": "JZaEKu5v_Zcu",
        "colab": {
          "base_uri": "https://localhost:8080/"
        },
        "outputId": "99c580a8-d3f5-4f6d-a5ec-ada5e6432d67"
      },
      "outputs": [
        {
          "output_type": "execute_result",
          "data": {
            "text/plain": [
              "genre\n",
              "pop            256\n",
              "electronic     216\n",
              "rock           216\n",
              "dance          210\n",
              "hiphop          97\n",
              "alternative     63\n",
              "jazz            61\n",
              "classical       60\n",
              "rusrap          59\n",
              "world           54\n",
              "Name: genre, dtype: int64"
            ]
          },
          "metadata": {},
          "execution_count": 34
        }
      ],
      "source": [
        "# вызов функции для вечера пятницы в Петербурге\n",
        "genre_weekday(spb_general, 'Friday', '17:00', '23:00')"
      ]
    },
    {
      "cell_type": "markdown",
      "metadata": {
        "deletable": false,
        "editable": false,
        "id": "wrCe4MNX_Zcu"
      },
      "source": [
        "**Выводы**\n",
        "\n",
        "Если сравнить топ-10 жанров в понедельник утром, можно сделать такие выводы:\n",
        "\n",
        "1. В Москве и Петербурге слушают похожую музыку. Единственное отличие — в московский рейтинг вошёл жанр “world”, а в петербургский — джаз и классика.\n",
        "\n",
        "2. В Москве пропущенных значений оказалось так много, что значение `'unknown'` заняло десятое место среди самых популярных жанров. Значит, пропущенные значения занимают существенную долю в данных и угрожают достоверности исследования.\n",
        "\n",
        "Вечер пятницы не меняет эту картину. Некоторые жанры поднимаются немного выше, другие спускаются, но в целом топ-10 остаётся тем же самым.\n",
        "\n",
        "Таким образом, вторая гипотеза подтвердилась лишь частично:\n",
        "* Пользователи слушают похожую музыку в начале недели и в конце.\n",
        "* Разница между Москвой и Петербургом не слишком выражена. В Москве чаще слушают русскую популярную музыку, в Петербурге — джаз.\n",
        "\n",
        "Однако пропуски в данных ставят под сомнение этот результат. В Москве их так много, что рейтинг топ-10 мог бы выглядеть иначе, если бы не утерянные  данные о жанрах."
      ]
    },
    {
      "cell_type": "markdown",
      "metadata": {
        "deletable": false,
        "editable": false,
        "id": "JolODAqr_Zcu"
      },
      "source": [
        "### Жанровые предпочтения в Москве и Петербурге\n",
        "\n",
        "Гипотеза: Петербург — столица рэпа, музыку этого жанра там слушают чаще, чем в Москве.  А Москва — город контрастов, в котором, тем не менее, преобладает поп-музыка."
      ]
    },
    {
      "cell_type": "code",
      "execution_count": 35,
      "metadata": {
        "deletable": false,
        "id": "r19lIPke_Zcu"
      },
      "outputs": [],
      "source": [
        "# одной строкой: группировка таблицы moscow_general по столбцу 'genre', \n",
        "# подсчёт числа значений 'genre' в этой группировке методом count(), \n",
        "# сортировка получившегося Series в порядке убывания и сохранение в moscow_genres\n",
        "moscow_genres = moscow_general.groupby('genre')['genre'].count().sort_values(ascending = False)"
      ]
    },
    {
      "cell_type": "code",
      "execution_count": 36,
      "metadata": {
        "deletable": false,
        "id": "WhCSooF8_Zcv",
        "colab": {
          "base_uri": "https://localhost:8080/"
        },
        "outputId": "8b53ec64-5f51-41a4-ff97-3d3d619be484"
      },
      "outputs": [
        {
          "output_type": "execute_result",
          "data": {
            "text/plain": [
              "genre\n",
              "pop            5892\n",
              "dance          4435\n",
              "rock           3965\n",
              "electronic     3786\n",
              "hiphop         2096\n",
              "classical      1616\n",
              "world          1432\n",
              "alternative    1379\n",
              "ruspop         1372\n",
              "rusrap         1161\n",
              "Name: genre, dtype: int64"
            ]
          },
          "metadata": {},
          "execution_count": 36
        }
      ],
      "source": [
        "# просмотр первых 10 строк moscow_genres\n",
        "moscow_genres.head(10)"
      ]
    },
    {
      "cell_type": "code",
      "execution_count": 37,
      "metadata": {
        "deletable": false,
        "id": "gluLIpE7_Zcv"
      },
      "outputs": [],
      "source": [
        "# одной строкой: группировка таблицы spb_general по столбцу 'genre', \n",
        "# подсчёт числа значений 'genre' в этой группировке методом count(), \n",
        "# сортировка получившегося Series в порядке убывания и сохранение в spb_genres\n",
        "spb_genres = spb_general.groupby('genre')['genre'].count().sort_values(ascending = False)"
      ]
    },
    {
      "cell_type": "code",
      "execution_count": 38,
      "metadata": {
        "deletable": false,
        "id": "uaGJHjVU_Zcv",
        "colab": {
          "base_uri": "https://localhost:8080/"
        },
        "outputId": "6baca1fd-0b4c-41f3-bf64-57f0edca55ae"
      },
      "outputs": [
        {
          "output_type": "execute_result",
          "data": {
            "text/plain": [
              "genre\n",
              "pop            2431\n",
              "dance          1932\n",
              "rock           1879\n",
              "electronic     1736\n",
              "hiphop          960\n",
              "alternative     649\n",
              "classical       646\n",
              "rusrap          564\n",
              "ruspop          538\n",
              "world           515\n",
              "Name: genre, dtype: int64"
            ]
          },
          "metadata": {},
          "execution_count": 38
        }
      ],
      "source": [
        "# просмотр первых 10 строк spb_genres\n",
        "spb_genres.head(10)"
      ]
    },
    {
      "cell_type": "markdown",
      "metadata": {
        "deletable": false,
        "editable": false,
        "id": "RY51YJYu_Zcv"
      },
      "source": [
        "**Выводы**"
      ]
    },
    {
      "cell_type": "markdown",
      "metadata": {
        "deletable": false,
        "editable": false,
        "id": "nVhnJEm__Zcv"
      },
      "source": [
        "Гипотеза частично подтвердилась:\n",
        "* Поп-музыка — самый популярный жанр в Москве, как и предполагала гипотеза. Более того, в топ-10 жанров встречается близкий жанр — русская популярная музыка.\n",
        "* Вопреки ожиданиям, рэп одинаково популярен в Москве и Петербурге. \n"
      ]
    },
    {
      "cell_type": "markdown",
      "metadata": {
        "deletable": false,
        "editable": false,
        "id": "ykKQ0N65_Zcv"
      },
      "source": [
        "## Итоги исследования"
      ]
    },
    {
      "cell_type": "markdown",
      "metadata": {
        "deletable": false,
        "editable": false,
        "id": "tjUwbHb3_Zcv"
      },
      "source": [
        "Вы проверили три гипотезы и установили:\n",
        "\n",
        "1. День недели по-разному влияет на активность пользователей в Москве и Петербурге. \n",
        "\n",
        "Первая гипотеза полностью подтвердилась.\n",
        "\n",
        "2. Музыкальные предпочтения не сильно меняются в течение недели — будь то Москва или Петербург. Небольшие различия заметны в начале недели, по понедельникам:\n",
        "* в Москве слушают музыку жанра “world”,\n",
        "* в Петербурге — джаз и классику.\n",
        "\n",
        "Таким образом, вторая гипотеза подтвердилась лишь отчасти. Этот результат мог оказаться иным, если бы не пропуски в данных.\n",
        "\n",
        "3. Во вкусах пользователей Москвы и Петербурга больше общего чем различий. Вопреки ожиданиям, предпочтения жанров в Петербурге напоминают московские.\n",
        "\n",
        "Третья гипотеза не подтвердилась. Если различия в предпочтениях и существуют, на основной массе пользователей они незаметны.\n",
        "\n",
        "**На практике исследования содержат проверки статистических гипотез.**\n",
        "Из данных одного сервиса не всегда можно сделать вывод о всех жителях города.\n",
        "Проверки статистических гипотез покажут, насколько они достоверны, исходя из имеющихся данных. \n",
        "С методами проверок гипотез вы ещё познакомитесь в следующих темах."
      ]
    }
  ],
  "metadata": {
    "ExecuteTimeLog": [
      {
        "duration": 42,
        "start_time": "2022-09-28T17:31:24.929Z"
      },
      {
        "duration": 393,
        "start_time": "2022-09-28T17:31:39.684Z"
      },
      {
        "duration": 436,
        "start_time": "2022-09-28T17:31:44.528Z"
      },
      {
        "duration": 15,
        "start_time": "2022-09-28T17:31:48.686Z"
      },
      {
        "duration": 26,
        "start_time": "2022-09-28T17:39:35.910Z"
      },
      {
        "duration": 3,
        "start_time": "2022-09-28T17:39:42.309Z"
      },
      {
        "duration": 29,
        "start_time": "2022-09-28T17:40:15.012Z"
      },
      {
        "duration": 45,
        "start_time": "2022-09-28T17:40:36.584Z"
      },
      {
        "duration": 15,
        "start_time": "2022-09-28T17:42:29.783Z"
      },
      {
        "duration": 5,
        "start_time": "2022-09-28T17:42:47.261Z"
      },
      {
        "duration": 24,
        "start_time": "2022-09-28T17:45:31.689Z"
      },
      {
        "duration": 7,
        "start_time": "2022-09-28T17:46:15.876Z"
      },
      {
        "duration": 6,
        "start_time": "2022-09-28T17:46:25.455Z"
      },
      {
        "duration": 3,
        "start_time": "2022-09-28T17:47:16.459Z"
      },
      {
        "duration": 6,
        "start_time": "2022-09-28T17:47:53.529Z"
      },
      {
        "duration": 6,
        "start_time": "2022-09-28T17:48:06.521Z"
      },
      {
        "duration": 7,
        "start_time": "2022-09-28T17:50:42.312Z"
      },
      {
        "duration": 7,
        "start_time": "2022-09-28T17:51:05.991Z"
      },
      {
        "duration": 8,
        "start_time": "2022-09-28T17:51:19.710Z"
      },
      {
        "duration": 6,
        "start_time": "2022-09-28T17:51:40.948Z"
      },
      {
        "duration": 11,
        "start_time": "2022-09-28T17:52:44.361Z"
      },
      {
        "duration": 3,
        "start_time": "2022-09-28T17:52:50.688Z"
      },
      {
        "duration": 6,
        "start_time": "2022-09-28T17:53:02.802Z"
      },
      {
        "duration": 7,
        "start_time": "2022-09-28T17:53:58.896Z"
      },
      {
        "duration": 6,
        "start_time": "2022-09-28T17:54:24.865Z"
      },
      {
        "duration": 6,
        "start_time": "2022-09-28T17:55:10.818Z"
      },
      {
        "duration": 21,
        "start_time": "2022-09-28T17:55:48.135Z"
      },
      {
        "duration": 21,
        "start_time": "2022-09-28T18:17:40.339Z"
      },
      {
        "duration": 54,
        "start_time": "2022-09-28T18:18:22.345Z"
      },
      {
        "duration": 9,
        "start_time": "2022-09-28T18:19:27.806Z"
      },
      {
        "duration": 58,
        "start_time": "2022-09-28T18:20:08.074Z"
      },
      {
        "duration": 55,
        "start_time": "2022-09-28T18:20:11.198Z"
      },
      {
        "duration": 49,
        "start_time": "2022-09-28T18:20:59.214Z"
      },
      {
        "duration": 7,
        "start_time": "2022-09-28T19:51:14.512Z"
      },
      {
        "duration": 33,
        "start_time": "2022-09-28T19:52:50.920Z"
      },
      {
        "duration": 6,
        "start_time": "2022-09-28T19:56:52.117Z"
      },
      {
        "duration": 38,
        "start_time": "2022-09-28T19:57:07.763Z"
      },
      {
        "duration": 7,
        "start_time": "2022-09-28T20:04:59.924Z"
      },
      {
        "duration": 7,
        "start_time": "2022-09-28T20:06:50.557Z"
      },
      {
        "duration": 6,
        "start_time": "2022-09-28T20:07:03.047Z"
      },
      {
        "duration": 7,
        "start_time": "2022-09-28T20:10:05.300Z"
      },
      {
        "duration": 6,
        "start_time": "2022-09-28T20:10:53.191Z"
      },
      {
        "duration": 21,
        "start_time": "2022-09-28T20:11:08.553Z"
      },
      {
        "duration": 10,
        "start_time": "2022-09-28T20:12:55.024Z"
      },
      {
        "duration": 11,
        "start_time": "2022-09-28T20:14:41.465Z"
      },
      {
        "duration": 6,
        "start_time": "2022-09-28T20:31:39.157Z"
      },
      {
        "duration": 4,
        "start_time": "2022-09-28T20:32:14.440Z"
      },
      {
        "duration": 6,
        "start_time": "2022-09-28T20:33:13.083Z"
      },
      {
        "duration": 9,
        "start_time": "2022-09-28T20:33:32.042Z"
      },
      {
        "duration": 10,
        "start_time": "2022-09-28T20:34:01.462Z"
      },
      {
        "duration": 9,
        "start_time": "2022-09-28T20:37:36.689Z"
      },
      {
        "duration": 9,
        "start_time": "2022-09-28T20:39:44.562Z"
      },
      {
        "duration": 10,
        "start_time": "2022-09-28T20:40:13.748Z"
      },
      {
        "duration": 9,
        "start_time": "2022-09-28T20:40:27.042Z"
      },
      {
        "duration": 9,
        "start_time": "2022-09-28T20:41:54.296Z"
      },
      {
        "duration": 10,
        "start_time": "2022-09-28T20:41:57.016Z"
      },
      {
        "duration": 11,
        "start_time": "2022-09-28T20:42:01.568Z"
      },
      {
        "duration": 9,
        "start_time": "2022-09-28T20:43:34.510Z"
      },
      {
        "duration": 12,
        "start_time": "2022-09-28T20:43:37.317Z"
      },
      {
        "duration": 9,
        "start_time": "2022-09-28T20:43:39.296Z"
      },
      {
        "duration": 11,
        "start_time": "2022-09-28T20:44:43.896Z"
      },
      {
        "duration": 16,
        "start_time": "2022-09-28T20:47:23.950Z"
      },
      {
        "duration": 14,
        "start_time": "2022-09-28T20:47:41.114Z"
      },
      {
        "duration": 13,
        "start_time": "2022-09-28T20:47:44.475Z"
      },
      {
        "duration": 13,
        "start_time": "2022-09-28T20:47:47.768Z"
      },
      {
        "duration": 12,
        "start_time": "2022-09-28T20:47:50.418Z"
      },
      {
        "duration": 14,
        "start_time": "2022-09-28T20:47:52.698Z"
      },
      {
        "duration": 13,
        "start_time": "2022-09-28T20:47:55.185Z"
      },
      {
        "duration": 8,
        "start_time": "2022-09-28T21:03:36.975Z"
      },
      {
        "duration": 6,
        "start_time": "2022-09-28T21:03:49.302Z"
      },
      {
        "duration": 8,
        "start_time": "2022-09-28T21:04:29.008Z"
      },
      {
        "duration": 7,
        "start_time": "2022-09-28T21:04:59.332Z"
      },
      {
        "duration": 7,
        "start_time": "2022-09-28T21:07:24.763Z"
      },
      {
        "duration": 7,
        "start_time": "2022-09-28T21:07:51.996Z"
      },
      {
        "duration": 7,
        "start_time": "2022-09-28T21:08:10.417Z"
      },
      {
        "duration": 7,
        "start_time": "2022-09-28T21:08:59.520Z"
      },
      {
        "duration": 7,
        "start_time": "2022-09-28T21:11:52.855Z"
      },
      {
        "duration": 8,
        "start_time": "2022-09-28T21:14:08.923Z"
      },
      {
        "duration": 8,
        "start_time": "2022-09-28T21:14:25.694Z"
      },
      {
        "duration": 50,
        "start_time": "2022-09-29T05:15:17.626Z"
      },
      {
        "duration": 6,
        "start_time": "2022-09-29T05:18:02.274Z"
      },
      {
        "duration": 5,
        "start_time": "2022-09-29T05:18:19.462Z"
      },
      {
        "duration": 12,
        "start_time": "2022-09-29T05:18:26.490Z"
      },
      {
        "duration": 4,
        "start_time": "2022-09-29T05:18:33.656Z"
      },
      {
        "duration": 6,
        "start_time": "2022-09-29T05:18:39.442Z"
      },
      {
        "duration": 6,
        "start_time": "2022-09-29T05:18:55.657Z"
      },
      {
        "duration": 426,
        "start_time": "2022-09-29T05:19:04.697Z"
      },
      {
        "duration": 480,
        "start_time": "2022-09-29T05:19:09.465Z"
      },
      {
        "duration": 26,
        "start_time": "2022-09-29T05:19:12.873Z"
      },
      {
        "duration": 37,
        "start_time": "2022-09-29T05:19:22.772Z"
      },
      {
        "duration": 4,
        "start_time": "2022-09-29T05:19:29.988Z"
      },
      {
        "duration": 13,
        "start_time": "2022-09-29T05:19:34.705Z"
      },
      {
        "duration": 4,
        "start_time": "2022-09-29T05:19:38.577Z"
      },
      {
        "duration": 25,
        "start_time": "2022-09-29T05:19:44.466Z"
      },
      {
        "duration": 21,
        "start_time": "2022-09-29T05:19:50.305Z"
      },
      {
        "duration": 24,
        "start_time": "2022-09-29T05:19:54.129Z"
      },
      {
        "duration": 67,
        "start_time": "2022-09-29T05:19:58.730Z"
      },
      {
        "duration": 74,
        "start_time": "2022-09-29T05:20:02.986Z"
      },
      {
        "duration": 66,
        "start_time": "2022-09-29T05:20:05.562Z"
      },
      {
        "duration": 49,
        "start_time": "2022-09-29T05:20:09.552Z"
      },
      {
        "duration": 11,
        "start_time": "2022-09-29T05:20:14.939Z"
      },
      {
        "duration": 46,
        "start_time": "2022-09-29T05:20:23.061Z"
      },
      {
        "duration": 13,
        "start_time": "2022-09-29T05:20:29.305Z"
      },
      {
        "duration": 11,
        "start_time": "2022-09-29T05:20:32.826Z"
      },
      {
        "duration": 5,
        "start_time": "2022-09-29T05:20:38.099Z"
      },
      {
        "duration": 15,
        "start_time": "2022-09-29T05:20:43.262Z"
      },
      {
        "duration": 14,
        "start_time": "2022-09-29T05:20:46.712Z"
      },
      {
        "duration": 16,
        "start_time": "2022-09-29T05:20:49.209Z"
      },
      {
        "duration": 16,
        "start_time": "2022-09-29T05:20:54.019Z"
      },
      {
        "duration": 25,
        "start_time": "2022-09-29T05:20:56.778Z"
      },
      {
        "duration": 10,
        "start_time": "2022-09-29T05:21:02.547Z"
      },
      {
        "duration": 16,
        "start_time": "2022-09-29T05:21:07.377Z"
      },
      {
        "duration": 10,
        "start_time": "2022-09-29T05:21:10.554Z"
      },
      {
        "duration": 5,
        "start_time": "2022-09-29T05:21:15.617Z"
      },
      {
        "duration": 22,
        "start_time": "2022-09-29T05:21:20.074Z"
      },
      {
        "duration": 14,
        "start_time": "2022-09-29T05:22:13.083Z"
      },
      {
        "duration": 20,
        "start_time": "2022-09-29T05:24:03.541Z"
      },
      {
        "duration": 13,
        "start_time": "2022-09-29T05:24:08.501Z"
      },
      {
        "duration": 14,
        "start_time": "2022-09-29T05:31:32.037Z"
      },
      {
        "duration": 12,
        "start_time": "2022-09-29T05:31:35.175Z"
      },
      {
        "duration": 16,
        "start_time": "2022-09-29T05:33:53.628Z"
      },
      {
        "duration": 25,
        "start_time": "2022-09-29T05:36:30.581Z"
      },
      {
        "duration": 5,
        "start_time": "2022-09-29T05:39:52.684Z"
      },
      {
        "duration": 50,
        "start_time": "2022-09-29T05:40:05.153Z"
      },
      {
        "duration": 4,
        "start_time": "2022-09-29T05:40:45.428Z"
      },
      {
        "duration": 16,
        "start_time": "2022-09-29T05:40:49.624Z"
      },
      {
        "duration": 12,
        "start_time": "2022-09-29T05:40:54.806Z"
      },
      {
        "duration": 18,
        "start_time": "2022-09-29T05:40:57.912Z"
      },
      {
        "duration": 19,
        "start_time": "2022-09-29T05:41:00.783Z"
      },
      {
        "duration": 9,
        "start_time": "2022-09-29T08:48:25.980Z"
      },
      {
        "duration": 9,
        "start_time": "2022-09-29T08:51:33.428Z"
      },
      {
        "duration": 12,
        "start_time": "2022-09-29T08:52:17.701Z"
      },
      {
        "duration": 13,
        "start_time": "2022-09-29T08:54:37.193Z"
      },
      {
        "duration": 12,
        "start_time": "2022-09-29T08:58:59.125Z"
      },
      {
        "duration": 12,
        "start_time": "2022-09-29T09:00:17.273Z"
      },
      {
        "duration": 11,
        "start_time": "2022-09-29T09:01:14.128Z"
      },
      {
        "duration": 5,
        "start_time": "2022-09-29T09:03:04.494Z"
      },
      {
        "duration": 7,
        "start_time": "2022-09-29T09:04:32.550Z"
      },
      {
        "duration": 6,
        "start_time": "2022-09-29T09:05:15.449Z"
      }
    ],
    "colab": {
      "provenance": [],
      "include_colab_link": true
    },
    "kernelspec": {
      "display_name": "Python 3 (ipykernel)",
      "language": "python",
      "name": "python3"
    },
    "language_info": {
      "codemirror_mode": {
        "name": "ipython",
        "version": 3
      },
      "file_extension": ".py",
      "mimetype": "text/x-python",
      "name": "python",
      "nbconvert_exporter": "python",
      "pygments_lexer": "ipython3",
      "version": "3.9.5"
    },
    "toc": {
      "base_numbering": 1,
      "nav_menu": {
        "height": "215px",
        "width": "403px"
      },
      "number_sections": true,
      "sideBar": true,
      "skip_h1_title": true,
      "title_cell": "Table of Contents",
      "title_sidebar": "Contents",
      "toc_cell": false,
      "toc_position": {
        "height": "calc(100% - 180px)",
        "left": "10px",
        "top": "150px",
        "width": "285.825px"
      },
      "toc_section_display": true,
      "toc_window_display": false
    }
  },
  "nbformat": 4,
  "nbformat_minor": 0
}
