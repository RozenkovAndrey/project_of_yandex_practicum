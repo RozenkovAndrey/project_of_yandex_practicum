{
  "cells": [
    {
      "cell_type": "markdown",
      "metadata": {
        "id": "view-in-github",
        "colab_type": "text"
      },
      "source": [
        "<a href=\"https://colab.research.google.com/github/RozenkovAndrey/projects_of_yandex_practicum/blob/main/Credits/Credits.ipynb\" target=\"_parent\"><img src=\"https://colab.research.google.com/assets/colab-badge.svg\" alt=\"Open In Colab\"/></a>"
      ]
    },
    {
      "cell_type": "code",
      "source": [
        "!gdown --id 1nblIwJyqINMcwbyYCdYVkc1HiXzpX5nt"
      ],
      "metadata": {
        "colab": {
          "base_uri": "https://localhost:8080/"
        },
        "id": "AsSwWHx2ZfkI",
        "outputId": "a17314d3-b92d-4ca6-d1a9-4c196256b033"
      },
      "id": "AsSwWHx2ZfkI",
      "execution_count": 70,
      "outputs": [
        {
          "output_type": "stream",
          "name": "stdout",
          "text": [
            "/usr/local/lib/python3.7/dist-packages/gdown/cli.py:131: FutureWarning: Option `--id` was deprecated in version 4.3.1 and will be removed in 5.0. You don't need to pass it anymore to use a file ID.\n",
            "  category=FutureWarning,\n",
            "Downloading...\n",
            "From: https://drive.google.com/uc?id=1nblIwJyqINMcwbyYCdYVkc1HiXzpX5nt\n",
            "To: /content/data.csv\n",
            "100% 3.32M/3.32M [00:00<00:00, 194MB/s]\n"
          ]
        }
      ]
    },
    {
      "cell_type": "markdown",
      "id": "6e7934bc",
      "metadata": {
        "deletable": false,
        "editable": false,
        "id": "6e7934bc"
      },
      "source": [
        "# Исследование надежности заемщиков\n"
      ]
    },
    {
      "cell_type": "markdown",
      "id": "8139bf3e",
      "metadata": {
        "deletable": false,
        "editable": false,
        "id": "8139bf3e"
      },
      "source": [
        "Во второй части проекта вы выполните шаги 3 и 4. Их вручную проверит ревьюер.\n",
        "Чтобы вам не пришлось писать код заново для шагов 1 и 2, мы добавили авторские решения в ячейки с кодом. \n",
        "\n"
      ]
    },
    {
      "cell_type": "markdown",
      "id": "78d2c698",
      "metadata": {
        "deletable": false,
        "editable": false,
        "id": "78d2c698"
      },
      "source": [
        "## Откройте таблицу и изучите общую информацию о данных"
      ]
    },
    {
      "cell_type": "code",
      "execution_count": 71,
      "id": "50433bcd",
      "metadata": {
        "deletable": false,
        "id": "50433bcd"
      },
      "outputs": [],
      "source": [
        "import pandas as pd\n",
        "import numpy as np\n",
        "\n",
        "try:\n",
        "    data = pd.read_csv('/datasets/data.csv')\n",
        "except:\n",
        "    data = pd.read_csv('https://code.s3.yandex.net/datasets/data.csv')"
      ]
    },
    {
      "cell_type": "code",
      "source": [
        "import warnings\n",
        "warnings.simplefilter(\"ignore\")"
      ],
      "metadata": {
        "id": "DZjRW2uemRfZ"
      },
      "id": "DZjRW2uemRfZ",
      "execution_count": 72,
      "outputs": []
    },
    {
      "cell_type": "code",
      "execution_count": 73,
      "id": "bd9d5c37",
      "metadata": {
        "deletable": false,
        "id": "bd9d5c37",
        "outputId": "3e5a5b14-7c48-49fd-fbd9-ed9592c24d94",
        "colab": {
          "base_uri": "https://localhost:8080/",
          "height": 1000
        }
      },
      "outputs": [
        {
          "output_type": "execute_result",
          "data": {
            "text/plain": [
              "    children  days_employed  dob_years            education  education_id  \\\n",
              "0          1   -8437.673028         42               высшее             0   \n",
              "1          1   -4024.803754         36              среднее             1   \n",
              "2          0   -5623.422610         33              Среднее             1   \n",
              "3          3   -4124.747207         32              среднее             1   \n",
              "4          0  340266.072047         53              среднее             1   \n",
              "5          0    -926.185831         27               высшее             0   \n",
              "6          0   -2879.202052         43               высшее             0   \n",
              "7          0    -152.779569         50              СРЕДНЕЕ             1   \n",
              "8          2   -6929.865299         35               ВЫСШЕЕ             0   \n",
              "9          0   -2188.756445         41              среднее             1   \n",
              "10         2   -4171.483647         36               высшее             0   \n",
              "11         0    -792.701887         40              среднее             1   \n",
              "12         0            NaN         65              среднее             1   \n",
              "13         0   -1846.641941         54  неоконченное высшее             2   \n",
              "14         0   -1844.956182         56               высшее             0   \n",
              "15         1    -972.364419         26              среднее             1   \n",
              "16         0   -1719.934226         35              среднее             1   \n",
              "17         0   -2369.999720         33               высшее             0   \n",
              "18         0  400281.136913         53              среднее             1   \n",
              "19         0  -10038.818549         48              СРЕДНЕЕ             1   \n",
              "\n",
              "       family_status  family_status_id gender income_type  debt  \\\n",
              "0    женат / замужем                 0      F   сотрудник     0   \n",
              "1    женат / замужем                 0      F   сотрудник     0   \n",
              "2    женат / замужем                 0      M   сотрудник     0   \n",
              "3    женат / замужем                 0      M   сотрудник     0   \n",
              "4   гражданский брак                 1      F   пенсионер     0   \n",
              "5   гражданский брак                 1      M   компаньон     0   \n",
              "6    женат / замужем                 0      F   компаньон     0   \n",
              "7    женат / замужем                 0      M   сотрудник     0   \n",
              "8   гражданский брак                 1      F   сотрудник     0   \n",
              "9    женат / замужем                 0      M   сотрудник     0   \n",
              "10   женат / замужем                 0      M   компаньон     0   \n",
              "11   женат / замужем                 0      F   сотрудник     0   \n",
              "12  гражданский брак                 1      M   пенсионер     0   \n",
              "13   женат / замужем                 0      F   сотрудник     0   \n",
              "14  гражданский брак                 1      F   компаньон     1   \n",
              "15   женат / замужем                 0      F   сотрудник     0   \n",
              "16   женат / замужем                 0      F   сотрудник     0   \n",
              "17  гражданский брак                 1      M   сотрудник     0   \n",
              "18    вдовец / вдова                 2      F   пенсионер     0   \n",
              "19         в разводе                 3      F   сотрудник     0   \n",
              "\n",
              "     total_income                                 purpose  \n",
              "0   253875.639453                           покупка жилья  \n",
              "1   112080.014102                 приобретение автомобиля  \n",
              "2   145885.952297                           покупка жилья  \n",
              "3   267628.550329              дополнительное образование  \n",
              "4   158616.077870                         сыграть свадьбу  \n",
              "5   255763.565419                           покупка жилья  \n",
              "6   240525.971920                       операции с жильем  \n",
              "7   135823.934197                             образование  \n",
              "8    95856.832424                   на проведение свадьбы  \n",
              "9   144425.938277                 покупка жилья для семьи  \n",
              "10  113943.491460                    покупка недвижимости  \n",
              "11   77069.234271       покупка коммерческой недвижимости  \n",
              "12            NaN                         сыграть свадьбу  \n",
              "13  130458.228857                 приобретение автомобиля  \n",
              "14  165127.911772              покупка жилой недвижимости  \n",
              "15  116820.904450  строительство собственной недвижимости  \n",
              "16  289202.704229                            недвижимость  \n",
              "17   90410.586745              строительство недвижимости  \n",
              "18   56823.777243      на покупку подержанного автомобиля  \n",
              "19  242831.107982            на покупку своего автомобиля  "
            ],
            "text/html": [
              "\n",
              "  <div id=\"df-cb307e59-a11a-4ada-ade5-da4c98e0cc6e\">\n",
              "    <div class=\"colab-df-container\">\n",
              "      <div>\n",
              "<style scoped>\n",
              "    .dataframe tbody tr th:only-of-type {\n",
              "        vertical-align: middle;\n",
              "    }\n",
              "\n",
              "    .dataframe tbody tr th {\n",
              "        vertical-align: top;\n",
              "    }\n",
              "\n",
              "    .dataframe thead th {\n",
              "        text-align: right;\n",
              "    }\n",
              "</style>\n",
              "<table border=\"1\" class=\"dataframe\">\n",
              "  <thead>\n",
              "    <tr style=\"text-align: right;\">\n",
              "      <th></th>\n",
              "      <th>children</th>\n",
              "      <th>days_employed</th>\n",
              "      <th>dob_years</th>\n",
              "      <th>education</th>\n",
              "      <th>education_id</th>\n",
              "      <th>family_status</th>\n",
              "      <th>family_status_id</th>\n",
              "      <th>gender</th>\n",
              "      <th>income_type</th>\n",
              "      <th>debt</th>\n",
              "      <th>total_income</th>\n",
              "      <th>purpose</th>\n",
              "    </tr>\n",
              "  </thead>\n",
              "  <tbody>\n",
              "    <tr>\n",
              "      <th>0</th>\n",
              "      <td>1</td>\n",
              "      <td>-8437.673028</td>\n",
              "      <td>42</td>\n",
              "      <td>высшее</td>\n",
              "      <td>0</td>\n",
              "      <td>женат / замужем</td>\n",
              "      <td>0</td>\n",
              "      <td>F</td>\n",
              "      <td>сотрудник</td>\n",
              "      <td>0</td>\n",
              "      <td>253875.639453</td>\n",
              "      <td>покупка жилья</td>\n",
              "    </tr>\n",
              "    <tr>\n",
              "      <th>1</th>\n",
              "      <td>1</td>\n",
              "      <td>-4024.803754</td>\n",
              "      <td>36</td>\n",
              "      <td>среднее</td>\n",
              "      <td>1</td>\n",
              "      <td>женат / замужем</td>\n",
              "      <td>0</td>\n",
              "      <td>F</td>\n",
              "      <td>сотрудник</td>\n",
              "      <td>0</td>\n",
              "      <td>112080.014102</td>\n",
              "      <td>приобретение автомобиля</td>\n",
              "    </tr>\n",
              "    <tr>\n",
              "      <th>2</th>\n",
              "      <td>0</td>\n",
              "      <td>-5623.422610</td>\n",
              "      <td>33</td>\n",
              "      <td>Среднее</td>\n",
              "      <td>1</td>\n",
              "      <td>женат / замужем</td>\n",
              "      <td>0</td>\n",
              "      <td>M</td>\n",
              "      <td>сотрудник</td>\n",
              "      <td>0</td>\n",
              "      <td>145885.952297</td>\n",
              "      <td>покупка жилья</td>\n",
              "    </tr>\n",
              "    <tr>\n",
              "      <th>3</th>\n",
              "      <td>3</td>\n",
              "      <td>-4124.747207</td>\n",
              "      <td>32</td>\n",
              "      <td>среднее</td>\n",
              "      <td>1</td>\n",
              "      <td>женат / замужем</td>\n",
              "      <td>0</td>\n",
              "      <td>M</td>\n",
              "      <td>сотрудник</td>\n",
              "      <td>0</td>\n",
              "      <td>267628.550329</td>\n",
              "      <td>дополнительное образование</td>\n",
              "    </tr>\n",
              "    <tr>\n",
              "      <th>4</th>\n",
              "      <td>0</td>\n",
              "      <td>340266.072047</td>\n",
              "      <td>53</td>\n",
              "      <td>среднее</td>\n",
              "      <td>1</td>\n",
              "      <td>гражданский брак</td>\n",
              "      <td>1</td>\n",
              "      <td>F</td>\n",
              "      <td>пенсионер</td>\n",
              "      <td>0</td>\n",
              "      <td>158616.077870</td>\n",
              "      <td>сыграть свадьбу</td>\n",
              "    </tr>\n",
              "    <tr>\n",
              "      <th>5</th>\n",
              "      <td>0</td>\n",
              "      <td>-926.185831</td>\n",
              "      <td>27</td>\n",
              "      <td>высшее</td>\n",
              "      <td>0</td>\n",
              "      <td>гражданский брак</td>\n",
              "      <td>1</td>\n",
              "      <td>M</td>\n",
              "      <td>компаньон</td>\n",
              "      <td>0</td>\n",
              "      <td>255763.565419</td>\n",
              "      <td>покупка жилья</td>\n",
              "    </tr>\n",
              "    <tr>\n",
              "      <th>6</th>\n",
              "      <td>0</td>\n",
              "      <td>-2879.202052</td>\n",
              "      <td>43</td>\n",
              "      <td>высшее</td>\n",
              "      <td>0</td>\n",
              "      <td>женат / замужем</td>\n",
              "      <td>0</td>\n",
              "      <td>F</td>\n",
              "      <td>компаньон</td>\n",
              "      <td>0</td>\n",
              "      <td>240525.971920</td>\n",
              "      <td>операции с жильем</td>\n",
              "    </tr>\n",
              "    <tr>\n",
              "      <th>7</th>\n",
              "      <td>0</td>\n",
              "      <td>-152.779569</td>\n",
              "      <td>50</td>\n",
              "      <td>СРЕДНЕЕ</td>\n",
              "      <td>1</td>\n",
              "      <td>женат / замужем</td>\n",
              "      <td>0</td>\n",
              "      <td>M</td>\n",
              "      <td>сотрудник</td>\n",
              "      <td>0</td>\n",
              "      <td>135823.934197</td>\n",
              "      <td>образование</td>\n",
              "    </tr>\n",
              "    <tr>\n",
              "      <th>8</th>\n",
              "      <td>2</td>\n",
              "      <td>-6929.865299</td>\n",
              "      <td>35</td>\n",
              "      <td>ВЫСШЕЕ</td>\n",
              "      <td>0</td>\n",
              "      <td>гражданский брак</td>\n",
              "      <td>1</td>\n",
              "      <td>F</td>\n",
              "      <td>сотрудник</td>\n",
              "      <td>0</td>\n",
              "      <td>95856.832424</td>\n",
              "      <td>на проведение свадьбы</td>\n",
              "    </tr>\n",
              "    <tr>\n",
              "      <th>9</th>\n",
              "      <td>0</td>\n",
              "      <td>-2188.756445</td>\n",
              "      <td>41</td>\n",
              "      <td>среднее</td>\n",
              "      <td>1</td>\n",
              "      <td>женат / замужем</td>\n",
              "      <td>0</td>\n",
              "      <td>M</td>\n",
              "      <td>сотрудник</td>\n",
              "      <td>0</td>\n",
              "      <td>144425.938277</td>\n",
              "      <td>покупка жилья для семьи</td>\n",
              "    </tr>\n",
              "    <tr>\n",
              "      <th>10</th>\n",
              "      <td>2</td>\n",
              "      <td>-4171.483647</td>\n",
              "      <td>36</td>\n",
              "      <td>высшее</td>\n",
              "      <td>0</td>\n",
              "      <td>женат / замужем</td>\n",
              "      <td>0</td>\n",
              "      <td>M</td>\n",
              "      <td>компаньон</td>\n",
              "      <td>0</td>\n",
              "      <td>113943.491460</td>\n",
              "      <td>покупка недвижимости</td>\n",
              "    </tr>\n",
              "    <tr>\n",
              "      <th>11</th>\n",
              "      <td>0</td>\n",
              "      <td>-792.701887</td>\n",
              "      <td>40</td>\n",
              "      <td>среднее</td>\n",
              "      <td>1</td>\n",
              "      <td>женат / замужем</td>\n",
              "      <td>0</td>\n",
              "      <td>F</td>\n",
              "      <td>сотрудник</td>\n",
              "      <td>0</td>\n",
              "      <td>77069.234271</td>\n",
              "      <td>покупка коммерческой недвижимости</td>\n",
              "    </tr>\n",
              "    <tr>\n",
              "      <th>12</th>\n",
              "      <td>0</td>\n",
              "      <td>NaN</td>\n",
              "      <td>65</td>\n",
              "      <td>среднее</td>\n",
              "      <td>1</td>\n",
              "      <td>гражданский брак</td>\n",
              "      <td>1</td>\n",
              "      <td>M</td>\n",
              "      <td>пенсионер</td>\n",
              "      <td>0</td>\n",
              "      <td>NaN</td>\n",
              "      <td>сыграть свадьбу</td>\n",
              "    </tr>\n",
              "    <tr>\n",
              "      <th>13</th>\n",
              "      <td>0</td>\n",
              "      <td>-1846.641941</td>\n",
              "      <td>54</td>\n",
              "      <td>неоконченное высшее</td>\n",
              "      <td>2</td>\n",
              "      <td>женат / замужем</td>\n",
              "      <td>0</td>\n",
              "      <td>F</td>\n",
              "      <td>сотрудник</td>\n",
              "      <td>0</td>\n",
              "      <td>130458.228857</td>\n",
              "      <td>приобретение автомобиля</td>\n",
              "    </tr>\n",
              "    <tr>\n",
              "      <th>14</th>\n",
              "      <td>0</td>\n",
              "      <td>-1844.956182</td>\n",
              "      <td>56</td>\n",
              "      <td>высшее</td>\n",
              "      <td>0</td>\n",
              "      <td>гражданский брак</td>\n",
              "      <td>1</td>\n",
              "      <td>F</td>\n",
              "      <td>компаньон</td>\n",
              "      <td>1</td>\n",
              "      <td>165127.911772</td>\n",
              "      <td>покупка жилой недвижимости</td>\n",
              "    </tr>\n",
              "    <tr>\n",
              "      <th>15</th>\n",
              "      <td>1</td>\n",
              "      <td>-972.364419</td>\n",
              "      <td>26</td>\n",
              "      <td>среднее</td>\n",
              "      <td>1</td>\n",
              "      <td>женат / замужем</td>\n",
              "      <td>0</td>\n",
              "      <td>F</td>\n",
              "      <td>сотрудник</td>\n",
              "      <td>0</td>\n",
              "      <td>116820.904450</td>\n",
              "      <td>строительство собственной недвижимости</td>\n",
              "    </tr>\n",
              "    <tr>\n",
              "      <th>16</th>\n",
              "      <td>0</td>\n",
              "      <td>-1719.934226</td>\n",
              "      <td>35</td>\n",
              "      <td>среднее</td>\n",
              "      <td>1</td>\n",
              "      <td>женат / замужем</td>\n",
              "      <td>0</td>\n",
              "      <td>F</td>\n",
              "      <td>сотрудник</td>\n",
              "      <td>0</td>\n",
              "      <td>289202.704229</td>\n",
              "      <td>недвижимость</td>\n",
              "    </tr>\n",
              "    <tr>\n",
              "      <th>17</th>\n",
              "      <td>0</td>\n",
              "      <td>-2369.999720</td>\n",
              "      <td>33</td>\n",
              "      <td>высшее</td>\n",
              "      <td>0</td>\n",
              "      <td>гражданский брак</td>\n",
              "      <td>1</td>\n",
              "      <td>M</td>\n",
              "      <td>сотрудник</td>\n",
              "      <td>0</td>\n",
              "      <td>90410.586745</td>\n",
              "      <td>строительство недвижимости</td>\n",
              "    </tr>\n",
              "    <tr>\n",
              "      <th>18</th>\n",
              "      <td>0</td>\n",
              "      <td>400281.136913</td>\n",
              "      <td>53</td>\n",
              "      <td>среднее</td>\n",
              "      <td>1</td>\n",
              "      <td>вдовец / вдова</td>\n",
              "      <td>2</td>\n",
              "      <td>F</td>\n",
              "      <td>пенсионер</td>\n",
              "      <td>0</td>\n",
              "      <td>56823.777243</td>\n",
              "      <td>на покупку подержанного автомобиля</td>\n",
              "    </tr>\n",
              "    <tr>\n",
              "      <th>19</th>\n",
              "      <td>0</td>\n",
              "      <td>-10038.818549</td>\n",
              "      <td>48</td>\n",
              "      <td>СРЕДНЕЕ</td>\n",
              "      <td>1</td>\n",
              "      <td>в разводе</td>\n",
              "      <td>3</td>\n",
              "      <td>F</td>\n",
              "      <td>сотрудник</td>\n",
              "      <td>0</td>\n",
              "      <td>242831.107982</td>\n",
              "      <td>на покупку своего автомобиля</td>\n",
              "    </tr>\n",
              "  </tbody>\n",
              "</table>\n",
              "</div>\n",
              "      <button class=\"colab-df-convert\" onclick=\"convertToInteractive('df-cb307e59-a11a-4ada-ade5-da4c98e0cc6e')\"\n",
              "              title=\"Convert this dataframe to an interactive table.\"\n",
              "              style=\"display:none;\">\n",
              "        \n",
              "  <svg xmlns=\"http://www.w3.org/2000/svg\" height=\"24px\"viewBox=\"0 0 24 24\"\n",
              "       width=\"24px\">\n",
              "    <path d=\"M0 0h24v24H0V0z\" fill=\"none\"/>\n",
              "    <path d=\"M18.56 5.44l.94 2.06.94-2.06 2.06-.94-2.06-.94-.94-2.06-.94 2.06-2.06.94zm-11 1L8.5 8.5l.94-2.06 2.06-.94-2.06-.94L8.5 2.5l-.94 2.06-2.06.94zm10 10l.94 2.06.94-2.06 2.06-.94-2.06-.94-.94-2.06-.94 2.06-2.06.94z\"/><path d=\"M17.41 7.96l-1.37-1.37c-.4-.4-.92-.59-1.43-.59-.52 0-1.04.2-1.43.59L10.3 9.45l-7.72 7.72c-.78.78-.78 2.05 0 2.83L4 21.41c.39.39.9.59 1.41.59.51 0 1.02-.2 1.41-.59l7.78-7.78 2.81-2.81c.8-.78.8-2.07 0-2.86zM5.41 20L4 18.59l7.72-7.72 1.47 1.35L5.41 20z\"/>\n",
              "  </svg>\n",
              "      </button>\n",
              "      \n",
              "  <style>\n",
              "    .colab-df-container {\n",
              "      display:flex;\n",
              "      flex-wrap:wrap;\n",
              "      gap: 12px;\n",
              "    }\n",
              "\n",
              "    .colab-df-convert {\n",
              "      background-color: #E8F0FE;\n",
              "      border: none;\n",
              "      border-radius: 50%;\n",
              "      cursor: pointer;\n",
              "      display: none;\n",
              "      fill: #1967D2;\n",
              "      height: 32px;\n",
              "      padding: 0 0 0 0;\n",
              "      width: 32px;\n",
              "    }\n",
              "\n",
              "    .colab-df-convert:hover {\n",
              "      background-color: #E2EBFA;\n",
              "      box-shadow: 0px 1px 2px rgba(60, 64, 67, 0.3), 0px 1px 3px 1px rgba(60, 64, 67, 0.15);\n",
              "      fill: #174EA6;\n",
              "    }\n",
              "\n",
              "    [theme=dark] .colab-df-convert {\n",
              "      background-color: #3B4455;\n",
              "      fill: #D2E3FC;\n",
              "    }\n",
              "\n",
              "    [theme=dark] .colab-df-convert:hover {\n",
              "      background-color: #434B5C;\n",
              "      box-shadow: 0px 1px 3px 1px rgba(0, 0, 0, 0.15);\n",
              "      filter: drop-shadow(0px 1px 2px rgba(0, 0, 0, 0.3));\n",
              "      fill: #FFFFFF;\n",
              "    }\n",
              "  </style>\n",
              "\n",
              "      <script>\n",
              "        const buttonEl =\n",
              "          document.querySelector('#df-cb307e59-a11a-4ada-ade5-da4c98e0cc6e button.colab-df-convert');\n",
              "        buttonEl.style.display =\n",
              "          google.colab.kernel.accessAllowed ? 'block' : 'none';\n",
              "\n",
              "        async function convertToInteractive(key) {\n",
              "          const element = document.querySelector('#df-cb307e59-a11a-4ada-ade5-da4c98e0cc6e');\n",
              "          const dataTable =\n",
              "            await google.colab.kernel.invokeFunction('convertToInteractive',\n",
              "                                                     [key], {});\n",
              "          if (!dataTable) return;\n",
              "\n",
              "          const docLinkHtml = 'Like what you see? Visit the ' +\n",
              "            '<a target=\"_blank\" href=https://colab.research.google.com/notebooks/data_table.ipynb>data table notebook</a>'\n",
              "            + ' to learn more about interactive tables.';\n",
              "          element.innerHTML = '';\n",
              "          dataTable['output_type'] = 'display_data';\n",
              "          await google.colab.output.renderOutput(dataTable, element);\n",
              "          const docLink = document.createElement('div');\n",
              "          docLink.innerHTML = docLinkHtml;\n",
              "          element.appendChild(docLink);\n",
              "        }\n",
              "      </script>\n",
              "    </div>\n",
              "  </div>\n",
              "  "
            ]
          },
          "metadata": {},
          "execution_count": 73
        }
      ],
      "source": [
        "data.head(20)"
      ]
    },
    {
      "cell_type": "code",
      "execution_count": 74,
      "id": "07b173b5",
      "metadata": {
        "deletable": false,
        "id": "07b173b5",
        "outputId": "6068cf10-ba33-4f7f-a78f-18b93fa619cb",
        "scrolled": true,
        "colab": {
          "base_uri": "https://localhost:8080/"
        }
      },
      "outputs": [
        {
          "output_type": "stream",
          "name": "stdout",
          "text": [
            "<class 'pandas.core.frame.DataFrame'>\n",
            "RangeIndex: 21525 entries, 0 to 21524\n",
            "Data columns (total 12 columns):\n",
            " #   Column            Non-Null Count  Dtype  \n",
            "---  ------            --------------  -----  \n",
            " 0   children          21525 non-null  int64  \n",
            " 1   days_employed     19351 non-null  float64\n",
            " 2   dob_years         21525 non-null  int64  \n",
            " 3   education         21525 non-null  object \n",
            " 4   education_id      21525 non-null  int64  \n",
            " 5   family_status     21525 non-null  object \n",
            " 6   family_status_id  21525 non-null  int64  \n",
            " 7   gender            21525 non-null  object \n",
            " 8   income_type       21525 non-null  object \n",
            " 9   debt              21525 non-null  int64  \n",
            " 10  total_income      19351 non-null  float64\n",
            " 11  purpose           21525 non-null  object \n",
            "dtypes: float64(2), int64(5), object(5)\n",
            "memory usage: 2.0+ MB\n"
          ]
        }
      ],
      "source": [
        "data.info()"
      ]
    },
    {
      "cell_type": "markdown",
      "id": "ac7dccbb",
      "metadata": {
        "deletable": false,
        "editable": false,
        "id": "ac7dccbb"
      },
      "source": [
        "## Предобработка данных"
      ]
    },
    {
      "cell_type": "markdown",
      "id": "8e63b3a8",
      "metadata": {
        "deletable": false,
        "editable": false,
        "id": "8e63b3a8"
      },
      "source": [
        "### Удаление пропусков"
      ]
    },
    {
      "cell_type": "code",
      "execution_count": 75,
      "id": "bd3ea6f3",
      "metadata": {
        "deletable": false,
        "id": "bd3ea6f3",
        "outputId": "ad636504-afc5-4ffd-ea64-f3cd3efa9f92",
        "scrolled": true,
        "colab": {
          "base_uri": "https://localhost:8080/"
        }
      },
      "outputs": [
        {
          "output_type": "execute_result",
          "data": {
            "text/plain": [
              "children               0\n",
              "days_employed       2174\n",
              "dob_years              0\n",
              "education              0\n",
              "education_id           0\n",
              "family_status          0\n",
              "family_status_id       0\n",
              "gender                 0\n",
              "income_type            0\n",
              "debt                   0\n",
              "total_income        2174\n",
              "purpose                0\n",
              "dtype: int64"
            ]
          },
          "metadata": {},
          "execution_count": 75
        }
      ],
      "source": [
        "data.isna().sum()"
      ]
    },
    {
      "cell_type": "code",
      "execution_count": 76,
      "id": "5fafcc39",
      "metadata": {
        "scrolled": true,
        "id": "5fafcc39"
      },
      "outputs": [],
      "source": [
        "ab = data"
      ]
    },
    {
      "cell_type": "code",
      "execution_count": 77,
      "id": "9adefa73",
      "metadata": {
        "deletable": false,
        "id": "9adefa73"
      },
      "outputs": [],
      "source": [
        "for t in data['income_type'].unique():\n",
        "    data.loc[(data['income_type'] == t) & (data['total_income'].isna()), 'total_income'] = \\\n",
        "    data.loc[(data['income_type'] == t), 'total_income'].median()"
      ]
    },
    {
      "cell_type": "markdown",
      "id": "60c0c6a4",
      "metadata": {
        "deletable": false,
        "editable": false,
        "id": "60c0c6a4"
      },
      "source": [
        "### Обработка аномальных значений"
      ]
    },
    {
      "cell_type": "code",
      "execution_count": 78,
      "id": "377da6a8",
      "metadata": {
        "deletable": false,
        "id": "377da6a8"
      },
      "outputs": [],
      "source": [
        "data['days_employed'] = data['days_employed'].abs()"
      ]
    },
    {
      "cell_type": "code",
      "execution_count": 79,
      "id": "6108c739",
      "metadata": {
        "deletable": false,
        "id": "6108c739",
        "outputId": "89b126d4-0d55-49e7-9be4-99629b3f423d",
        "colab": {
          "base_uri": "https://localhost:8080/"
        }
      },
      "outputs": [
        {
          "output_type": "execute_result",
          "data": {
            "text/plain": [
              "income_type\n",
              "безработный        366413.652744\n",
              "в декрете            3296.759962\n",
              "госслужащий          2689.368353\n",
              "компаньон            1547.382223\n",
              "пенсионер          365213.306266\n",
              "предприниматель       520.848083\n",
              "сотрудник            1574.202821\n",
              "студент               578.751554\n",
              "Name: days_employed, dtype: float64"
            ]
          },
          "metadata": {},
          "execution_count": 79
        }
      ],
      "source": [
        "data.groupby('income_type')['days_employed'].agg('median')"
      ]
    },
    {
      "cell_type": "markdown",
      "id": "268af944",
      "metadata": {
        "deletable": false,
        "editable": false,
        "id": "268af944"
      },
      "source": [
        "У двух типов (безработные и пенсионеры) получатся аномально большие значения. Исправить такие значения сложно, поэтому оставьте их как есть. Тем более этот столбец не понадобится вам для исследования."
      ]
    },
    {
      "cell_type": "code",
      "execution_count": 80,
      "id": "9ebd06ce",
      "metadata": {
        "deletable": false,
        "id": "9ebd06ce",
        "outputId": "56c805e5-6ce0-4d0b-911d-a13dee81870f",
        "colab": {
          "base_uri": "https://localhost:8080/"
        }
      },
      "outputs": [
        {
          "output_type": "execute_result",
          "data": {
            "text/plain": [
              "array([ 1,  0,  3,  2, -1,  4, 20,  5])"
            ]
          },
          "metadata": {},
          "execution_count": 80
        }
      ],
      "source": [
        "data['children'].unique()"
      ]
    },
    {
      "cell_type": "code",
      "execution_count": 81,
      "id": "517ee80f",
      "metadata": {
        "deletable": false,
        "id": "517ee80f"
      },
      "outputs": [],
      "source": [
        "data = data[(data['children'] != -1) & (data['children'] != 20)]"
      ]
    },
    {
      "cell_type": "code",
      "execution_count": 82,
      "id": "4d57408b",
      "metadata": {
        "deletable": false,
        "id": "4d57408b",
        "outputId": "caf0443d-016b-42b2-ef46-711fb0641ea8",
        "colab": {
          "base_uri": "https://localhost:8080/"
        }
      },
      "outputs": [
        {
          "output_type": "execute_result",
          "data": {
            "text/plain": [
              "array([1, 0, 3, 2, 4, 5])"
            ]
          },
          "metadata": {},
          "execution_count": 82
        }
      ],
      "source": [
        "data['children'].unique()"
      ]
    },
    {
      "cell_type": "markdown",
      "id": "b0ff2bbc",
      "metadata": {
        "deletable": false,
        "editable": false,
        "id": "b0ff2bbc"
      },
      "source": [
        "### Удаление пропусков (продолжение)"
      ]
    },
    {
      "cell_type": "code",
      "execution_count": 83,
      "id": "75d09305",
      "metadata": {
        "deletable": false,
        "id": "75d09305"
      },
      "outputs": [],
      "source": [
        "import warnings\n",
        "warnings.simplefilter(\"ignore\")\n",
        "\n",
        "for t in data['income_type'].unique():\n",
        "    data.loc[(data['income_type'] == t) & (data['days_employed'].isna()), 'days_employed'] = \\\n",
        "    data.loc[(data['income_type'] == t), 'days_employed'].median()"
      ]
    },
    {
      "cell_type": "code",
      "execution_count": 84,
      "id": "52fad3e8",
      "metadata": {
        "deletable": false,
        "id": "52fad3e8",
        "outputId": "394d4fa2-38f5-49f4-b023-3e4175623058",
        "colab": {
          "base_uri": "https://localhost:8080/"
        }
      },
      "outputs": [
        {
          "output_type": "execute_result",
          "data": {
            "text/plain": [
              "children            0\n",
              "days_employed       0\n",
              "dob_years           0\n",
              "education           0\n",
              "education_id        0\n",
              "family_status       0\n",
              "family_status_id    0\n",
              "gender              0\n",
              "income_type         0\n",
              "debt                0\n",
              "total_income        0\n",
              "purpose             0\n",
              "dtype: int64"
            ]
          },
          "metadata": {},
          "execution_count": 84
        }
      ],
      "source": [
        "data.isna().sum()"
      ]
    },
    {
      "cell_type": "markdown",
      "id": "622ec21d",
      "metadata": {
        "deletable": false,
        "editable": false,
        "id": "622ec21d"
      },
      "source": [
        "### Изменение типов данных"
      ]
    },
    {
      "cell_type": "code",
      "execution_count": 85,
      "id": "834be2b7",
      "metadata": {
        "deletable": false,
        "id": "834be2b7"
      },
      "outputs": [],
      "source": [
        "import warnings\n",
        "warnings.simplefilter(\"ignore\")\n",
        "\n",
        "data['total_income'] = data['total_income'].astype(int)"
      ]
    },
    {
      "cell_type": "markdown",
      "id": "56b1c97f",
      "metadata": {
        "deletable": false,
        "editable": false,
        "id": "56b1c97f"
      },
      "source": [
        "### Обработка дубликатов"
      ]
    },
    {
      "cell_type": "code",
      "execution_count": 86,
      "id": "b885a920",
      "metadata": {
        "deletable": false,
        "id": "b885a920"
      },
      "outputs": [],
      "source": [
        "import warnings\n",
        "warnings.simplefilter(\"ignore\")\n",
        "\n",
        "data['education'] = data['education'].str.lower()"
      ]
    },
    {
      "cell_type": "code",
      "execution_count": 87,
      "id": "bf310c9d",
      "metadata": {
        "deletable": false,
        "id": "bf310c9d",
        "outputId": "40483d8b-b26a-4796-d7e7-f9c725a52c40",
        "colab": {
          "base_uri": "https://localhost:8080/"
        }
      },
      "outputs": [
        {
          "output_type": "execute_result",
          "data": {
            "text/plain": [
              "71"
            ]
          },
          "metadata": {},
          "execution_count": 87
        }
      ],
      "source": [
        "data.duplicated().sum()"
      ]
    },
    {
      "cell_type": "code",
      "execution_count": 88,
      "id": "62467c5d",
      "metadata": {
        "deletable": false,
        "id": "62467c5d"
      },
      "outputs": [],
      "source": [
        "data = data.drop_duplicates()"
      ]
    },
    {
      "cell_type": "markdown",
      "id": "a15d4b84",
      "metadata": {
        "deletable": false,
        "editable": false,
        "id": "a15d4b84"
      },
      "source": [
        "### Категоризация данных"
      ]
    },
    {
      "cell_type": "code",
      "execution_count": 89,
      "id": "bca43f2d",
      "metadata": {
        "deletable": false,
        "id": "bca43f2d"
      },
      "outputs": [],
      "source": [
        "def categorize_income(income):\n",
        "    try:\n",
        "        if 0 <= income <= 30000:\n",
        "            return 'E'\n",
        "        elif 30001 <= income <= 50000:\n",
        "            return 'D'\n",
        "        elif 50001 <= income <= 200000:\n",
        "            return 'C'\n",
        "        elif 200001 <= income <= 1000000:\n",
        "            return 'B'\n",
        "        elif income >= 1000001:\n",
        "            return 'A'\n",
        "    except:\n",
        "        pass"
      ]
    },
    {
      "cell_type": "code",
      "execution_count": 90,
      "id": "12f37078",
      "metadata": {
        "deletable": false,
        "id": "12f37078"
      },
      "outputs": [],
      "source": [
        "import warnings\n",
        "warnings.simplefilter(\"ignore\")\n",
        "\n",
        "data['total_income_category'] = data['total_income'].apply(categorize_income)"
      ]
    },
    {
      "cell_type": "code",
      "execution_count": 91,
      "id": "e59cf6b6",
      "metadata": {
        "deletable": false,
        "id": "e59cf6b6",
        "outputId": "5b6dcc82-fa8f-4714-d76e-b617c9bb044c",
        "colab": {
          "base_uri": "https://localhost:8080/"
        }
      },
      "outputs": [
        {
          "output_type": "execute_result",
          "data": {
            "text/plain": [
              "array(['покупка жилья', 'приобретение автомобиля',\n",
              "       'дополнительное образование', 'сыграть свадьбу',\n",
              "       'операции с жильем', 'образование', 'на проведение свадьбы',\n",
              "       'покупка жилья для семьи', 'покупка недвижимости',\n",
              "       'покупка коммерческой недвижимости', 'покупка жилой недвижимости',\n",
              "       'строительство собственной недвижимости', 'недвижимость',\n",
              "       'строительство недвижимости', 'на покупку подержанного автомобиля',\n",
              "       'на покупку своего автомобиля',\n",
              "       'операции с коммерческой недвижимостью',\n",
              "       'строительство жилой недвижимости', 'жилье',\n",
              "       'операции со своей недвижимостью', 'автомобили',\n",
              "       'заняться образованием', 'сделка с подержанным автомобилем',\n",
              "       'получение образования', 'автомобиль', 'свадьба',\n",
              "       'получение дополнительного образования', 'покупка своего жилья',\n",
              "       'операции с недвижимостью', 'получение высшего образования',\n",
              "       'свой автомобиль', 'сделка с автомобилем',\n",
              "       'профильное образование', 'высшее образование',\n",
              "       'покупка жилья для сдачи', 'на покупку автомобиля', 'ремонт жилью',\n",
              "       'заняться высшим образованием'], dtype=object)"
            ]
          },
          "metadata": {},
          "execution_count": 91
        }
      ],
      "source": [
        "data['purpose'].unique()"
      ]
    },
    {
      "cell_type": "code",
      "execution_count": 92,
      "id": "69ce798a",
      "metadata": {
        "deletable": false,
        "id": "69ce798a"
      },
      "outputs": [],
      "source": [
        "def categorize_purpose(row):\n",
        "    try:\n",
        "        if 'автом' in row:\n",
        "            return 'операции с автомобилем'\n",
        "        elif 'жил' in row or 'недвиж' in row:\n",
        "            return 'операции с недвижимостью'\n",
        "        elif 'свад' in row:\n",
        "            return 'проведение свадьбы'\n",
        "        elif 'образов' in row:\n",
        "            return 'получение образования'\n",
        "    except:\n",
        "        return 'нет категории'"
      ]
    },
    {
      "cell_type": "code",
      "execution_count": 93,
      "id": "9a47c070",
      "metadata": {
        "deletable": false,
        "id": "9a47c070"
      },
      "outputs": [],
      "source": [
        "data['purpose_category'] = data['purpose'].apply(categorize_purpose)"
      ]
    },
    {
      "cell_type": "markdown",
      "id": "98f20886",
      "metadata": {
        "deletable": false,
        "editable": false,
        "id": "98f20886"
      },
      "source": [
        "### Исследуйте данные и ответьте на вопросы"
      ]
    },
    {
      "cell_type": "markdown",
      "id": "84c175cb",
      "metadata": {
        "deletable": false,
        "editable": false,
        "id": "84c175cb"
      },
      "source": [
        "#### 3.1 Есть ли зависимость между количеством детей и возвратом кредита в срок?"
      ]
    },
    {
      "cell_type": "code",
      "execution_count": 94,
      "id": "97e4e69b",
      "metadata": {
        "deletable": false,
        "id": "97e4e69b",
        "colab": {
          "base_uri": "https://localhost:8080/",
          "height": 574
        },
        "outputId": "fbfeb716-27b4-4ab3-a31f-bf856b4b6891"
      },
      "outputs": [
        {
          "output_type": "stream",
          "name": "stdout",
          "text": [
            "children\n",
            "0    1063\n",
            "1     444\n",
            "2     194\n",
            "3      27\n",
            "4       4\n",
            "5       0\n",
            "Name: debt, dtype: int64\n",
            "children\n",
            "0    14091\n",
            "1     4808\n",
            "2     2052\n",
            "3      330\n",
            "4       41\n",
            "5        9\n",
            "Name: debt, dtype: int64\n"
          ]
        },
        {
          "output_type": "execute_result",
          "data": {
            "text/plain": [
              "<matplotlib.axes._subplots.AxesSubplot at 0x7fc5b5f275d0>"
            ]
          },
          "metadata": {},
          "execution_count": 94
        },
        {
          "output_type": "display_data",
          "data": {
            "text/plain": [
              "<Figure size 432x288 with 1 Axes>"
            ],
            "image/png": "[encoded data removed]"
          },
          "metadata": {
            "needs_background": "light"
          }
        }
      ],
      "source": [
        "import seaborn as sns\n",
        "\n",
        "# Группирую по количеству детей и считаю количество задолженостей по группам\n",
        "df = data.groupby('children')['debt'].sum() \n",
        "print(df)\n",
        "\n",
        "# Группирую по количеству детей и считаю общее количество значений столбца наличие задолженности по группам\n",
        "df1 = data.groupby('children')['debt'].count() \n",
        "print(df1)\n",
        "\n",
        "# Вывожу количество задолженностей по группам \n",
        "sns.barplot(x = df.index, y = df)"
      ]
    },
    {
      "cell_type": "code",
      "execution_count": 95,
      "id": "258e0c33",
      "metadata": {
        "colab": {
          "base_uri": "https://localhost:8080/",
          "height": 490
        },
        "id": "258e0c33",
        "outputId": "671a1757-734b-4e67-e8e5-9b7c3950f923"
      },
      "outputs": [
        {
          "output_type": "stream",
          "name": "stdout",
          "text": [
            "children\n",
            "4    9.76\n",
            "2    9.45\n",
            "1    9.23\n",
            "3    8.18\n",
            "0    7.54\n",
            "5    0.00\n",
            "Name: debt, dtype: float64\n"
          ]
        },
        {
          "output_type": "display_data",
          "data": {
            "text/plain": [
              "<Figure size 720x360 with 1 Axes>"
            ],
            "image/png": "[encoded data removed]"
          },
          "metadata": {
            "needs_background": "light"
          }
        }
      ],
      "source": [
        "#Считаю процент задержек по платежу кредита в зависимости от количества детей и строю диаграммы\n",
        "df3 = df/df1\n",
        "df3 = df3*100\n",
        "df3 = np.round(df3, decimals = 2)\n",
        "df3 = df3.sort_values(ascending = False)\n",
        "print(df3)\n",
        "\n",
        "#import seaborn as sns\n",
        "#sns.barplot(x = df3.index, y = df3)\n",
        "\n",
        "\n",
        "# importing library\n",
        "import matplotlib.pyplot as plt\n",
        "  \n",
        "# function to add value labels\n",
        "def addlabels(x,y):\n",
        "    for i in range(len(x)):\n",
        "        plt.text(i, y[i], y[i], ha = 'center')\n",
        "  \n",
        "\n",
        "      \n",
        "    # setting figure size by using figure() function \n",
        "plt.figure(figsize = (10, 5))\n",
        "      \n",
        "    # making the bar chart on the data\n",
        "plt.bar(df3.index, df3)\n",
        "\n",
        "plt.xticks(rotation=10)\n",
        "      \n",
        "    # calling the function to add value labels\n",
        "addlabels(df3.index, df3)\n",
        "      \n",
        "    # giving title to the plot\n",
        "plt.title(\"Диаграммы зависимости задолженности по кредиту от количества детей\")\n",
        "      \n",
        "    # giving X and Y labels\n",
        "plt.xlabel(\"Количество детей\")\n",
        "plt.ylabel(\"Процент задолженностей по кредиту, %\")\n",
        "      \n",
        "    # visualizing the plot\n",
        "plt.show()\n"
      ]
    },
    {
      "cell_type": "markdown",
      "id": "c57a72d5",
      "metadata": {
        "deletable": false,
        "id": "c57a72d5"
      },
      "source": [
        "**Вывод:** Меньше всего процент задержек у людей, у кого нет детей. В группе с 5-ю детьми мало значений (всего 9), поэтому каждое следующее добавленной значение с задержкой по платежу будет иметь большой вес и эту группу нельзя рассматривать в качестве сравнения с другими группами."
      ]
    },
    {
      "cell_type": "markdown",
      "id": "9c28e23d",
      "metadata": {
        "deletable": false,
        "editable": false,
        "id": "9c28e23d"
      },
      "source": [
        "#### 3.2 Есть ли зависимость между семейным положением и возвратом кредита в срок?"
      ]
    },
    {
      "cell_type": "code",
      "execution_count": 96,
      "id": "b67ddba4",
      "metadata": {
        "deletable": false,
        "id": "b67ddba4",
        "scrolled": false,
        "colab": {
          "base_uri": "https://localhost:8080/",
          "height": 521
        },
        "outputId": "779ecca2-f981-4bca-8c7f-93b468e018de"
      },
      "outputs": [
        {
          "output_type": "stream",
          "name": "stdout",
          "text": [
            "           family_status  count_status\n",
            "0        женат / замужем           927\n",
            "1       гражданский брак           385\n",
            "2  Не женат / не замужем           273\n",
            "3              в разводе            84\n",
            "4         вдовец / вдова            63\n"
          ]
        },
        {
          "output_type": "display_data",
          "data": {
            "text/html": [
              "<html>\n",
              "<head><meta charset=\"utf-8\" /></head>\n",
              "<body>\n",
              "    <div>            <script src=\"https://cdnjs.cloudflare.com/ajax/libs/mathjax/2.7.5/MathJax.js?config=TeX-AMS-MML_SVG\"></script><script type=\"text/javascript\">if (window.MathJax) {MathJax.Hub.Config({SVG: {font: \"STIX-Web\"}});}</script>                <script type=\"text/javascript\">window.PlotlyConfig = {MathJaxConfig: 'local'};</script>\n",
              "        <script src=\"https://cdn.plot.ly/plotly-2.8.3.min.js\"></script>                <div id=\"d1e06658-49b8-40d4-a39f-85b78b307cfb\" class=\"plotly-graph-div\" style=\"height:400px; width:800px;\"></div>            <script type=\"text/javascript\">                                    window.PLOTLYENV=window.PLOTLYENV || {};                                    if (document.getElementById(\"d1e06658-49b8-40d4-a39f-85b78b307cfb\")) {                    Plotly.newPlot(                        \"d1e06658-49b8-40d4-a39f-85b78b307cfb\",                        [{\"alignmentgroup\":\"True\",\"hovertemplate\":\"family_status=%{x}<br>count_status=%{y}<extra></extra>\",\"legendgroup\":\"\",\"marker\":{\"color\":\"#636efa\",\"pattern\":{\"shape\":\"\"}},\"name\":\"\",\"offsetgroup\":\"\",\"orientation\":\"v\",\"showlegend\":false,\"textposition\":\"auto\",\"x\":[\"\\u0436\\u0435\\u043d\\u0430\\u0442 / \\u0437\\u0430\\u043c\\u0443\\u0436\\u0435\\u043c\",\"\\u0433\\u0440\\u0430\\u0436\\u0434\\u0430\\u043d\\u0441\\u043a\\u0438\\u0439 \\u0431\\u0440\\u0430\\u043a\",\"\\u041d\\u0435 \\u0436\\u0435\\u043d\\u0430\\u0442 / \\u043d\\u0435 \\u0437\\u0430\\u043c\\u0443\\u0436\\u0435\\u043c\",\"\\u0432 \\u0440\\u0430\\u0437\\u0432\\u043e\\u0434\\u0435\",\"\\u0432\\u0434\\u043e\\u0432\\u0435\\u0446 / \\u0432\\u0434\\u043e\\u0432\\u0430\"],\"xaxis\":\"x\",\"y\":[927,385,273,84,63],\"yaxis\":\"y\",\"type\":\"bar\"}],                        {\"template\":{\"data\":{\"bar\":[{\"error_x\":{\"color\":\"#2a3f5f\"},\"error_y\":{\"color\":\"#2a3f5f\"},\"marker\":{\"line\":{\"color\":\"#E5ECF6\",\"width\":0.5},\"pattern\":{\"fillmode\":\"overlay\",\"size\":10,\"solidity\":0.2}},\"type\":\"bar\"}],\"barpolar\":[{\"marker\":{\"line\":{\"color\":\"#E5ECF6\",\"width\":0.5},\"pattern\":{\"fillmode\":\"overlay\",\"size\":10,\"solidity\":0.2}},\"type\":\"barpolar\"}],\"carpet\":[{\"aaxis\":{\"endlinecolor\":\"#2a3f5f\",\"gridcolor\":\"white\",\"linecolor\":\"white\",\"minorgridcolor\":\"white\",\"startlinecolor\":\"#2a3f5f\"},\"baxis\":{\"endlinecolor\":\"#2a3f5f\",\"gridcolor\":\"white\",\"linecolor\":\"white\",\"minorgridcolor\":\"white\",\"startlinecolor\":\"#2a3f5f\"},\"type\":\"carpet\"}],\"choropleth\":[{\"colorbar\":{\"outlinewidth\":0,\"ticks\":\"\"},\"type\":\"choropleth\"}],\"contour\":[{\"colorbar\":{\"outlinewidth\":0,\"ticks\":\"\"},\"colorscale\":[[0.0,\"#0d0887\"],[0.1111111111111111,\"#46039f\"],[0.2222222222222222,\"#7201a8\"],[0.3333333333333333,\"#9c179e\"],[0.4444444444444444,\"#bd3786\"],[0.5555555555555556,\"#d8576b\"],[0.6666666666666666,\"#ed7953\"],[0.7777777777777778,\"#fb9f3a\"],[0.8888888888888888,\"#fdca26\"],[1.0,\"#f0f921\"]],\"type\":\"contour\"}],\"contourcarpet\":[{\"colorbar\":{\"outlinewidth\":0,\"ticks\":\"\"},\"type\":\"contourcarpet\"}],\"heatmap\":[{\"colorbar\":{\"outlinewidth\":0,\"ticks\":\"\"},\"colorscale\":[[0.0,\"#0d0887\"],[0.1111111111111111,\"#46039f\"],[0.2222222222222222,\"#7201a8\"],[0.3333333333333333,\"#9c179e\"],[0.4444444444444444,\"#bd3786\"],[0.5555555555555556,\"#d8576b\"],[0.6666666666666666,\"#ed7953\"],[0.7777777777777778,\"#fb9f3a\"],[0.8888888888888888,\"#fdca26\"],[1.0,\"#f0f921\"]],\"type\":\"heatmap\"}],\"heatmapgl\":[{\"colorbar\":{\"outlinewidth\":0,\"ticks\":\"\"},\"colorscale\":[[0.0,\"#0d0887\"],[0.1111111111111111,\"#46039f\"],[0.2222222222222222,\"#7201a8\"],[0.3333333333333333,\"#9c179e\"],[0.4444444444444444,\"#bd3786\"],[0.5555555555555556,\"#d8576b\"],[0.6666666666666666,\"#ed7953\"],[0.7777777777777778,\"#fb9f3a\"],[0.8888888888888888,\"#fdca26\"],[1.0,\"#f0f921\"]],\"type\":\"heatmapgl\"}],\"histogram\":[{\"marker\":{\"pattern\":{\"fillmode\":\"overlay\",\"size\":10,\"solidity\":0.2}},\"type\":\"histogram\"}],\"histogram2d\":[{\"colorbar\":{\"outlinewidth\":0,\"ticks\":\"\"},\"colorscale\":[[0.0,\"#0d0887\"],[0.1111111111111111,\"#46039f\"],[0.2222222222222222,\"#7201a8\"],[0.3333333333333333,\"#9c179e\"],[0.4444444444444444,\"#bd3786\"],[0.5555555555555556,\"#d8576b\"],[0.6666666666666666,\"#ed7953\"],[0.7777777777777778,\"#fb9f3a\"],[0.8888888888888888,\"#fdca26\"],[1.0,\"#f0f921\"]],\"type\":\"histogram2d\"}],\"histogram2dcontour\":[{\"colorbar\":{\"outlinewidth\":0,\"ticks\":\"\"},\"colorscale\":[[0.0,\"#0d0887\"],[0.1111111111111111,\"#46039f\"],[0.2222222222222222,\"#7201a8\"],[0.3333333333333333,\"#9c179e\"],[0.4444444444444444,\"#bd3786\"],[0.5555555555555556,\"#d8576b\"],[0.6666666666666666,\"#ed7953\"],[0.7777777777777778,\"#fb9f3a\"],[0.8888888888888888,\"#fdca26\"],[1.0,\"#f0f921\"]],\"type\":\"histogram2dcontour\"}],\"mesh3d\":[{\"colorbar\":{\"outlinewidth\":0,\"ticks\":\"\"},\"type\":\"mesh3d\"}],\"parcoords\":[{\"line\":{\"colorbar\":{\"outlinewidth\":0,\"ticks\":\"\"}},\"type\":\"parcoords\"}],\"pie\":[{\"automargin\":true,\"type\":\"pie\"}],\"scatter\":[{\"marker\":{\"colorbar\":{\"outlinewidth\":0,\"ticks\":\"\"}},\"type\":\"scatter\"}],\"scatter3d\":[{\"line\":{\"colorbar\":{\"outlinewidth\":0,\"ticks\":\"\"}},\"marker\":{\"colorbar\":{\"outlinewidth\":0,\"ticks\":\"\"}},\"type\":\"scatter3d\"}],\"scattercarpet\":[{\"marker\":{\"colorbar\":{\"outlinewidth\":0,\"ticks\":\"\"}},\"type\":\"scattercarpet\"}],\"scattergeo\":[{\"marker\":{\"colorbar\":{\"outlinewidth\":0,\"ticks\":\"\"}},\"type\":\"scattergeo\"}],\"scattergl\":[{\"marker\":{\"colorbar\":{\"outlinewidth\":0,\"ticks\":\"\"}},\"type\":\"scattergl\"}],\"scattermapbox\":[{\"marker\":{\"colorbar\":{\"outlinewidth\":0,\"ticks\":\"\"}},\"type\":\"scattermapbox\"}],\"scatterpolar\":[{\"marker\":{\"colorbar\":{\"outlinewidth\":0,\"ticks\":\"\"}},\"type\":\"scatterpolar\"}],\"scatterpolargl\":[{\"marker\":{\"colorbar\":{\"outlinewidth\":0,\"ticks\":\"\"}},\"type\":\"scatterpolargl\"}],\"scatterternary\":[{\"marker\":{\"colorbar\":{\"outlinewidth\":0,\"ticks\":\"\"}},\"type\":\"scatterternary\"}],\"surface\":[{\"colorbar\":{\"outlinewidth\":0,\"ticks\":\"\"},\"colorscale\":[[0.0,\"#0d0887\"],[0.1111111111111111,\"#46039f\"],[0.2222222222222222,\"#7201a8\"],[0.3333333333333333,\"#9c179e\"],[0.4444444444444444,\"#bd3786\"],[0.5555555555555556,\"#d8576b\"],[0.6666666666666666,\"#ed7953\"],[0.7777777777777778,\"#fb9f3a\"],[0.8888888888888888,\"#fdca26\"],[1.0,\"#f0f921\"]],\"type\":\"surface\"}],\"table\":[{\"cells\":{\"fill\":{\"color\":\"#EBF0F8\"},\"line\":{\"color\":\"white\"}},\"header\":{\"fill\":{\"color\":\"#C8D4E3\"},\"line\":{\"color\":\"white\"}},\"type\":\"table\"}]},\"layout\":{\"annotationdefaults\":{\"arrowcolor\":\"#2a3f5f\",\"arrowhead\":0,\"arrowwidth\":1},\"autotypenumbers\":\"strict\",\"coloraxis\":{\"colorbar\":{\"outlinewidth\":0,\"ticks\":\"\"}},\"colorscale\":{\"diverging\":[[0,\"#8e0152\"],[0.1,\"#c51b7d\"],[0.2,\"#de77ae\"],[0.3,\"#f1b6da\"],[0.4,\"#fde0ef\"],[0.5,\"#f7f7f7\"],[0.6,\"#e6f5d0\"],[0.7,\"#b8e186\"],[0.8,\"#7fbc41\"],[0.9,\"#4d9221\"],[1,\"#276419\"]],\"sequential\":[[0.0,\"#0d0887\"],[0.1111111111111111,\"#46039f\"],[0.2222222222222222,\"#7201a8\"],[0.3333333333333333,\"#9c179e\"],[0.4444444444444444,\"#bd3786\"],[0.5555555555555556,\"#d8576b\"],[0.6666666666666666,\"#ed7953\"],[0.7777777777777778,\"#fb9f3a\"],[0.8888888888888888,\"#fdca26\"],[1.0,\"#f0f921\"]],\"sequentialminus\":[[0.0,\"#0d0887\"],[0.1111111111111111,\"#46039f\"],[0.2222222222222222,\"#7201a8\"],[0.3333333333333333,\"#9c179e\"],[0.4444444444444444,\"#bd3786\"],[0.5555555555555556,\"#d8576b\"],[0.6666666666666666,\"#ed7953\"],[0.7777777777777778,\"#fb9f3a\"],[0.8888888888888888,\"#fdca26\"],[1.0,\"#f0f921\"]]},\"colorway\":[\"#636efa\",\"#EF553B\",\"#00cc96\",\"#ab63fa\",\"#FFA15A\",\"#19d3f3\",\"#FF6692\",\"#B6E880\",\"#FF97FF\",\"#FECB52\"],\"font\":{\"color\":\"#2a3f5f\"},\"geo\":{\"bgcolor\":\"white\",\"lakecolor\":\"white\",\"landcolor\":\"#E5ECF6\",\"showlakes\":true,\"showland\":true,\"subunitcolor\":\"white\"},\"hoverlabel\":{\"align\":\"left\"},\"hovermode\":\"closest\",\"mapbox\":{\"style\":\"light\"},\"paper_bgcolor\":\"white\",\"plot_bgcolor\":\"#E5ECF6\",\"polar\":{\"angularaxis\":{\"gridcolor\":\"white\",\"linecolor\":\"white\",\"ticks\":\"\"},\"bgcolor\":\"#E5ECF6\",\"radialaxis\":{\"gridcolor\":\"white\",\"linecolor\":\"white\",\"ticks\":\"\"}},\"scene\":{\"xaxis\":{\"backgroundcolor\":\"#E5ECF6\",\"gridcolor\":\"white\",\"gridwidth\":2,\"linecolor\":\"white\",\"showbackground\":true,\"ticks\":\"\",\"zerolinecolor\":\"white\"},\"yaxis\":{\"backgroundcolor\":\"#E5ECF6\",\"gridcolor\":\"white\",\"gridwidth\":2,\"linecolor\":\"white\",\"showbackground\":true,\"ticks\":\"\",\"zerolinecolor\":\"white\"},\"zaxis\":{\"backgroundcolor\":\"#E5ECF6\",\"gridcolor\":\"white\",\"gridwidth\":2,\"linecolor\":\"white\",\"showbackground\":true,\"ticks\":\"\",\"zerolinecolor\":\"white\"}},\"shapedefaults\":{\"line\":{\"color\":\"#2a3f5f\"}},\"ternary\":{\"aaxis\":{\"gridcolor\":\"white\",\"linecolor\":\"white\",\"ticks\":\"\"},\"baxis\":{\"gridcolor\":\"white\",\"linecolor\":\"white\",\"ticks\":\"\"},\"bgcolor\":\"#E5ECF6\",\"caxis\":{\"gridcolor\":\"white\",\"linecolor\":\"white\",\"ticks\":\"\"}},\"title\":{\"x\":0.05},\"xaxis\":{\"automargin\":true,\"gridcolor\":\"white\",\"linecolor\":\"white\",\"ticks\":\"\",\"title\":{\"standoff\":15},\"zerolinecolor\":\"white\",\"zerolinewidth\":2},\"yaxis\":{\"automargin\":true,\"gridcolor\":\"white\",\"linecolor\":\"white\",\"ticks\":\"\",\"title\":{\"standoff\":15},\"zerolinecolor\":\"white\",\"zerolinewidth\":2}}},\"xaxis\":{\"anchor\":\"y\",\"domain\":[0.0,1.0],\"title\":{\"text\":\"family_status\"}},\"yaxis\":{\"anchor\":\"x\",\"domain\":[0.0,1.0],\"title\":{\"text\":\"count_status\"}},\"legend\":{\"tracegroupgap\":0},\"title\":{\"text\":\"\\u0420\\u0430\\u0441\\u043f\\u0440\\u0435\\u0434\\u0435\\u043b\\u0435\\u0438\\u043d\\u044f \\u043a\\u043e\\u043b\\u0438\\u0447\\u0435\\u0441\\u0442\\u0432\\u0430 \\u0432\\u043e\\u0437\\u0432\\u0440\\u0430\\u0442\\u043e\\u0432 \\u043a\\u0440\\u0435\\u0434\\u0438\\u0442\\u0430 \\u043e\\u0442 \\u0441\\u0435\\u043c\\u0435\\u0439\\u043d\\u043e\\u0433\\u043e \\u043f\\u043e\\u043b\\u043e\\u0436\\u0435\\u043d\\u0438\\u044f\"},\"barmode\":\"relative\",\"height\":400,\"width\":800},                        {\"responsive\": true}                    ).then(function(){\n",
              "                            \n",
              "var gd = document.getElementById('d1e06658-49b8-40d4-a39f-85b78b307cfb');\n",
              "var x = new MutationObserver(function (mutations, observer) {{\n",
              "        var display = window.getComputedStyle(gd).display;\n",
              "        if (!display || display === 'none') {{\n",
              "            console.log([gd, 'removed!']);\n",
              "            Plotly.purge(gd);\n",
              "            observer.disconnect();\n",
              "        }}\n",
              "}});\n",
              "\n",
              "// Listen for the removal of the full notebook cells\n",
              "var notebookContainer = gd.closest('#notebook-container');\n",
              "if (notebookContainer) {{\n",
              "    x.observe(notebookContainer, {childList: true});\n",
              "}}\n",
              "\n",
              "// Listen for the clearing of the current output cell\n",
              "var outputEl = gd.closest('.output');\n",
              "if (outputEl) {{\n",
              "    x.observe(outputEl, {childList: true});\n",
              "}}\n",
              "\n",
              "                        })                };                            </script>        </div>\n",
              "</body>\n",
              "</html>"
            ]
          },
          "metadata": {}
        }
      ],
      "source": [
        "# Группирую по семейному статусу и считаю количество задолженостей по группам\n",
        "\n",
        "# Вывожу количество задолженностей по группам \n",
        "\n",
        "df4 = data.groupby('family_status')['debt'].sum().sort_values(ascending = False).copy()\n",
        "df5 = pd.DataFrame({'family_status':df4.index, 'count_status':df4.values})\n",
        "print(df5)\n",
        "\n",
        "#ax = sns.barplot(x = df4, y = df4.index)\n",
        "\n",
        "from typing import ValuesView\n",
        "import plotly.express as px\n",
        "\n",
        "fig = px.bar(df5, x='family_status', y='count_status', width=800, height=400,\n",
        "             labels={'x': 'family_status', 'y':'count_status'},\n",
        "             title=\"Распределеиня количества возвратов кредита от семейного положения\")\n",
        "\n",
        "\n",
        "fig.show()\n",
        "\n"
      ]
    },
    {
      "cell_type": "code",
      "execution_count": 97,
      "id": "024fd986",
      "metadata": {
        "scrolled": true,
        "colab": {
          "base_uri": "https://localhost:8080/"
        },
        "id": "024fd986",
        "outputId": "536d70e1-7574-448d-a1ca-6dd8394136bb"
      },
      "outputs": [
        {
          "output_type": "stream",
          "name": "stdout",
          "text": [
            "family_status\n",
            "Не женат / не замужем    9.76\n",
            "гражданский брак         9.31\n",
            "женат / замужем          7.56\n",
            "в разводе                7.06\n",
            "вдовец / вдова           6.62\n",
            "Name: debt, dtype: float64\n"
          ]
        }
      ],
      "source": [
        "import numpy as np\n",
        "# Группирую по семейному статусу и считаю общее количество значений столбца наличие задолженности по группам\n",
        "df6 = data.groupby('family_status')['debt'].count()\n",
        "\n",
        "#Считаю процент задержек по платежу кредита в зависимости от семейного статуса и строю диаграммы\n",
        "df7 = df4/df6\n",
        "df7 = df7*100\n",
        "df7 = np.round(df7, decimals = 2)\n",
        "df7 = df7.sort_values(ascending = False)\n",
        "print(df7)"
      ]
    },
    {
      "cell_type": "code",
      "execution_count": 98,
      "id": "baf3ee42",
      "metadata": {
        "colab": {
          "base_uri": "https://localhost:8080/",
          "height": 371
        },
        "id": "baf3ee42",
        "outputId": "c70f30e6-1a63-4eb6-efaa-c6d20e887b00"
      },
      "outputs": [
        {
          "output_type": "display_data",
          "data": {
            "text/plain": [
              "<Figure size 720x360 with 1 Axes>"
            ],
            "image/png": "[encoded data removed]"
          },
          "metadata": {
            "needs_background": "light"
          }
        }
      ],
      "source": [
        "# importing library\n",
        "import matplotlib.pyplot as plt\n",
        "  \n",
        "# function to add value labels\n",
        "def addlabels(x,y):\n",
        "    for i in range(len(x)):\n",
        "        plt.text(i, y[i], y[i], ha = 'center')\n",
        "  \n",
        "\n",
        "      \n",
        "    # setting figure size by using figure() function \n",
        "plt.figure(figsize = (10, 5))\n",
        "      \n",
        "    # making the bar chart on the data\n",
        "plt.bar(df7.index, df7)\n",
        "\n",
        "plt.xticks(rotation=10)\n",
        "      \n",
        "    # calling the function to add value labels\n",
        "addlabels(df7.index, df7)\n",
        "      \n",
        "    # giving title to the plot\n",
        "plt.title(\"Диаграммы зависимости задолженности по кредиту от семейного статуса\")\n",
        "      \n",
        "    # giving X and Y labels\n",
        "plt.xlabel(\"Семейный статус\")\n",
        "plt.ylabel(\"Процент задолженностей по кредиту, %\")\n",
        "      \n",
        "    # visualizing the plot\n",
        "plt.show()\n",
        "\n",
        "\n",
        "\n"
      ]
    },
    {
      "cell_type": "markdown",
      "id": "ab98b5e0",
      "metadata": {
        "deletable": false,
        "id": "ab98b5e0"
      },
      "source": [
        "**Вывод:**  Более всего задержек по вплате кредита у не женатых/на замужних людей и живущих в гражданском браке."
      ]
    },
    {
      "cell_type": "markdown",
      "id": "d6100283",
      "metadata": {
        "deletable": false,
        "editable": false,
        "id": "d6100283"
      },
      "source": [
        "#### 3.3 Есть ли зависимость между уровнем дохода и возвратом кредита в срок?"
      ]
    },
    {
      "cell_type": "code",
      "execution_count": 99,
      "id": "19f81b98",
      "metadata": {
        "deletable": false,
        "id": "19f81b98",
        "scrolled": false,
        "colab": {
          "base_uri": "https://localhost:8080/"
        },
        "outputId": "951aa897-f807-4e88-f937-4ee3d4f8b4c9"
      },
      "outputs": [
        {
          "output_type": "stream",
          "name": "stdout",
          "text": [
            "total_income_category\n",
            "A       2\n",
            "B     354\n",
            "C    1353\n",
            "D      21\n",
            "E       2\n",
            "Name: debt, dtype: int64\n",
            "total_income_category\n",
            "A       25\n",
            "B     5014\n",
            "C    15921\n",
            "D      349\n",
            "E       22\n",
            "Name: debt, dtype: int64\n",
            "total_income_category\n",
            "A    8.000000\n",
            "B    7.060231\n",
            "C    8.498210\n",
            "D    6.017192\n",
            "E    9.090909\n",
            "Name: debt, dtype: float64\n"
          ]
        }
      ],
      "source": [
        "# Группирую по категории получаемой заработной платы и считаю общее количество значений столбца наличие задолженности по группам\n",
        "\n",
        "df8 = data.groupby('total_income_category')['debt'].sum().copy()\n",
        "print(df8)\n",
        "\n",
        "#Считаю процент задержек по платежу кредита в зависимости от семейного статуса и строю диаграммы\n",
        "df9 = data.groupby('total_income_category')['debt'].count() \n",
        "print(df9)\n",
        "\n",
        "df10 = df8/df9\n",
        "df10 = df10*100\n",
        "print(df10)"
      ]
    },
    {
      "cell_type": "code",
      "execution_count": 100,
      "id": "21f3e518",
      "metadata": {
        "colab": {
          "base_uri": "https://localhost:8080/",
          "height": 473
        },
        "id": "21f3e518",
        "outputId": "3f9ed494-626b-486c-961e-1ddc2107f12f"
      },
      "outputs": [
        {
          "output_type": "stream",
          "name": "stdout",
          "text": [
            "total_income_category\n",
            "E    9.09\n",
            "C    8.50\n",
            "A    8.00\n",
            "B    7.06\n",
            "D    6.02\n",
            "Name: debt, dtype: float64\n"
          ]
        },
        {
          "output_type": "display_data",
          "data": {
            "text/plain": [
              "<Figure size 720x360 with 1 Axes>"
            ],
            "image/png": "[encoded data removed]"
          },
          "metadata": {
            "needs_background": "light"
          }
        }
      ],
      "source": [
        "import numpy as np\n",
        "df10 = np.round(df10, decimals = 2)\n",
        "df10 = df10.sort_values(ascending = False)\n",
        "print(df10)\n",
        "\n",
        "# importing library\n",
        "import matplotlib.pyplot as plt\n",
        "  \n",
        "# function to add value labels\n",
        "def addlabels(x,y):\n",
        "    for i in range(len(x)):\n",
        "        plt.text(i, y[i], y[i], ha = 'center')\n",
        "       \n",
        "    # setting figure size by using figure() function \n",
        "plt.figure(figsize = (10, 5))\n",
        "      \n",
        "    # making the bar chart on the data\n",
        "plt.bar(df10.index, df10)\n",
        "\n",
        "plt.xticks(rotation=10)\n",
        "      \n",
        "    # calling the function to add value labels\n",
        "addlabels(df10.index, df10)\n",
        "      \n",
        "    # giving title to the plot\n",
        "plt.title(\"Диаграммы зависимости задолженности по кредиту от категории заработной платы\")\n",
        "      \n",
        "    # giving X and Y labels\n",
        "plt.xlabel(\"Категория заработной платы\")\n",
        "plt.ylabel(\"Процент задолженностей по кредиту, %\")\n",
        "      \n",
        "    # visualizing the plot\n",
        "plt.show()"
      ]
    },
    {
      "cell_type": "code",
      "execution_count": 101,
      "id": "a64614b8",
      "metadata": {
        "id": "a64614b8"
      },
      "outputs": [],
      "source": [
        "# Диапазон зарплат по категориям\n",
        "#'E': 0 -30000:\n",
        "#'D': 30001 - 50000\n",
        "#'C': 50001 - 200000           \n",
        "#'B': 200001 - 1000000        \n",
        "#'A': >= 1000001           "
      ]
    },
    {
      "cell_type": "markdown",
      "id": "fb9a25e0",
      "metadata": {
        "deletable": false,
        "id": "fb9a25e0"
      },
      "source": [
        "**Вывод:** Линейной зависимости между уровем заработной платы и задержками по кредиту почти нет, значения А и Е не имеют статичтической значимости, поскольку количество значений из выборки не превышает 30 и каждое следующее значение с задолженностью превносит существенные изменения в процент невозврата по кредиту в группе. Наименьший процент просрочек по выплате кредита в группе D. "
      ]
    },
    {
      "cell_type": "markdown",
      "id": "856f6967",
      "metadata": {
        "deletable": false,
        "editable": false,
        "id": "856f6967"
      },
      "source": [
        "#### 3.4 Как разные цели кредита влияют на его возврат в срок?"
      ]
    },
    {
      "cell_type": "code",
      "execution_count": 102,
      "id": "cacf5fa5",
      "metadata": {
        "deletable": false,
        "id": "cacf5fa5",
        "colab": {
          "base_uri": "https://localhost:8080/"
        },
        "outputId": "881f1c45-ae69-44d1-df43-f08329bacc3c"
      },
      "outputs": [
        {
          "output_type": "stream",
          "name": "stdout",
          "text": [
            "purpose_category\n",
            "операции с автомобилем      400\n",
            "операции с недвижимостью    780\n",
            "получение образования       369\n",
            "проведение свадьбы          183\n",
            "Name: debt, dtype: int64\n",
            "purpose_category\n",
            "операции с автомобилем       4279\n",
            "операции с недвижимостью    10751\n",
            "получение образования        3988\n",
            "проведение свадьбы           2313\n",
            "Name: debt, dtype: int64\n",
            "purpose_category\n",
            "операции с автомобилем      9.347978\n",
            "операции с недвижимостью    7.255139\n",
            "получение образования       9.252758\n",
            "проведение свадьбы          7.911803\n",
            "Name: debt, dtype: float64\n"
          ]
        }
      ],
      "source": [
        "# Группирую по категории цели кредита и считаю общее количество значений столбца наличие задолженности по группам\n",
        "\n",
        "df11 = data.groupby('purpose_category')['debt'].sum().copy()\n",
        "print(df11)\n",
        "\n",
        "#Считаю процент задержек по платежу кредита в зависимости от семейного статуса и строю диаграммы\n",
        "df12 = data.groupby('purpose_category')['debt'].count() \n",
        "print(df12)\n",
        "\n",
        "df13 = df11/df12\n",
        "df13 = df13*100\n",
        "print(df13)"
      ]
    },
    {
      "cell_type": "code",
      "execution_count": 103,
      "id": "4f6e09ae",
      "metadata": {
        "colab": {
          "base_uri": "https://localhost:8080/",
          "height": 479
        },
        "id": "4f6e09ae",
        "outputId": "a97af40e-5956-48c6-c7f7-cd5f4b3905c1"
      },
      "outputs": [
        {
          "output_type": "stream",
          "name": "stdout",
          "text": [
            "purpose_category\n",
            "операции с автомобилем      9.35\n",
            "получение образования       9.25\n",
            "проведение свадьбы          7.91\n",
            "операции с недвижимостью    7.26\n",
            "Name: debt, dtype: float64\n"
          ]
        },
        {
          "output_type": "display_data",
          "data": {
            "text/plain": [
              "<Figure size 720x360 with 1 Axes>"
            ],
            "image/png": "[encoded data removed]"
          },
          "metadata": {
            "needs_background": "light"
          }
        }
      ],
      "source": [
        "import numpy as np\n",
        "df13 = np.round(df13, decimals = 2)\n",
        "df13 = df13.sort_values(ascending = False)\n",
        "print(df13)\n",
        "\n",
        "# importing library\n",
        "import matplotlib.pyplot as plt\n",
        "  \n",
        "# function to add value labels\n",
        "def addlabels(x,y):\n",
        "    for i in range(len(x)):\n",
        "        plt.text(i, y[i], y[i], ha = 'center')\n",
        "       \n",
        "    # setting figure size by using figure() function \n",
        "plt.figure(figsize = (10, 5))\n",
        "      \n",
        "    # making the bar chart on the data\n",
        "plt.bar(df13.index, df13)\n",
        "\n",
        "plt.xticks(rotation=10)\n",
        "      \n",
        "    # calling the function to add value labels\n",
        "addlabels(df13.index, df13)\n",
        "      \n",
        "    # giving title to the plot\n",
        "plt.title(\"Диаграммы зависимости задолженности по кредиту от семейного статуса\")\n",
        "      \n",
        "    # giving X and Y labels\n",
        "plt.xlabel(\"Семейный статус\")\n",
        "plt.ylabel(\"Процент задолженностей по кредиту, %\")\n",
        "      \n",
        "    # visualizing the plot\n",
        "plt.show()"
      ]
    },
    {
      "cell_type": "markdown",
      "id": "a7e136cc",
      "metadata": {
        "deletable": false,
        "id": "a7e136cc"
      },
      "source": [
        "**Вывод:** На операции с неджижимостью и проведение свадьбы процент задержек по выплате кредита меньше, чем на покупку автомобиля и получение образования."
      ]
    },
    {
      "cell_type": "markdown",
      "id": "6676ba39",
      "metadata": {
        "deletable": false,
        "editable": false,
        "id": "6676ba39"
      },
      "source": [
        "#### Приведите возможные причины появления пропусков в исходных данных."
      ]
    },
    {
      "cell_type": "markdown",
      "id": "6bb0364d",
      "metadata": {
        "deletable": false,
        "id": "6bb0364d"
      },
      "source": [
        "*Ответ:* \n",
        "Количество пропусков о рабочем времени и заработной плате совпадает.\n",
        "Эти два столбца взаимосвязаны между собой и если не будет данных в столбце о времени работы, то не будет\n",
        "данных и в столбце заработной плате. Можно предположить, что пустые значения по отработанному времени\n",
        "равны нулю, так как есть люди, которые вообще не работают в жизни и имеют либо пассивный доход либо содержанки, \n",
        "либо богатых родителей и наследство и видимо хотят ещё и кредит взять. Не исключено, что пропуски в данных\n",
        "допущены по причине того, что их просто не заполнили или они отсутствуют. Также логично подумать,\n",
        "что клиенты специально могут скрывать эти данные, желая поскорее получить кредит.\n",
        "\n",
        "Кроме того, может быть и технический фактор и данные могли потеряться при передачи информации и работе с ней.\n",
        "\n",
        "Два основных фактора потери информации - это: человеческий и технический.\n",
        "\n"
      ]
    },
    {
      "cell_type": "markdown",
      "id": "dae275e5",
      "metadata": {
        "deletable": false,
        "id": "dae275e5"
      },
      "source": [
        "*Ответ:* \n",
        "-простой метод (относительно бутстапа)\n",
        "-выбранное значение менее подвержено зависимости от выбросов, чем среднее"
      ]
    },
    {
      "cell_type": "markdown",
      "id": "47581c20",
      "metadata": {
        "deletable": false,
        "editable": false,
        "id": "47581c20"
      },
      "source": [
        "### Общий вывод"
      ]
    },
    {
      "cell_type": "markdown",
      "id": "0e723981",
      "metadata": {
        "deletable": false,
        "id": "0e723981"
      },
      "source": [
        "При группировке клиентов по количеству детей можно сделать вывод, что наиболее надежными по возврату кредита клиентами являеются люди без детей. Процент не возврата кредита по этой категории составляет 7,54%. Наименее надежная: родители 4х детей процент невозврата - 9.76%. Для оценки категории родителей с 5-ю детьми необходимо больше данных.\n",
        "\n",
        "Наиболее надежной категорией среди клиентов по семейному статусу являются вдовы/вдовцы  с процентом задержки по кредиту 6.62%. Наименее надежные - женатые/замужние. Их процент задержек по кредиту составляет 9.76%.\n",
        "\n",
        "Наиболее надежной категорией среди клиентов по уровню дохода являются клиенты с уровенм дохода D -  процент задолженности 6,02%. Наименее надежные - с категорией C. Их процент задолженности составляет 8.5%.\n",
        "\n",
        "Наиболее надежной категорией среди клиентов по целям для кредита являются те, кто берет кредит на операции с недвижимостью - процент задолженности в этой группе -7.26%. Наименее надежные - категория с операциями с автомобилем. Их процент задолженности составляет 9.35%."
      ]
    }
  ],
  "metadata": {
    "ExecuteTimeLog": [
      {
        "duration": 41,
        "start_time": "2022-10-09T21:29:06.546Z"
      },
      {
        "duration": 734,
        "start_time": "2022-10-09T21:29:15.605Z"
      },
      {
        "duration": 20,
        "start_time": "2022-10-09T21:29:16.341Z"
      },
      {
        "duration": 13,
        "start_time": "2022-10-09T21:29:16.363Z"
      },
      {
        "duration": 9,
        "start_time": "2022-10-09T21:29:16.379Z"
      },
      {
        "duration": 30,
        "start_time": "2022-10-09T21:29:16.390Z"
      },
      {
        "duration": 3,
        "start_time": "2022-10-09T21:29:16.422Z"
      },
      {
        "duration": 8,
        "start_time": "2022-10-09T21:29:16.427Z"
      },
      {
        "duration": 7,
        "start_time": "2022-10-09T21:29:16.437Z"
      },
      {
        "duration": 10,
        "start_time": "2022-10-09T21:29:16.445Z"
      },
      {
        "duration": 6,
        "start_time": "2022-10-09T21:29:16.456Z"
      },
      {
        "duration": 53,
        "start_time": "2022-10-09T21:29:16.464Z"
      },
      {
        "duration": 10,
        "start_time": "2022-10-09T21:29:16.519Z"
      },
      {
        "duration": 5,
        "start_time": "2022-10-09T21:29:16.530Z"
      },
      {
        "duration": 10,
        "start_time": "2022-10-09T21:29:16.538Z"
      },
      {
        "duration": 19,
        "start_time": "2022-10-09T21:29:16.549Z"
      },
      {
        "duration": 41,
        "start_time": "2022-10-09T21:29:16.570Z"
      },
      {
        "duration": 3,
        "start_time": "2022-10-09T21:29:16.613Z"
      },
      {
        "duration": 18,
        "start_time": "2022-10-09T21:29:16.617Z"
      },
      {
        "duration": 10,
        "start_time": "2022-10-09T21:29:16.636Z"
      },
      {
        "duration": 5,
        "start_time": "2022-10-09T21:29:16.648Z"
      },
      {
        "duration": 11,
        "start_time": "2022-10-09T21:29:16.654Z"
      },
      {
        "duration": 5,
        "start_time": "2022-10-09T21:29:16.666Z"
      },
      {
        "duration": 6,
        "start_time": "2022-10-09T21:29:16.673Z"
      },
      {
        "duration": 7,
        "start_time": "2022-10-09T21:29:16.680Z"
      },
      {
        "duration": 7,
        "start_time": "2022-10-09T21:29:16.688Z"
      },
      {
        "duration": 72,
        "start_time": "2022-10-09T21:31:30.154Z"
      },
      {
        "duration": 18,
        "start_time": "2022-10-09T21:31:41.127Z"
      },
      {
        "duration": 4,
        "start_time": "2022-10-09T21:32:14.068Z"
      },
      {
        "duration": 6,
        "start_time": "2022-10-09T21:32:40.147Z"
      },
      {
        "duration": 45,
        "start_time": "2022-10-09T21:33:49.342Z"
      },
      {
        "duration": 47,
        "start_time": "2022-10-09T21:34:13.975Z"
      },
      {
        "duration": 201,
        "start_time": "2022-10-09T21:34:54.172Z"
      },
      {
        "duration": 33,
        "start_time": "2022-10-09T21:35:18.941Z"
      },
      {
        "duration": 13,
        "start_time": "2022-10-09T21:35:55.547Z"
      },
      {
        "duration": 531,
        "start_time": "2022-10-09T21:36:07.916Z"
      },
      {
        "duration": 66,
        "start_time": "2022-10-09T21:36:25.645Z"
      },
      {
        "duration": 15,
        "start_time": "2022-10-09T21:36:25.712Z"
      },
      {
        "duration": 25,
        "start_time": "2022-10-09T21:36:25.728Z"
      },
      {
        "duration": 10,
        "start_time": "2022-10-09T21:36:25.755Z"
      },
      {
        "duration": 39,
        "start_time": "2022-10-09T21:36:25.766Z"
      },
      {
        "duration": 3,
        "start_time": "2022-10-09T21:36:25.806Z"
      },
      {
        "duration": 13,
        "start_time": "2022-10-09T21:36:25.810Z"
      },
      {
        "duration": 4,
        "start_time": "2022-10-09T21:36:25.825Z"
      },
      {
        "duration": 6,
        "start_time": "2022-10-09T21:36:25.830Z"
      },
      {
        "duration": 4,
        "start_time": "2022-10-09T21:36:25.838Z"
      },
      {
        "duration": 57,
        "start_time": "2022-10-09T21:36:25.843Z"
      },
      {
        "duration": 8,
        "start_time": "2022-10-09T21:36:25.902Z"
      },
      {
        "duration": 6,
        "start_time": "2022-10-09T21:36:25.911Z"
      },
      {
        "duration": 11,
        "start_time": "2022-10-09T21:36:25.918Z"
      },
      {
        "duration": 16,
        "start_time": "2022-10-09T21:36:25.930Z"
      },
      {
        "duration": 15,
        "start_time": "2022-10-09T21:36:25.947Z"
      },
      {
        "duration": 4,
        "start_time": "2022-10-09T21:36:25.963Z"
      },
      {
        "duration": 33,
        "start_time": "2022-10-09T21:36:25.968Z"
      },
      {
        "duration": 7,
        "start_time": "2022-10-09T21:36:26.003Z"
      },
      {
        "duration": 4,
        "start_time": "2022-10-09T21:36:26.011Z"
      },
      {
        "duration": 9,
        "start_time": "2022-10-09T21:36:26.016Z"
      },
      {
        "duration": 15,
        "start_time": "2022-10-09T21:36:26.026Z"
      },
      {
        "duration": 0,
        "start_time": "2022-10-09T21:36:26.042Z"
      },
      {
        "duration": 0,
        "start_time": "2022-10-09T21:36:26.043Z"
      },
      {
        "duration": 0,
        "start_time": "2022-10-09T21:36:26.044Z"
      },
      {
        "duration": 14,
        "start_time": "2022-10-09T21:36:47.287Z"
      },
      {
        "duration": 528,
        "start_time": "2022-10-09T21:37:12.575Z"
      },
      {
        "duration": 5,
        "start_time": "2022-10-09T21:37:17.772Z"
      },
      {
        "duration": 938,
        "start_time": "2022-10-09T21:38:15.327Z"
      },
      {
        "duration": 117,
        "start_time": "2022-10-09T21:43:35.828Z"
      },
      {
        "duration": 110,
        "start_time": "2022-10-09T21:45:29.015Z"
      },
      {
        "duration": 105,
        "start_time": "2022-10-09T21:46:19.689Z"
      },
      {
        "duration": 109,
        "start_time": "2022-10-09T21:47:13.113Z"
      },
      {
        "duration": 118,
        "start_time": "2022-10-09T21:48:01.642Z"
      },
      {
        "duration": 118,
        "start_time": "2022-10-09T21:48:16.186Z"
      },
      {
        "duration": 189,
        "start_time": "2022-10-09T21:50:59.462Z"
      },
      {
        "duration": 130,
        "start_time": "2022-10-09T21:51:58.814Z"
      },
      {
        "duration": 177,
        "start_time": "2022-10-09T21:54:39.027Z"
      },
      {
        "duration": 47,
        "start_time": "2022-10-09T21:57:55.326Z"
      },
      {
        "duration": 123,
        "start_time": "2022-10-09T21:58:10.865Z"
      },
      {
        "duration": 126,
        "start_time": "2022-10-09T21:58:35.748Z"
      },
      {
        "duration": 141,
        "start_time": "2022-10-09T21:59:30.208Z"
      },
      {
        "duration": 116,
        "start_time": "2022-10-09T22:00:21.290Z"
      },
      {
        "duration": 481,
        "start_time": "2022-10-11T09:25:20.599Z"
      },
      {
        "duration": 20,
        "start_time": "2022-10-11T09:25:21.082Z"
      },
      {
        "duration": 13,
        "start_time": "2022-10-11T09:25:21.104Z"
      },
      {
        "duration": 8,
        "start_time": "2022-10-11T09:25:21.119Z"
      },
      {
        "duration": 29,
        "start_time": "2022-10-11T09:25:21.128Z"
      },
      {
        "duration": 3,
        "start_time": "2022-10-11T09:25:21.159Z"
      },
      {
        "duration": 11,
        "start_time": "2022-10-11T09:25:21.185Z"
      },
      {
        "duration": 4,
        "start_time": "2022-10-11T09:25:21.198Z"
      },
      {
        "duration": 8,
        "start_time": "2022-10-11T09:25:21.204Z"
      },
      {
        "duration": 4,
        "start_time": "2022-10-11T09:25:21.214Z"
      },
      {
        "duration": 31,
        "start_time": "2022-10-11T09:25:21.219Z"
      },
      {
        "duration": 34,
        "start_time": "2022-10-11T09:25:21.252Z"
      },
      {
        "duration": 3,
        "start_time": "2022-10-11T09:25:21.287Z"
      },
      {
        "duration": 12,
        "start_time": "2022-10-11T09:25:21.292Z"
      },
      {
        "duration": 18,
        "start_time": "2022-10-11T09:25:21.305Z"
      },
      {
        "duration": 22,
        "start_time": "2022-10-11T09:25:21.325Z"
      },
      {
        "duration": 3,
        "start_time": "2022-10-11T09:25:21.348Z"
      },
      {
        "duration": 37,
        "start_time": "2022-10-11T09:25:21.352Z"
      },
      {
        "duration": 7,
        "start_time": "2022-10-11T09:25:21.390Z"
      },
      {
        "duration": 6,
        "start_time": "2022-10-11T09:25:21.399Z"
      },
      {
        "duration": 15,
        "start_time": "2022-10-11T09:25:21.407Z"
      },
      {
        "duration": 1055,
        "start_time": "2022-10-11T09:25:21.424Z"
      },
      {
        "duration": 121,
        "start_time": "2022-10-11T09:25:22.484Z"
      },
      {
        "duration": 204,
        "start_time": "2022-10-11T09:25:22.606Z"
      },
      {
        "duration": 0,
        "start_time": "2022-10-11T09:25:22.812Z"
      },
      {
        "duration": 0,
        "start_time": "2022-10-11T09:25:22.813Z"
      },
      {
        "duration": 124,
        "start_time": "2022-10-11T09:27:31.215Z"
      },
      {
        "duration": 113,
        "start_time": "2022-10-11T09:29:33.622Z"
      },
      {
        "duration": 119,
        "start_time": "2022-10-11T09:30:28.037Z"
      },
      {
        "duration": 105,
        "start_time": "2022-10-11T09:31:23.406Z"
      },
      {
        "duration": 161,
        "start_time": "2022-10-11T09:32:40.493Z"
      },
      {
        "duration": 114,
        "start_time": "2022-10-11T09:32:51.302Z"
      },
      {
        "duration": 111,
        "start_time": "2022-10-11T09:33:08.228Z"
      },
      {
        "duration": 107,
        "start_time": "2022-10-11T09:33:33.445Z"
      },
      {
        "duration": 98,
        "start_time": "2022-10-11T09:33:53.926Z"
      },
      {
        "duration": 102,
        "start_time": "2022-10-11T09:34:26.055Z"
      },
      {
        "duration": 111,
        "start_time": "2022-10-11T09:34:37.984Z"
      },
      {
        "duration": 120,
        "start_time": "2022-10-11T09:41:40.781Z"
      },
      {
        "duration": 100,
        "start_time": "2022-10-11T10:00:16.979Z"
      },
      {
        "duration": 27,
        "start_time": "2022-10-11T10:00:43.673Z"
      },
      {
        "duration": 17,
        "start_time": "2022-10-11T10:08:05.833Z"
      },
      {
        "duration": 17,
        "start_time": "2022-10-11T10:08:27.508Z"
      },
      {
        "duration": 7,
        "start_time": "2022-10-11T10:09:20.509Z"
      },
      {
        "duration": 7,
        "start_time": "2022-10-11T10:09:53.903Z"
      },
      {
        "duration": 17,
        "start_time": "2022-10-11T10:10:51.788Z"
      },
      {
        "duration": 18,
        "start_time": "2022-10-11T10:13:00.310Z"
      },
      {
        "duration": 9,
        "start_time": "2022-10-11T10:17:13.307Z"
      },
      {
        "duration": 74,
        "start_time": "2022-10-11T10:17:18.129Z"
      },
      {
        "duration": 14,
        "start_time": "2022-10-11T10:17:18.205Z"
      },
      {
        "duration": 14,
        "start_time": "2022-10-11T10:17:18.221Z"
      },
      {
        "duration": 24,
        "start_time": "2022-10-11T10:17:18.237Z"
      },
      {
        "duration": 52,
        "start_time": "2022-10-11T10:17:18.262Z"
      },
      {
        "duration": 4,
        "start_time": "2022-10-11T10:17:18.316Z"
      },
      {
        "duration": 9,
        "start_time": "2022-10-11T10:17:18.321Z"
      },
      {
        "duration": 3,
        "start_time": "2022-10-11T10:17:18.332Z"
      },
      {
        "duration": 10,
        "start_time": "2022-10-11T10:17:18.336Z"
      },
      {
        "duration": 3,
        "start_time": "2022-10-11T10:17:18.348Z"
      },
      {
        "duration": 58,
        "start_time": "2022-10-11T10:17:18.353Z"
      },
      {
        "duration": 9,
        "start_time": "2022-10-11T10:17:18.412Z"
      },
      {
        "duration": 4,
        "start_time": "2022-10-11T10:17:18.422Z"
      },
      {
        "duration": 12,
        "start_time": "2022-10-11T10:17:18.427Z"
      },
      {
        "duration": 17,
        "start_time": "2022-10-11T10:17:18.440Z"
      },
      {
        "duration": 35,
        "start_time": "2022-10-11T10:17:18.458Z"
      },
      {
        "duration": 3,
        "start_time": "2022-10-11T10:17:18.494Z"
      },
      {
        "duration": 14,
        "start_time": "2022-10-11T10:17:18.499Z"
      },
      {
        "duration": 6,
        "start_time": "2022-10-11T10:17:18.514Z"
      },
      {
        "duration": 6,
        "start_time": "2022-10-11T10:17:18.522Z"
      },
      {
        "duration": 10,
        "start_time": "2022-10-11T10:17:18.530Z"
      },
      {
        "duration": 149,
        "start_time": "2022-10-11T10:17:18.541Z"
      },
      {
        "duration": 123,
        "start_time": "2022-10-11T10:17:18.691Z"
      },
      {
        "duration": 7,
        "start_time": "2022-10-11T10:17:18.816Z"
      },
      {
        "duration": 14,
        "start_time": "2022-10-11T10:17:18.825Z"
      },
      {
        "duration": 0,
        "start_time": "2022-10-11T10:17:18.840Z"
      },
      {
        "duration": 0,
        "start_time": "2022-10-11T10:17:18.841Z"
      },
      {
        "duration": 9,
        "start_time": "2022-10-11T10:18:42.234Z"
      },
      {
        "duration": 19,
        "start_time": "2022-10-11T10:19:44.837Z"
      },
      {
        "duration": 64,
        "start_time": "2022-10-11T10:20:24.694Z"
      },
      {
        "duration": 14,
        "start_time": "2022-10-11T10:20:24.760Z"
      },
      {
        "duration": 15,
        "start_time": "2022-10-11T10:20:24.775Z"
      },
      {
        "duration": 9,
        "start_time": "2022-10-11T10:20:24.792Z"
      },
      {
        "duration": 34,
        "start_time": "2022-10-11T10:20:24.802Z"
      },
      {
        "duration": 3,
        "start_time": "2022-10-11T10:20:24.837Z"
      },
      {
        "duration": 10,
        "start_time": "2022-10-11T10:20:24.841Z"
      },
      {
        "duration": 7,
        "start_time": "2022-10-11T10:20:24.853Z"
      },
      {
        "duration": 24,
        "start_time": "2022-10-11T10:20:24.861Z"
      },
      {
        "duration": 67,
        "start_time": "2022-10-11T10:20:24.887Z"
      },
      {
        "duration": 48,
        "start_time": "2022-10-11T10:20:24.955Z"
      },
      {
        "duration": 8,
        "start_time": "2022-10-11T10:20:25.004Z"
      },
      {
        "duration": 19,
        "start_time": "2022-10-11T10:20:25.014Z"
      },
      {
        "duration": 26,
        "start_time": "2022-10-11T10:20:25.035Z"
      },
      {
        "duration": 32,
        "start_time": "2022-10-11T10:20:25.062Z"
      },
      {
        "duration": 21,
        "start_time": "2022-10-11T10:20:25.096Z"
      },
      {
        "duration": 3,
        "start_time": "2022-10-11T10:20:25.119Z"
      },
      {
        "duration": 29,
        "start_time": "2022-10-11T10:20:25.123Z"
      },
      {
        "duration": 22,
        "start_time": "2022-10-11T10:20:25.153Z"
      },
      {
        "duration": 9,
        "start_time": "2022-10-11T10:20:25.177Z"
      },
      {
        "duration": 33,
        "start_time": "2022-10-11T10:20:25.187Z"
      },
      {
        "duration": 124,
        "start_time": "2022-10-11T10:20:25.222Z"
      },
      {
        "duration": 118,
        "start_time": "2022-10-11T10:20:25.348Z"
      },
      {
        "duration": 27,
        "start_time": "2022-10-11T10:20:25.468Z"
      },
      {
        "duration": 0,
        "start_time": "2022-10-11T10:20:25.496Z"
      },
      {
        "duration": 0,
        "start_time": "2022-10-11T10:20:25.498Z"
      },
      {
        "duration": 0,
        "start_time": "2022-10-11T10:20:25.499Z"
      },
      {
        "duration": 435,
        "start_time": "2022-10-11T10:21:32.439Z"
      },
      {
        "duration": 66,
        "start_time": "2022-10-11T10:22:28.366Z"
      },
      {
        "duration": 50,
        "start_time": "2022-10-11T10:25:40.153Z"
      },
      {
        "duration": 47,
        "start_time": "2022-10-11T10:26:11.936Z"
      },
      {
        "duration": 48,
        "start_time": "2022-10-11T10:26:25.287Z"
      },
      {
        "duration": 16,
        "start_time": "2022-10-11T10:27:19.411Z"
      },
      {
        "duration": 47,
        "start_time": "2022-10-11T10:27:39.839Z"
      },
      {
        "duration": 16,
        "start_time": "2022-10-11T10:28:03.288Z"
      },
      {
        "duration": 44,
        "start_time": "2022-10-11T10:32:56.284Z"
      },
      {
        "duration": 44,
        "start_time": "2022-10-11T10:33:20.598Z"
      },
      {
        "duration": 50,
        "start_time": "2022-10-11T10:33:35.109Z"
      },
      {
        "duration": 43,
        "start_time": "2022-10-11T10:36:06.195Z"
      },
      {
        "duration": 45,
        "start_time": "2022-10-11T10:36:45.125Z"
      },
      {
        "duration": 130,
        "start_time": "2022-10-11T10:37:07.627Z"
      },
      {
        "duration": 46,
        "start_time": "2022-10-11T10:37:26.909Z"
      },
      {
        "duration": 6,
        "start_time": "2022-10-11T10:44:52.319Z"
      },
      {
        "duration": 7,
        "start_time": "2022-10-11T10:46:05.406Z"
      },
      {
        "duration": 118,
        "start_time": "2022-10-11T10:56:45.596Z"
      },
      {
        "duration": 131,
        "start_time": "2022-10-11T10:58:45.903Z"
      },
      {
        "duration": 116,
        "start_time": "2022-10-11T11:04:09.440Z"
      },
      {
        "duration": 128,
        "start_time": "2022-10-11T11:06:38.813Z"
      },
      {
        "duration": 129,
        "start_time": "2022-10-11T11:07:14.915Z"
      },
      {
        "duration": 121,
        "start_time": "2022-10-11T11:07:25.297Z"
      },
      {
        "duration": 10,
        "start_time": "2022-10-11T11:07:57.547Z"
      },
      {
        "duration": 109,
        "start_time": "2022-10-11T11:08:13.893Z"
      },
      {
        "duration": 126,
        "start_time": "2022-10-11T11:08:31.063Z"
      },
      {
        "duration": 111,
        "start_time": "2022-10-11T11:11:00.375Z"
      },
      {
        "duration": 159,
        "start_time": "2022-10-11T11:11:16.948Z"
      },
      {
        "duration": 126,
        "start_time": "2022-10-11T11:14:09.595Z"
      },
      {
        "duration": 161,
        "start_time": "2022-10-11T11:17:00.642Z"
      },
      {
        "duration": 120,
        "start_time": "2022-10-11T11:18:07.326Z"
      },
      {
        "duration": 123,
        "start_time": "2022-10-11T11:19:02.205Z"
      },
      {
        "duration": 121,
        "start_time": "2022-10-11T11:20:20.097Z"
      },
      {
        "duration": 124,
        "start_time": "2022-10-11T11:21:40.899Z"
      },
      {
        "duration": 15,
        "start_time": "2022-10-11T11:22:02.346Z"
      },
      {
        "duration": 96,
        "start_time": "2022-10-11T11:23:24.648Z"
      },
      {
        "duration": 214,
        "start_time": "2022-10-11T11:23:44.224Z"
      },
      {
        "duration": 135,
        "start_time": "2022-10-11T11:24:52.783Z"
      },
      {
        "duration": 113,
        "start_time": "2022-10-11T11:25:49.597Z"
      },
      {
        "duration": 116,
        "start_time": "2022-10-11T11:26:16.711Z"
      },
      {
        "duration": 114,
        "start_time": "2022-10-11T11:30:41.101Z"
      },
      {
        "duration": 106,
        "start_time": "2022-10-11T11:30:52.805Z"
      },
      {
        "duration": 120,
        "start_time": "2022-10-11T11:40:32.397Z"
      },
      {
        "duration": 136,
        "start_time": "2022-10-11T11:41:42.725Z"
      },
      {
        "duration": 7,
        "start_time": "2022-10-11T11:48:18.703Z"
      },
      {
        "duration": 126,
        "start_time": "2022-10-11T11:48:26.137Z"
      },
      {
        "duration": 95,
        "start_time": "2022-10-11T11:48:37.376Z"
      },
      {
        "duration": 7,
        "start_time": "2022-10-11T11:49:03.059Z"
      },
      {
        "duration": 155,
        "start_time": "2022-10-11T11:49:06.914Z"
      },
      {
        "duration": 8,
        "start_time": "2022-10-11T11:50:07.653Z"
      },
      {
        "duration": 130,
        "start_time": "2022-10-11T11:50:14.238Z"
      },
      {
        "duration": 73,
        "start_time": "2022-10-11T11:50:31.453Z"
      },
      {
        "duration": 14,
        "start_time": "2022-10-11T11:50:31.528Z"
      },
      {
        "duration": 41,
        "start_time": "2022-10-11T11:50:31.544Z"
      },
      {
        "duration": 13,
        "start_time": "2022-10-11T11:50:31.587Z"
      },
      {
        "duration": 47,
        "start_time": "2022-10-11T11:50:31.602Z"
      },
      {
        "duration": 4,
        "start_time": "2022-10-11T11:50:31.651Z"
      },
      {
        "duration": 29,
        "start_time": "2022-10-11T11:50:31.656Z"
      },
      {
        "duration": 29,
        "start_time": "2022-10-11T11:50:31.687Z"
      },
      {
        "duration": 20,
        "start_time": "2022-10-11T11:50:31.717Z"
      },
      {
        "duration": 21,
        "start_time": "2022-10-11T11:50:31.739Z"
      },
      {
        "duration": 34,
        "start_time": "2022-10-11T11:50:31.762Z"
      },
      {
        "duration": 13,
        "start_time": "2022-10-11T11:50:31.797Z"
      },
      {
        "duration": 11,
        "start_time": "2022-10-11T11:50:31.812Z"
      },
      {
        "duration": 20,
        "start_time": "2022-10-11T11:50:31.824Z"
      },
      {
        "duration": 23,
        "start_time": "2022-10-11T11:50:31.845Z"
      },
      {
        "duration": 24,
        "start_time": "2022-10-11T11:50:31.869Z"
      },
      {
        "duration": 4,
        "start_time": "2022-10-11T11:50:31.895Z"
      },
      {
        "duration": 15,
        "start_time": "2022-10-11T11:50:31.901Z"
      },
      {
        "duration": 7,
        "start_time": "2022-10-11T11:50:31.918Z"
      },
      {
        "duration": 10,
        "start_time": "2022-10-11T11:50:31.927Z"
      },
      {
        "duration": 24,
        "start_time": "2022-10-11T11:50:31.939Z"
      },
      {
        "duration": 127,
        "start_time": "2022-10-11T11:50:31.965Z"
      },
      {
        "duration": 125,
        "start_time": "2022-10-11T11:50:32.093Z"
      },
      {
        "duration": 46,
        "start_time": "2022-10-11T11:50:32.220Z"
      },
      {
        "duration": 23,
        "start_time": "2022-10-11T11:50:32.267Z"
      },
      {
        "duration": 143,
        "start_time": "2022-10-11T11:50:32.292Z"
      },
      {
        "duration": 2,
        "start_time": "2022-10-11T11:50:32.437Z"
      },
      {
        "duration": 7,
        "start_time": "2022-10-11T11:50:32.440Z"
      },
      {
        "duration": 8,
        "start_time": "2022-10-11T11:52:28.129Z"
      },
      {
        "duration": 8,
        "start_time": "2022-10-11T11:52:42.439Z"
      },
      {
        "duration": 139,
        "start_time": "2022-10-11T11:52:47.711Z"
      },
      {
        "duration": 8,
        "start_time": "2022-10-11T11:53:16.384Z"
      },
      {
        "duration": 143,
        "start_time": "2022-10-11T11:53:20.034Z"
      },
      {
        "duration": 7,
        "start_time": "2022-10-11T11:53:41.157Z"
      },
      {
        "duration": 163,
        "start_time": "2022-10-11T11:53:44.351Z"
      },
      {
        "duration": 8,
        "start_time": "2022-10-11T11:54:02.440Z"
      },
      {
        "duration": 258,
        "start_time": "2022-10-11T11:54:05.814Z"
      },
      {
        "duration": 9,
        "start_time": "2022-10-11T11:54:39.198Z"
      },
      {
        "duration": 140,
        "start_time": "2022-10-11T11:54:42.136Z"
      },
      {
        "duration": 9,
        "start_time": "2022-10-11T11:54:59.824Z"
      },
      {
        "duration": 140,
        "start_time": "2022-10-11T11:55:03.750Z"
      },
      {
        "duration": 138,
        "start_time": "2022-10-11T11:55:51.752Z"
      },
      {
        "duration": 132,
        "start_time": "2022-10-11T11:56:21.451Z"
      },
      {
        "duration": 165,
        "start_time": "2022-10-11T12:12:16.389Z"
      },
      {
        "duration": 148,
        "start_time": "2022-10-11T12:15:28.848Z"
      },
      {
        "duration": 151,
        "start_time": "2022-10-11T12:15:53.417Z"
      },
      {
        "duration": 8,
        "start_time": "2022-10-11T12:22:42.245Z"
      },
      {
        "duration": 10,
        "start_time": "2022-10-11T13:04:54.616Z"
      },
      {
        "duration": 142,
        "start_time": "2022-10-11T13:04:57.615Z"
      },
      {
        "duration": 58,
        "start_time": "2022-10-11T13:06:26.213Z"
      },
      {
        "duration": 164,
        "start_time": "2022-10-11T13:07:38.818Z"
      },
      {
        "duration": 161,
        "start_time": "2022-10-11T13:07:57.765Z"
      },
      {
        "duration": 99,
        "start_time": "2022-10-11T13:11:18.487Z"
      },
      {
        "duration": 170,
        "start_time": "2022-10-11T13:12:03.943Z"
      },
      {
        "duration": 160,
        "start_time": "2022-10-11T13:12:14.714Z"
      },
      {
        "duration": 183,
        "start_time": "2022-10-11T13:12:36.071Z"
      },
      {
        "duration": 115,
        "start_time": "2022-10-11T13:20:44.839Z"
      },
      {
        "duration": 123,
        "start_time": "2022-10-11T13:21:49.752Z"
      },
      {
        "duration": 186,
        "start_time": "2022-10-11T13:25:16.512Z"
      },
      {
        "duration": 310,
        "start_time": "2022-10-11T13:27:09.914Z"
      },
      {
        "duration": 184,
        "start_time": "2022-10-11T13:27:51.335Z"
      },
      {
        "duration": 154,
        "start_time": "2022-10-11T13:29:52.270Z"
      },
      {
        "duration": 86,
        "start_time": "2022-10-11T13:30:14.190Z"
      },
      {
        "duration": 28,
        "start_time": "2022-10-11T13:30:14.278Z"
      },
      {
        "duration": 19,
        "start_time": "2022-10-11T13:30:14.308Z"
      },
      {
        "duration": 10,
        "start_time": "2022-10-11T13:30:14.330Z"
      },
      {
        "duration": 47,
        "start_time": "2022-10-11T13:30:14.342Z"
      },
      {
        "duration": 11,
        "start_time": "2022-10-11T13:30:14.394Z"
      },
      {
        "duration": 14,
        "start_time": "2022-10-11T13:30:14.407Z"
      },
      {
        "duration": 5,
        "start_time": "2022-10-11T13:30:14.423Z"
      },
      {
        "duration": 7,
        "start_time": "2022-10-11T13:30:14.429Z"
      },
      {
        "duration": 4,
        "start_time": "2022-10-11T13:30:14.438Z"
      },
      {
        "duration": 48,
        "start_time": "2022-10-11T13:30:14.444Z"
      },
      {
        "duration": 23,
        "start_time": "2022-10-11T13:30:14.494Z"
      },
      {
        "duration": 15,
        "start_time": "2022-10-11T13:30:14.518Z"
      },
      {
        "duration": 23,
        "start_time": "2022-10-11T13:30:14.535Z"
      },
      {
        "duration": 27,
        "start_time": "2022-10-11T13:30:14.560Z"
      },
      {
        "duration": 24,
        "start_time": "2022-10-11T13:30:14.589Z"
      },
      {
        "duration": 4,
        "start_time": "2022-10-11T13:30:14.615Z"
      },
      {
        "duration": 18,
        "start_time": "2022-10-11T13:30:14.621Z"
      },
      {
        "duration": 7,
        "start_time": "2022-10-11T13:30:14.641Z"
      },
      {
        "duration": 6,
        "start_time": "2022-10-11T13:30:14.650Z"
      },
      {
        "duration": 37,
        "start_time": "2022-10-11T13:30:14.658Z"
      },
      {
        "duration": 135,
        "start_time": "2022-10-11T13:30:14.696Z"
      },
      {
        "duration": 176,
        "start_time": "2022-10-11T13:30:14.833Z"
      },
      {
        "duration": 47,
        "start_time": "2022-10-11T13:30:15.011Z"
      },
      {
        "duration": 8,
        "start_time": "2022-10-11T13:30:15.060Z"
      },
      {
        "duration": 178,
        "start_time": "2022-10-11T13:30:15.070Z"
      },
      {
        "duration": 7,
        "start_time": "2022-10-11T13:30:15.250Z"
      },
      {
        "duration": 10,
        "start_time": "2022-10-11T13:30:15.259Z"
      },
      {
        "duration": 187,
        "start_time": "2022-10-11T13:31:53.276Z"
      },
      {
        "duration": 297,
        "start_time": "2022-10-11T13:32:19.559Z"
      },
      {
        "duration": 229,
        "start_time": "2022-10-11T13:32:38.712Z"
      },
      {
        "duration": 11,
        "start_time": "2022-10-11T13:49:39.360Z"
      },
      {
        "duration": 14,
        "start_time": "2022-10-11T13:51:13.079Z"
      },
      {
        "duration": 162,
        "start_time": "2022-10-11T13:52:10.836Z"
      },
      {
        "duration": 77,
        "start_time": "2022-10-11T13:53:51.881Z"
      },
      {
        "duration": 15,
        "start_time": "2022-10-11T13:53:51.960Z"
      },
      {
        "duration": 44,
        "start_time": "2022-10-11T13:53:51.977Z"
      },
      {
        "duration": 18,
        "start_time": "2022-10-11T13:53:52.023Z"
      },
      {
        "duration": 57,
        "start_time": "2022-10-11T13:53:52.042Z"
      },
      {
        "duration": 3,
        "start_time": "2022-10-11T13:53:52.101Z"
      },
      {
        "duration": 29,
        "start_time": "2022-10-11T13:53:52.106Z"
      },
      {
        "duration": 18,
        "start_time": "2022-10-11T13:53:52.136Z"
      },
      {
        "duration": 42,
        "start_time": "2022-10-11T13:53:52.155Z"
      },
      {
        "duration": 8,
        "start_time": "2022-10-11T13:53:52.200Z"
      },
      {
        "duration": 29,
        "start_time": "2022-10-11T13:53:52.210Z"
      },
      {
        "duration": 8,
        "start_time": "2022-10-11T13:53:52.241Z"
      },
      {
        "duration": 3,
        "start_time": "2022-10-11T13:53:52.250Z"
      },
      {
        "duration": 13,
        "start_time": "2022-10-11T13:53:52.255Z"
      },
      {
        "duration": 34,
        "start_time": "2022-10-11T13:53:52.269Z"
      },
      {
        "duration": 17,
        "start_time": "2022-10-11T13:53:52.304Z"
      },
      {
        "duration": 3,
        "start_time": "2022-10-11T13:53:52.323Z"
      },
      {
        "duration": 19,
        "start_time": "2022-10-11T13:53:52.327Z"
      },
      {
        "duration": 9,
        "start_time": "2022-10-11T13:53:52.347Z"
      },
      {
        "duration": 9,
        "start_time": "2022-10-11T13:53:52.357Z"
      },
      {
        "duration": 31,
        "start_time": "2022-10-11T13:53:52.368Z"
      },
      {
        "duration": 142,
        "start_time": "2022-10-11T13:53:52.401Z"
      },
      {
        "duration": 173,
        "start_time": "2022-10-11T13:53:52.545Z"
      },
      {
        "duration": 65,
        "start_time": "2022-10-11T13:53:52.721Z"
      },
      {
        "duration": 8,
        "start_time": "2022-10-11T13:53:52.799Z"
      },
      {
        "duration": 161,
        "start_time": "2022-10-11T13:53:52.808Z"
      },
      {
        "duration": 26,
        "start_time": "2022-10-11T13:53:52.971Z"
      },
      {
        "duration": 148,
        "start_time": "2022-10-11T13:53:52.999Z"
      },
      {
        "duration": 3,
        "start_time": "2022-10-11T13:53:53.148Z"
      },
      {
        "duration": 168,
        "start_time": "2022-10-11T13:56:47.547Z"
      },
      {
        "duration": 163,
        "start_time": "2022-10-11T13:57:48.629Z"
      },
      {
        "duration": 140,
        "start_time": "2022-10-11T13:58:30.909Z"
      },
      {
        "duration": 310,
        "start_time": "2022-10-11T14:24:07.976Z"
      },
      {
        "duration": 11,
        "start_time": "2022-10-11T14:24:34.466Z"
      },
      {
        "duration": 19,
        "start_time": "2022-10-11T14:46:40.465Z"
      },
      {
        "duration": 17,
        "start_time": "2022-10-11T14:46:58.807Z"
      },
      {
        "duration": 147,
        "start_time": "2022-10-11T15:06:33.696Z"
      },
      {
        "duration": 150,
        "start_time": "2022-10-11T15:07:07.240Z"
      },
      {
        "duration": 146,
        "start_time": "2022-10-11T15:24:29.664Z"
      },
      {
        "duration": 10,
        "start_time": "2022-10-11T15:26:01.916Z"
      },
      {
        "duration": 138,
        "start_time": "2022-10-11T15:26:07.779Z"
      },
      {
        "duration": 492,
        "start_time": "2022-10-11T16:40:26.719Z"
      },
      {
        "duration": 23,
        "start_time": "2022-10-11T16:40:27.213Z"
      },
      {
        "duration": 16,
        "start_time": "2022-10-11T16:40:27.237Z"
      },
      {
        "duration": 28,
        "start_time": "2022-10-11T16:40:27.255Z"
      },
      {
        "duration": 46,
        "start_time": "2022-10-11T16:40:27.290Z"
      },
      {
        "duration": 4,
        "start_time": "2022-10-11T16:40:27.337Z"
      },
      {
        "duration": 26,
        "start_time": "2022-10-11T16:40:27.342Z"
      },
      {
        "duration": 34,
        "start_time": "2022-10-11T16:40:27.370Z"
      },
      {
        "duration": 11,
        "start_time": "2022-10-11T16:40:27.406Z"
      },
      {
        "duration": 18,
        "start_time": "2022-10-11T16:40:27.418Z"
      },
      {
        "duration": 43,
        "start_time": "2022-10-11T16:40:27.437Z"
      },
      {
        "duration": 10,
        "start_time": "2022-10-11T16:40:27.481Z"
      },
      {
        "duration": 9,
        "start_time": "2022-10-11T16:40:27.493Z"
      },
      {
        "duration": 23,
        "start_time": "2022-10-11T16:40:27.504Z"
      },
      {
        "duration": 34,
        "start_time": "2022-10-11T16:40:27.528Z"
      },
      {
        "duration": 17,
        "start_time": "2022-10-11T16:40:27.563Z"
      },
      {
        "duration": 13,
        "start_time": "2022-10-11T16:40:27.582Z"
      },
      {
        "duration": 30,
        "start_time": "2022-10-11T16:40:27.597Z"
      },
      {
        "duration": 30,
        "start_time": "2022-10-11T16:40:27.629Z"
      },
      {
        "duration": 16,
        "start_time": "2022-10-11T16:40:27.661Z"
      },
      {
        "duration": 29,
        "start_time": "2022-10-11T16:40:27.679Z"
      },
      {
        "duration": 1265,
        "start_time": "2022-10-11T16:40:27.709Z"
      },
      {
        "duration": 120,
        "start_time": "2022-10-11T16:40:28.976Z"
      },
      {
        "duration": 0,
        "start_time": "2022-10-11T16:40:29.097Z"
      },
      {
        "duration": 0,
        "start_time": "2022-10-11T16:40:29.098Z"
      },
      {
        "duration": 0,
        "start_time": "2022-10-11T16:40:29.100Z"
      },
      {
        "duration": 0,
        "start_time": "2022-10-11T16:40:29.101Z"
      },
      {
        "duration": 0,
        "start_time": "2022-10-11T16:40:29.102Z"
      },
      {
        "duration": 0,
        "start_time": "2022-10-11T16:40:29.103Z"
      },
      {
        "duration": 0,
        "start_time": "2022-10-11T16:40:29.105Z"
      },
      {
        "duration": 0,
        "start_time": "2022-10-11T16:40:29.107Z"
      },
      {
        "duration": 487,
        "start_time": "2022-10-11T16:43:35.997Z"
      },
      {
        "duration": 26,
        "start_time": "2022-10-11T16:43:36.487Z"
      },
      {
        "duration": 16,
        "start_time": "2022-10-11T16:43:36.515Z"
      },
      {
        "duration": 10,
        "start_time": "2022-10-11T16:43:36.533Z"
      },
      {
        "duration": 70,
        "start_time": "2022-10-11T16:43:36.545Z"
      },
      {
        "duration": 4,
        "start_time": "2022-10-11T16:43:36.617Z"
      },
      {
        "duration": 12,
        "start_time": "2022-10-11T16:43:36.622Z"
      },
      {
        "duration": 4,
        "start_time": "2022-10-11T16:43:36.636Z"
      },
      {
        "duration": 11,
        "start_time": "2022-10-11T16:43:36.642Z"
      },
      {
        "duration": 5,
        "start_time": "2022-10-11T16:43:36.657Z"
      },
      {
        "duration": 74,
        "start_time": "2022-10-11T16:43:36.664Z"
      },
      {
        "duration": 11,
        "start_time": "2022-10-11T16:43:36.740Z"
      },
      {
        "duration": 6,
        "start_time": "2022-10-11T16:43:36.753Z"
      },
      {
        "duration": 37,
        "start_time": "2022-10-11T16:43:36.761Z"
      },
      {
        "duration": 23,
        "start_time": "2022-10-11T16:43:36.800Z"
      },
      {
        "duration": 20,
        "start_time": "2022-10-11T16:43:36.825Z"
      },
      {
        "duration": 4,
        "start_time": "2022-10-11T16:43:36.846Z"
      },
      {
        "duration": 15,
        "start_time": "2022-10-11T16:43:36.852Z"
      },
      {
        "duration": 7,
        "start_time": "2022-10-11T16:43:36.889Z"
      },
      {
        "duration": 6,
        "start_time": "2022-10-11T16:43:36.897Z"
      },
      {
        "duration": 12,
        "start_time": "2022-10-11T16:43:36.905Z"
      },
      {
        "duration": 973,
        "start_time": "2022-10-11T16:43:36.919Z"
      },
      {
        "duration": 190,
        "start_time": "2022-10-11T16:43:37.894Z"
      },
      {
        "duration": 615,
        "start_time": "2022-10-11T16:43:38.086Z"
      },
      {
        "duration": 10,
        "start_time": "2022-10-11T16:43:38.703Z"
      },
      {
        "duration": 417,
        "start_time": "2022-10-11T16:43:38.715Z"
      },
      {
        "duration": 69,
        "start_time": "2022-10-11T16:43:39.134Z"
      },
      {
        "duration": 319,
        "start_time": "2022-10-11T16:43:39.208Z"
      },
      {
        "duration": 2,
        "start_time": "2022-10-11T16:43:39.529Z"
      },
      {
        "duration": 69,
        "start_time": "2022-10-11T16:43:39.532Z"
      },
      {
        "duration": 317,
        "start_time": "2022-10-11T16:43:39.602Z"
      },
      {
        "duration": 90,
        "start_time": "2022-10-11T19:30:10.327Z"
      },
      {
        "duration": 81,
        "start_time": "2022-10-11T19:30:28.398Z"
      },
      {
        "duration": 51,
        "start_time": "2022-10-11T19:31:30.837Z"
      },
      {
        "duration": 510,
        "start_time": "2022-10-11T19:31:39.308Z"
      },
      {
        "duration": 20,
        "start_time": "2022-10-11T19:31:39.820Z"
      },
      {
        "duration": 13,
        "start_time": "2022-10-11T19:31:39.841Z"
      },
      {
        "duration": 8,
        "start_time": "2022-10-11T19:31:39.856Z"
      },
      {
        "duration": 32,
        "start_time": "2022-10-11T19:31:39.865Z"
      },
      {
        "duration": 4,
        "start_time": "2022-10-11T19:31:39.921Z"
      },
      {
        "duration": 10,
        "start_time": "2022-10-11T19:31:39.927Z"
      },
      {
        "duration": 4,
        "start_time": "2022-10-11T19:31:39.938Z"
      },
      {
        "duration": 8,
        "start_time": "2022-10-11T19:31:39.944Z"
      },
      {
        "duration": 5,
        "start_time": "2022-10-11T19:31:39.955Z"
      },
      {
        "duration": 29,
        "start_time": "2022-10-11T19:31:39.961Z"
      },
      {
        "duration": 69,
        "start_time": "2022-10-11T19:31:39.992Z"
      },
      {
        "duration": 12,
        "start_time": "2022-10-11T19:31:40.062Z"
      },
      {
        "duration": 8,
        "start_time": "2022-10-11T19:31:40.076Z"
      },
      {
        "duration": 11,
        "start_time": "2022-10-11T19:31:40.085Z"
      },
      {
        "duration": 32,
        "start_time": "2022-10-11T19:31:40.098Z"
      },
      {
        "duration": 15,
        "start_time": "2022-10-11T19:31:40.132Z"
      },
      {
        "duration": 4,
        "start_time": "2022-10-11T19:31:40.148Z"
      },
      {
        "duration": 18,
        "start_time": "2022-10-11T19:31:40.154Z"
      },
      {
        "duration": 7,
        "start_time": "2022-10-11T19:31:40.174Z"
      },
      {
        "duration": 14,
        "start_time": "2022-10-11T19:31:40.182Z"
      },
      {
        "duration": 30,
        "start_time": "2022-10-11T19:31:40.197Z"
      },
      {
        "duration": 983,
        "start_time": "2022-10-11T19:31:40.229Z"
      },
      {
        "duration": 176,
        "start_time": "2022-10-11T19:31:41.213Z"
      },
      {
        "duration": 602,
        "start_time": "2022-10-11T19:31:41.391Z"
      },
      {
        "duration": 9,
        "start_time": "2022-10-11T19:31:41.995Z"
      },
      {
        "duration": 193,
        "start_time": "2022-10-11T19:31:42.006Z"
      },
      {
        "duration": 11,
        "start_time": "2022-10-11T19:31:42.223Z"
      },
      {
        "duration": 142,
        "start_time": "2022-10-11T19:31:42.236Z"
      },
      {
        "duration": 2,
        "start_time": "2022-10-11T19:31:42.380Z"
      },
      {
        "duration": 20,
        "start_time": "2022-10-11T19:31:42.384Z"
      },
      {
        "duration": 166,
        "start_time": "2022-10-11T19:31:42.406Z"
      },
      {
        "duration": 1352,
        "start_time": "2022-10-11T19:31:42.574Z"
      },
      {
        "duration": 13,
        "start_time": "2022-10-11T19:35:23.801Z"
      },
      {
        "duration": 9,
        "start_time": "2022-10-11T19:35:38.896Z"
      },
      {
        "duration": 75,
        "start_time": "2022-10-11T19:35:44.597Z"
      },
      {
        "duration": 13,
        "start_time": "2022-10-11T19:35:44.674Z"
      },
      {
        "duration": 15,
        "start_time": "2022-10-11T19:35:44.689Z"
      },
      {
        "duration": 8,
        "start_time": "2022-10-11T19:35:44.721Z"
      },
      {
        "duration": 31,
        "start_time": "2022-10-11T19:35:44.730Z"
      },
      {
        "duration": 3,
        "start_time": "2022-10-11T19:35:44.762Z"
      },
      {
        "duration": 10,
        "start_time": "2022-10-11T19:35:44.766Z"
      },
      {
        "duration": 4,
        "start_time": "2022-10-11T19:35:44.777Z"
      },
      {
        "duration": 9,
        "start_time": "2022-10-11T19:35:44.782Z"
      },
      {
        "duration": 4,
        "start_time": "2022-10-11T19:35:44.793Z"
      },
      {
        "duration": 19,
        "start_time": "2022-10-11T19:35:44.822Z"
      },
      {
        "duration": 28,
        "start_time": "2022-10-11T19:35:44.842Z"
      },
      {
        "duration": 8,
        "start_time": "2022-10-11T19:35:44.871Z"
      },
      {
        "duration": 5,
        "start_time": "2022-10-11T19:35:44.880Z"
      },
      {
        "duration": 40,
        "start_time": "2022-10-11T19:35:44.887Z"
      },
      {
        "duration": 17,
        "start_time": "2022-10-11T19:35:44.929Z"
      },
      {
        "duration": 14,
        "start_time": "2022-10-11T19:35:44.947Z"
      },
      {
        "duration": 3,
        "start_time": "2022-10-11T19:35:44.963Z"
      },
      {
        "duration": 11,
        "start_time": "2022-10-11T19:35:44.968Z"
      },
      {
        "duration": 5,
        "start_time": "2022-10-11T19:35:44.980Z"
      },
      {
        "duration": 4,
        "start_time": "2022-10-11T19:35:44.986Z"
      },
      {
        "duration": 8,
        "start_time": "2022-10-11T19:35:45.022Z"
      },
      {
        "duration": 123,
        "start_time": "2022-10-11T19:35:45.031Z"
      },
      {
        "duration": 142,
        "start_time": "2022-10-11T19:35:45.156Z"
      },
      {
        "duration": 57,
        "start_time": "2022-10-11T19:35:45.300Z"
      },
      {
        "duration": 20,
        "start_time": "2022-10-11T19:35:45.359Z"
      },
      {
        "duration": 145,
        "start_time": "2022-10-11T19:35:45.380Z"
      },
      {
        "duration": 10,
        "start_time": "2022-10-11T19:35:45.527Z"
      },
      {
        "duration": 145,
        "start_time": "2022-10-11T19:35:45.539Z"
      },
      {
        "duration": 3,
        "start_time": "2022-10-11T19:35:45.685Z"
      },
      {
        "duration": 15,
        "start_time": "2022-10-11T19:35:45.689Z"
      },
      {
        "duration": 142,
        "start_time": "2022-10-11T19:35:45.706Z"
      },
      {
        "duration": 3619,
        "start_time": "2022-10-11T19:35:45.849Z"
      },
      {
        "duration": 11,
        "start_time": "2022-10-11T19:36:54.070Z"
      },
      {
        "duration": 76,
        "start_time": "2022-10-11T19:36:58.854Z"
      },
      {
        "duration": 15,
        "start_time": "2022-10-11T19:36:58.932Z"
      },
      {
        "duration": 17,
        "start_time": "2022-10-11T19:36:58.948Z"
      },
      {
        "duration": 8,
        "start_time": "2022-10-11T19:36:58.967Z"
      },
      {
        "duration": 56,
        "start_time": "2022-10-11T19:36:58.977Z"
      },
      {
        "duration": 3,
        "start_time": "2022-10-11T19:36:59.034Z"
      },
      {
        "duration": 10,
        "start_time": "2022-10-11T19:36:59.039Z"
      },
      {
        "duration": 5,
        "start_time": "2022-10-11T19:36:59.050Z"
      },
      {
        "duration": 6,
        "start_time": "2022-10-11T19:36:59.057Z"
      },
      {
        "duration": 6,
        "start_time": "2022-10-11T19:36:59.065Z"
      },
      {
        "duration": 9,
        "start_time": "2022-10-11T19:36:59.073Z"
      },
      {
        "duration": 54,
        "start_time": "2022-10-11T19:36:59.084Z"
      },
      {
        "duration": 8,
        "start_time": "2022-10-11T19:36:59.139Z"
      },
      {
        "duration": 10,
        "start_time": "2022-10-11T19:36:59.149Z"
      },
      {
        "duration": 14,
        "start_time": "2022-10-11T19:36:59.160Z"
      },
      {
        "duration": 16,
        "start_time": "2022-10-11T19:36:59.175Z"
      },
      {
        "duration": 34,
        "start_time": "2022-10-11T19:36:59.193Z"
      },
      {
        "duration": 4,
        "start_time": "2022-10-11T19:36:59.228Z"
      },
      {
        "duration": 14,
        "start_time": "2022-10-11T19:36:59.233Z"
      },
      {
        "duration": 6,
        "start_time": "2022-10-11T19:36:59.248Z"
      },
      {
        "duration": 4,
        "start_time": "2022-10-11T19:36:59.255Z"
      },
      {
        "duration": 11,
        "start_time": "2022-10-11T19:36:59.261Z"
      },
      {
        "duration": 137,
        "start_time": "2022-10-11T19:36:59.274Z"
      },
      {
        "duration": 234,
        "start_time": "2022-10-11T19:36:59.412Z"
      },
      {
        "duration": 46,
        "start_time": "2022-10-11T19:36:59.647Z"
      },
      {
        "duration": 7,
        "start_time": "2022-10-11T19:36:59.695Z"
      },
      {
        "duration": 140,
        "start_time": "2022-10-11T19:36:59.721Z"
      },
      {
        "duration": 10,
        "start_time": "2022-10-11T19:36:59.862Z"
      },
      {
        "duration": 137,
        "start_time": "2022-10-11T19:36:59.873Z"
      },
      {
        "duration": 2,
        "start_time": "2022-10-11T19:37:00.021Z"
      },
      {
        "duration": 30,
        "start_time": "2022-10-11T19:37:00.024Z"
      },
      {
        "duration": 133,
        "start_time": "2022-10-11T19:37:00.056Z"
      },
      {
        "duration": 1817,
        "start_time": "2022-10-11T19:37:00.191Z"
      },
      {
        "duration": 10,
        "start_time": "2022-10-11T19:39:34.911Z"
      },
      {
        "duration": 73,
        "start_time": "2022-10-11T19:39:45.089Z"
      },
      {
        "duration": 14,
        "start_time": "2022-10-11T19:39:45.164Z"
      },
      {
        "duration": 17,
        "start_time": "2022-10-11T19:39:45.179Z"
      },
      {
        "duration": 24,
        "start_time": "2022-10-11T19:39:45.198Z"
      },
      {
        "duration": 19,
        "start_time": "2022-10-11T19:39:45.224Z"
      },
      {
        "duration": 32,
        "start_time": "2022-10-11T19:39:45.244Z"
      },
      {
        "duration": 3,
        "start_time": "2022-10-11T19:39:45.277Z"
      },
      {
        "duration": 33,
        "start_time": "2022-10-11T19:39:45.282Z"
      },
      {
        "duration": 8,
        "start_time": "2022-10-11T19:39:45.317Z"
      },
      {
        "duration": 22,
        "start_time": "2022-10-11T19:39:45.327Z"
      },
      {
        "duration": 46,
        "start_time": "2022-10-11T19:39:45.351Z"
      },
      {
        "duration": 52,
        "start_time": "2022-10-11T19:39:45.399Z"
      },
      {
        "duration": 9,
        "start_time": "2022-10-11T19:39:45.453Z"
      },
      {
        "duration": 30,
        "start_time": "2022-10-11T19:39:45.464Z"
      },
      {
        "duration": 19,
        "start_time": "2022-10-11T19:39:45.496Z"
      },
      {
        "duration": 20,
        "start_time": "2022-10-11T19:39:45.516Z"
      },
      {
        "duration": 20,
        "start_time": "2022-10-11T19:39:45.538Z"
      },
      {
        "duration": 5,
        "start_time": "2022-10-11T19:39:45.560Z"
      },
      {
        "duration": 33,
        "start_time": "2022-10-11T19:39:45.566Z"
      },
      {
        "duration": 17,
        "start_time": "2022-10-11T19:39:45.601Z"
      },
      {
        "duration": 22,
        "start_time": "2022-10-11T19:39:45.620Z"
      },
      {
        "duration": 30,
        "start_time": "2022-10-11T19:39:45.643Z"
      },
      {
        "duration": 115,
        "start_time": "2022-10-11T19:39:45.675Z"
      },
      {
        "duration": 146,
        "start_time": "2022-10-11T19:39:45.792Z"
      },
      {
        "duration": 45,
        "start_time": "2022-10-11T19:39:45.940Z"
      },
      {
        "duration": 10,
        "start_time": "2022-10-11T19:39:45.988Z"
      },
      {
        "duration": 170,
        "start_time": "2022-10-11T19:39:46.022Z"
      },
      {
        "duration": 10,
        "start_time": "2022-10-11T19:39:46.193Z"
      },
      {
        "duration": 136,
        "start_time": "2022-10-11T19:39:46.204Z"
      },
      {
        "duration": 2,
        "start_time": "2022-10-11T19:39:46.343Z"
      },
      {
        "duration": 31,
        "start_time": "2022-10-11T19:39:46.346Z"
      },
      {
        "duration": 135,
        "start_time": "2022-10-11T19:39:46.379Z"
      },
      {
        "duration": 1684,
        "start_time": "2022-10-11T19:39:46.521Z"
      },
      {
        "duration": 10,
        "start_time": "2022-10-11T19:41:56.434Z"
      },
      {
        "duration": 5,
        "start_time": "2022-10-11T19:42:33.564Z"
      },
      {
        "duration": 6,
        "start_time": "2022-10-11T19:43:07.415Z"
      },
      {
        "duration": 84,
        "start_time": "2022-10-11T19:43:29.112Z"
      },
      {
        "duration": 15,
        "start_time": "2022-10-11T19:43:29.198Z"
      },
      {
        "duration": 17,
        "start_time": "2022-10-11T19:43:29.214Z"
      },
      {
        "duration": 9,
        "start_time": "2022-10-11T19:43:29.233Z"
      },
      {
        "duration": 8,
        "start_time": "2022-10-11T19:43:29.243Z"
      },
      {
        "duration": 34,
        "start_time": "2022-10-11T19:43:29.253Z"
      },
      {
        "duration": 3,
        "start_time": "2022-10-11T19:43:29.289Z"
      },
      {
        "duration": 33,
        "start_time": "2022-10-11T19:43:29.294Z"
      },
      {
        "duration": 5,
        "start_time": "2022-10-11T19:43:29.328Z"
      },
      {
        "duration": 9,
        "start_time": "2022-10-11T19:43:29.335Z"
      },
      {
        "duration": 6,
        "start_time": "2022-10-11T19:43:29.346Z"
      },
      {
        "duration": 39,
        "start_time": "2022-10-11T19:43:29.354Z"
      },
      {
        "duration": 32,
        "start_time": "2022-10-11T19:43:29.394Z"
      },
      {
        "duration": 5,
        "start_time": "2022-10-11T19:43:29.427Z"
      },
      {
        "duration": 12,
        "start_time": "2022-10-11T19:43:29.433Z"
      },
      {
        "duration": 19,
        "start_time": "2022-10-11T19:43:29.446Z"
      },
      {
        "duration": 15,
        "start_time": "2022-10-11T19:43:29.467Z"
      },
      {
        "duration": 3,
        "start_time": "2022-10-11T19:43:29.483Z"
      },
      {
        "duration": 9,
        "start_time": "2022-10-11T19:43:29.521Z"
      },
      {
        "duration": 9,
        "start_time": "2022-10-11T19:43:29.532Z"
      },
      {
        "duration": 6,
        "start_time": "2022-10-11T19:43:29.542Z"
      },
      {
        "duration": 17,
        "start_time": "2022-10-11T19:43:29.549Z"
      },
      {
        "duration": 125,
        "start_time": "2022-10-11T19:43:29.568Z"
      },
      {
        "duration": 151,
        "start_time": "2022-10-11T19:43:29.695Z"
      },
      {
        "duration": 44,
        "start_time": "2022-10-11T19:43:29.849Z"
      },
      {
        "duration": 30,
        "start_time": "2022-10-11T19:43:29.895Z"
      },
      {
        "duration": 141,
        "start_time": "2022-10-11T19:43:29.926Z"
      },
      {
        "duration": 9,
        "start_time": "2022-10-11T19:43:30.069Z"
      },
      {
        "duration": 249,
        "start_time": "2022-10-11T19:43:30.080Z"
      },
      {
        "duration": 2,
        "start_time": "2022-10-11T19:43:30.331Z"
      },
      {
        "duration": 81,
        "start_time": "2022-10-11T19:43:30.334Z"
      },
      {
        "duration": 139,
        "start_time": "2022-10-11T19:43:30.416Z"
      },
      {
        "duration": 1218,
        "start_time": "2022-10-11T19:43:30.556Z"
      },
      {
        "duration": 13,
        "start_time": "2022-10-11T19:45:18.379Z"
      },
      {
        "duration": 77,
        "start_time": "2022-10-11T19:45:42.292Z"
      },
      {
        "duration": 14,
        "start_time": "2022-10-11T19:45:42.371Z"
      },
      {
        "duration": 19,
        "start_time": "2022-10-11T19:45:42.386Z"
      },
      {
        "duration": 20,
        "start_time": "2022-10-11T19:45:42.407Z"
      },
      {
        "duration": 12,
        "start_time": "2022-10-11T19:45:42.428Z"
      },
      {
        "duration": 29,
        "start_time": "2022-10-11T19:45:42.442Z"
      },
      {
        "duration": 3,
        "start_time": "2022-10-11T19:45:42.473Z"
      },
      {
        "duration": 15,
        "start_time": "2022-10-11T19:45:42.479Z"
      },
      {
        "duration": 28,
        "start_time": "2022-10-11T19:45:42.495Z"
      },
      {
        "duration": 10,
        "start_time": "2022-10-11T19:45:42.526Z"
      },
      {
        "duration": 6,
        "start_time": "2022-10-11T19:45:42.537Z"
      },
      {
        "duration": 32,
        "start_time": "2022-10-11T19:45:42.544Z"
      },
      {
        "duration": 10,
        "start_time": "2022-10-11T19:45:42.578Z"
      },
      {
        "duration": 9,
        "start_time": "2022-10-11T19:45:42.589Z"
      },
      {
        "duration": 9,
        "start_time": "2022-10-11T19:45:42.623Z"
      },
      {
        "duration": 20,
        "start_time": "2022-10-11T19:45:42.634Z"
      },
      {
        "duration": 15,
        "start_time": "2022-10-11T19:45:42.655Z"
      },
      {
        "duration": 3,
        "start_time": "2022-10-11T19:45:42.672Z"
      },
      {
        "duration": 11,
        "start_time": "2022-10-11T19:45:42.676Z"
      },
      {
        "duration": 5,
        "start_time": "2022-10-11T19:45:42.688Z"
      },
      {
        "duration": 30,
        "start_time": "2022-10-11T19:45:42.695Z"
      },
      {
        "duration": 16,
        "start_time": "2022-10-11T19:45:42.728Z"
      },
      {
        "duration": 135,
        "start_time": "2022-10-11T19:45:42.746Z"
      },
      {
        "duration": 151,
        "start_time": "2022-10-11T19:45:42.883Z"
      },
      {
        "duration": 46,
        "start_time": "2022-10-11T19:45:43.036Z"
      },
      {
        "duration": 10,
        "start_time": "2022-10-11T19:45:43.084Z"
      },
      {
        "duration": 165,
        "start_time": "2022-10-11T19:45:43.095Z"
      },
      {
        "duration": 11,
        "start_time": "2022-10-11T19:45:43.261Z"
      },
      {
        "duration": 166,
        "start_time": "2022-10-11T19:45:43.274Z"
      },
      {
        "duration": 3,
        "start_time": "2022-10-11T19:45:43.441Z"
      },
      {
        "duration": 14,
        "start_time": "2022-10-11T19:45:43.445Z"
      },
      {
        "duration": 146,
        "start_time": "2022-10-11T19:45:43.460Z"
      },
      {
        "duration": 1782,
        "start_time": "2022-10-11T19:45:43.608Z"
      },
      {
        "duration": 91,
        "start_time": "2022-10-11T20:02:21.614Z"
      },
      {
        "duration": 71,
        "start_time": "2022-10-11T20:03:20.308Z"
      },
      {
        "duration": 71,
        "start_time": "2022-10-11T20:04:02.724Z"
      },
      {
        "duration": 79,
        "start_time": "2022-10-11T20:17:49.893Z"
      },
      {
        "duration": 15,
        "start_time": "2022-10-11T20:17:49.973Z"
      },
      {
        "duration": 16,
        "start_time": "2022-10-11T20:17:49.990Z"
      },
      {
        "duration": 10,
        "start_time": "2022-10-11T20:17:50.022Z"
      },
      {
        "duration": 82,
        "start_time": "2022-10-11T20:17:50.034Z"
      },
      {
        "duration": 0,
        "start_time": "2022-10-11T20:17:50.119Z"
      },
      {
        "duration": 0,
        "start_time": "2022-10-11T20:17:50.120Z"
      },
      {
        "duration": 0,
        "start_time": "2022-10-11T20:17:50.122Z"
      },
      {
        "duration": 0,
        "start_time": "2022-10-11T20:17:50.123Z"
      },
      {
        "duration": 0,
        "start_time": "2022-10-11T20:17:50.124Z"
      },
      {
        "duration": 0,
        "start_time": "2022-10-11T20:17:50.126Z"
      },
      {
        "duration": 0,
        "start_time": "2022-10-11T20:17:50.127Z"
      },
      {
        "duration": 0,
        "start_time": "2022-10-11T20:17:50.128Z"
      },
      {
        "duration": 0,
        "start_time": "2022-10-11T20:17:50.129Z"
      },
      {
        "duration": 0,
        "start_time": "2022-10-11T20:17:50.131Z"
      },
      {
        "duration": 0,
        "start_time": "2022-10-11T20:17:50.132Z"
      },
      {
        "duration": 0,
        "start_time": "2022-10-11T20:17:50.133Z"
      },
      {
        "duration": 0,
        "start_time": "2022-10-11T20:17:50.134Z"
      },
      {
        "duration": 0,
        "start_time": "2022-10-11T20:17:50.135Z"
      },
      {
        "duration": 6,
        "start_time": "2022-10-11T20:17:50.137Z"
      },
      {
        "duration": 4,
        "start_time": "2022-10-11T20:17:50.144Z"
      },
      {
        "duration": 13,
        "start_time": "2022-10-11T20:17:50.149Z"
      },
      {
        "duration": 183,
        "start_time": "2022-10-11T20:17:50.164Z"
      },
      {
        "duration": 1255,
        "start_time": "2022-10-11T20:17:50.349Z"
      },
      {
        "duration": 0,
        "start_time": "2022-10-11T20:17:51.605Z"
      },
      {
        "duration": 0,
        "start_time": "2022-10-11T20:17:51.607Z"
      },
      {
        "duration": 0,
        "start_time": "2022-10-11T20:17:51.608Z"
      },
      {
        "duration": 0,
        "start_time": "2022-10-11T20:17:51.609Z"
      },
      {
        "duration": 0,
        "start_time": "2022-10-11T20:17:51.610Z"
      },
      {
        "duration": 0,
        "start_time": "2022-10-11T20:17:51.611Z"
      },
      {
        "duration": 0,
        "start_time": "2022-10-11T20:17:51.612Z"
      },
      {
        "duration": 0,
        "start_time": "2022-10-11T20:17:51.621Z"
      },
      {
        "duration": 4,
        "start_time": "2022-10-11T20:21:14.232Z"
      },
      {
        "duration": 73,
        "start_time": "2022-10-11T20:21:25.886Z"
      },
      {
        "duration": 74,
        "start_time": "2022-10-11T20:24:21.709Z"
      },
      {
        "duration": 118,
        "start_time": "2022-10-11T20:24:32.883Z"
      },
      {
        "duration": 70,
        "start_time": "2022-10-11T20:26:49.897Z"
      },
      {
        "duration": 13,
        "start_time": "2022-10-11T20:26:57.263Z"
      },
      {
        "duration": 3,
        "start_time": "2022-10-11T20:37:18.800Z"
      },
      {
        "duration": 11,
        "start_time": "2022-10-11T20:38:01.401Z"
      },
      {
        "duration": 593,
        "start_time": "2022-10-12T08:42:01.648Z"
      },
      {
        "duration": 22,
        "start_time": "2022-10-12T08:42:02.242Z"
      },
      {
        "duration": 38,
        "start_time": "2022-10-12T08:42:02.266Z"
      },
      {
        "duration": 19,
        "start_time": "2022-10-12T08:42:02.306Z"
      },
      {
        "duration": 6,
        "start_time": "2022-10-12T08:42:02.326Z"
      },
      {
        "duration": 44,
        "start_time": "2022-10-12T08:42:02.334Z"
      },
      {
        "duration": 18,
        "start_time": "2022-10-12T08:42:02.379Z"
      },
      {
        "duration": 9,
        "start_time": "2022-10-12T08:42:02.398Z"
      },
      {
        "duration": 6,
        "start_time": "2022-10-12T08:42:02.409Z"
      },
      {
        "duration": 10,
        "start_time": "2022-10-12T08:42:02.417Z"
      },
      {
        "duration": 20,
        "start_time": "2022-10-12T08:42:02.428Z"
      },
      {
        "duration": 49,
        "start_time": "2022-10-12T08:42:02.450Z"
      },
      {
        "duration": 20,
        "start_time": "2022-10-12T08:42:02.502Z"
      },
      {
        "duration": 38,
        "start_time": "2022-10-12T08:42:02.524Z"
      },
      {
        "duration": 16,
        "start_time": "2022-10-12T08:42:02.565Z"
      },
      {
        "duration": 36,
        "start_time": "2022-10-12T08:42:02.583Z"
      },
      {
        "duration": 19,
        "start_time": "2022-10-12T08:42:02.621Z"
      },
      {
        "duration": 16,
        "start_time": "2022-10-12T08:42:02.642Z"
      },
      {
        "duration": 18,
        "start_time": "2022-10-12T08:42:02.660Z"
      },
      {
        "duration": 17,
        "start_time": "2022-10-12T08:42:02.680Z"
      },
      {
        "duration": 5,
        "start_time": "2022-10-12T08:42:02.699Z"
      },
      {
        "duration": 20,
        "start_time": "2022-10-12T08:42:02.706Z"
      },
      {
        "duration": 855,
        "start_time": "2022-10-12T08:42:02.727Z"
      },
      {
        "duration": 254,
        "start_time": "2022-10-12T08:42:03.585Z"
      },
      {
        "duration": 791,
        "start_time": "2022-10-12T08:42:03.841Z"
      },
      {
        "duration": 63,
        "start_time": "2022-10-12T08:42:04.634Z"
      },
      {
        "duration": 313,
        "start_time": "2022-10-12T08:42:04.699Z"
      },
      {
        "duration": 9,
        "start_time": "2022-10-12T08:42:05.016Z"
      },
      {
        "duration": 311,
        "start_time": "2022-10-12T08:42:05.026Z"
      },
      {
        "duration": 2,
        "start_time": "2022-10-12T08:42:05.339Z"
      },
      {
        "duration": 64,
        "start_time": "2022-10-12T08:42:05.342Z"
      },
      {
        "duration": 309,
        "start_time": "2022-10-12T08:42:05.408Z"
      },
      {
        "duration": 299,
        "start_time": "2022-10-12T08:42:05.719Z"
      }
    ],
    "colab": {
      "provenance": [],
      "include_colab_link": true
    },
    "kernelspec": {
      "display_name": "Python 3 (ipykernel)",
      "language": "python",
      "name": "python3"
    },
    "language_info": {
      "codemirror_mode": {
        "name": "ipython",
        "version": 3
      },
      "file_extension": ".py",
      "mimetype": "text/x-python",
      "name": "python",
      "nbconvert_exporter": "python",
      "pygments_lexer": "ipython3",
      "version": "3.9.5"
    },
    "toc": {
      "base_numbering": 1,
      "nav_menu": {},
      "number_sections": true,
      "sideBar": true,
      "skip_h1_title": true,
      "title_cell": "Table of Contents",
      "title_sidebar": "Contents",
      "toc_cell": false,
      "toc_position": {},
      "toc_section_display": true,
      "toc_window_display": true
    }
  },
  "nbformat": 4,
  "nbformat_minor": 5
}